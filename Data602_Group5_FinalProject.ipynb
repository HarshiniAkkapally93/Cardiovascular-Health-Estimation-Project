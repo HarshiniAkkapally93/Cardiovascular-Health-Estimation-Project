{
 "cells": [
  {
   "cell_type": "markdown",
   "id": "MHfnpcDhyLRt",
   "metadata": {
    "id": "MHfnpcDhyLRt"
   },
   "source": [
    "**Introduction**\n",
    "\n",
    "Cardiovascular disease can take many forms: high blood pressure, coronary artery disease, valvular heart disease, stroke, or arrhythmias (irregular heartbeat). According to the World Health Organization, cardiovascular disease causes more than 17 million deaths in the world each year and is responsible for half of all deaths in the United States.\n",
    "\n",
    "Coronary artery disease, the most common form of cardiovascular disease, is the leading cause of death in America today. Cancer, the second largest killer, accounts for a little more than half as many deaths.\n",
    "\n",
    "In the United States, more than 80 million Americans have some form of cardiovascular disease. But thanks to many studies involving thousands of patients, researchers have identified certain factors that play important roles in a person’s chances of developing heart disease. These are called risk factors.\n",
    "\n",
    "Risk factors are divided into two categories: major and contributing. Major risk factors  have been proven to increase your risk of heart disease. Contributing risk factors can lead to an increased risk of heart disease.\n",
    "\n",
    "The more risk factors you have, the more likely you are to develop heart disease. Some risk factors can be changed, treated, or modified, and some cannot. But by controlling as many risk factors as possible through lifestyle changes, medicines, or both, you can reduce your risk of heart disease."
   ]
  },
  {
   "cell_type": "code",
   "execution_count": 1,
   "id": "1150601d",
   "metadata": {},
   "outputs": [
    {
     "name": "stdout",
     "output_type": "stream",
     "text": [
      "Requirement already satisfied: tensorflow-addons in /Users/sraharsh/opt/anaconda3/lib/python3.9/site-packages (0.18.0)\n",
      "Requirement already satisfied: packaging in /Users/sraharsh/opt/anaconda3/lib/python3.9/site-packages (from tensorflow-addons) (21.0)\n",
      "Requirement already satisfied: typeguard>=2.7 in /Users/sraharsh/opt/anaconda3/lib/python3.9/site-packages (from tensorflow-addons) (2.13.3)\n",
      "Requirement already satisfied: pyparsing>=2.0.2 in /Users/sraharsh/opt/anaconda3/lib/python3.9/site-packages (from packaging->tensorflow-addons) (3.0.4)\n"
     ]
    }
   ],
   "source": [
    "!pip install tensorflow-addons"
   ]
  },
  {
   "cell_type": "code",
   "execution_count": 2,
   "id": "44de747e",
   "metadata": {
    "id": "44de747e"
   },
   "outputs": [],
   "source": [
    "import pandas as pd\n",
    "import numpy as np\n",
    "import matplotlib.pyplot as plt\n",
    "import seaborn as sns"
   ]
  },
  {
   "cell_type": "code",
   "execution_count": 3,
   "id": "OXEfFdgzuYPT",
   "metadata": {
    "id": "OXEfFdgzuYPT"
   },
   "outputs": [],
   "source": [
    "import zipfile\n",
    "path_to_zip_file = './BRFSS.zip'\n",
    "with zipfile.ZipFile(path_to_zip_file, 'r') as zip_ref:\n",
    "    zip_ref.extractall('./')"
   ]
  },
  {
   "cell_type": "code",
   "execution_count": 4,
   "id": "80b1935c",
   "metadata": {
    "colab": {
     "base_uri": "https://localhost:8080/",
     "height": 300
    },
    "id": "80b1935c",
    "outputId": "f7103a41-e188-49f2-c388-5fcebb0e40a5"
   },
   "outputs": [
    {
     "data": {
      "text/html": [
       "<div>\n",
       "<style scoped>\n",
       "    .dataframe tbody tr th:only-of-type {\n",
       "        vertical-align: middle;\n",
       "    }\n",
       "\n",
       "    .dataframe tbody tr th {\n",
       "        vertical-align: top;\n",
       "    }\n",
       "\n",
       "    .dataframe thead th {\n",
       "        text-align: right;\n",
       "    }\n",
       "</style>\n",
       "<table border=\"1\" class=\"dataframe\">\n",
       "  <thead>\n",
       "    <tr style=\"text-align: right;\">\n",
       "      <th></th>\n",
       "      <th>_STATE</th>\n",
       "      <th>FMONTH</th>\n",
       "      <th>IDATE</th>\n",
       "      <th>IMONTH</th>\n",
       "      <th>IDAY</th>\n",
       "      <th>IYEAR</th>\n",
       "      <th>DISPCODE</th>\n",
       "      <th>SEQNO</th>\n",
       "      <th>_PSU</th>\n",
       "      <th>CTELENM1</th>\n",
       "      <th>...</th>\n",
       "      <th>_RFPSA23</th>\n",
       "      <th>_CLNSCPY</th>\n",
       "      <th>_SGMSCPY</th>\n",
       "      <th>_SGMS10Y</th>\n",
       "      <th>_RFBLDS4</th>\n",
       "      <th>_STOLDNA</th>\n",
       "      <th>_VIRCOLN</th>\n",
       "      <th>_SBONTIM</th>\n",
       "      <th>_CRCREC1</th>\n",
       "      <th>_AIDTST4</th>\n",
       "    </tr>\n",
       "  </thead>\n",
       "  <tbody>\n",
       "    <tr>\n",
       "      <th>0</th>\n",
       "      <td>1.0</td>\n",
       "      <td>1.0</td>\n",
       "      <td>1042020</td>\n",
       "      <td>1</td>\n",
       "      <td>4</td>\n",
       "      <td>2020</td>\n",
       "      <td>1100.0</td>\n",
       "      <td>2020000001</td>\n",
       "      <td>2.020000e+09</td>\n",
       "      <td>1.0</td>\n",
       "      <td>...</td>\n",
       "      <td>NaN</td>\n",
       "      <td>1.0</td>\n",
       "      <td>3.0</td>\n",
       "      <td>3.0</td>\n",
       "      <td>3.0</td>\n",
       "      <td>3.0</td>\n",
       "      <td>3.0</td>\n",
       "      <td>3.0</td>\n",
       "      <td>1.0</td>\n",
       "      <td>1.0</td>\n",
       "    </tr>\n",
       "    <tr>\n",
       "      <th>1</th>\n",
       "      <td>1.0</td>\n",
       "      <td>1.0</td>\n",
       "      <td>2072020</td>\n",
       "      <td>2</td>\n",
       "      <td>7</td>\n",
       "      <td>2020</td>\n",
       "      <td>1200.0</td>\n",
       "      <td>2020000002</td>\n",
       "      <td>2.020000e+09</td>\n",
       "      <td>1.0</td>\n",
       "      <td>...</td>\n",
       "      <td>NaN</td>\n",
       "      <td>NaN</td>\n",
       "      <td>NaN</td>\n",
       "      <td>NaN</td>\n",
       "      <td>NaN</td>\n",
       "      <td>NaN</td>\n",
       "      <td>NaN</td>\n",
       "      <td>2.0</td>\n",
       "      <td>NaN</td>\n",
       "      <td>NaN</td>\n",
       "    </tr>\n",
       "    <tr>\n",
       "      <th>2</th>\n",
       "      <td>1.0</td>\n",
       "      <td>1.0</td>\n",
       "      <td>1232020</td>\n",
       "      <td>1</td>\n",
       "      <td>23</td>\n",
       "      <td>2020</td>\n",
       "      <td>1100.0</td>\n",
       "      <td>2020000003</td>\n",
       "      <td>2.020000e+09</td>\n",
       "      <td>1.0</td>\n",
       "      <td>...</td>\n",
       "      <td>NaN</td>\n",
       "      <td>1.0</td>\n",
       "      <td>3.0</td>\n",
       "      <td>3.0</td>\n",
       "      <td>3.0</td>\n",
       "      <td>3.0</td>\n",
       "      <td>3.0</td>\n",
       "      <td>3.0</td>\n",
       "      <td>1.0</td>\n",
       "      <td>2.0</td>\n",
       "    </tr>\n",
       "    <tr>\n",
       "      <th>3</th>\n",
       "      <td>1.0</td>\n",
       "      <td>1.0</td>\n",
       "      <td>1092020</td>\n",
       "      <td>1</td>\n",
       "      <td>9</td>\n",
       "      <td>2020</td>\n",
       "      <td>1100.0</td>\n",
       "      <td>2020000004</td>\n",
       "      <td>2.020000e+09</td>\n",
       "      <td>1.0</td>\n",
       "      <td>...</td>\n",
       "      <td>NaN</td>\n",
       "      <td>NaN</td>\n",
       "      <td>NaN</td>\n",
       "      <td>NaN</td>\n",
       "      <td>NaN</td>\n",
       "      <td>NaN</td>\n",
       "      <td>NaN</td>\n",
       "      <td>NaN</td>\n",
       "      <td>NaN</td>\n",
       "      <td>2.0</td>\n",
       "    </tr>\n",
       "    <tr>\n",
       "      <th>4</th>\n",
       "      <td>1.0</td>\n",
       "      <td>1.0</td>\n",
       "      <td>1042020</td>\n",
       "      <td>1</td>\n",
       "      <td>4</td>\n",
       "      <td>2020</td>\n",
       "      <td>1100.0</td>\n",
       "      <td>2020000005</td>\n",
       "      <td>2.020000e+09</td>\n",
       "      <td>1.0</td>\n",
       "      <td>...</td>\n",
       "      <td>NaN</td>\n",
       "      <td>NaN</td>\n",
       "      <td>NaN</td>\n",
       "      <td>NaN</td>\n",
       "      <td>NaN</td>\n",
       "      <td>NaN</td>\n",
       "      <td>NaN</td>\n",
       "      <td>NaN</td>\n",
       "      <td>NaN</td>\n",
       "      <td>9.0</td>\n",
       "    </tr>\n",
       "  </tbody>\n",
       "</table>\n",
       "<p>5 rows × 279 columns</p>\n",
       "</div>"
      ],
      "text/plain": [
       "   _STATE  FMONTH    IDATE  IMONTH  IDAY  IYEAR  DISPCODE       SEQNO  \\\n",
       "0     1.0     1.0  1042020       1     4   2020    1100.0  2020000001   \n",
       "1     1.0     1.0  2072020       2     7   2020    1200.0  2020000002   \n",
       "2     1.0     1.0  1232020       1    23   2020    1100.0  2020000003   \n",
       "3     1.0     1.0  1092020       1     9   2020    1100.0  2020000004   \n",
       "4     1.0     1.0  1042020       1     4   2020    1100.0  2020000005   \n",
       "\n",
       "           _PSU  CTELENM1  ...  _RFPSA23  _CLNSCPY  _SGMSCPY  _SGMS10Y  \\\n",
       "0  2.020000e+09       1.0  ...       NaN       1.0       3.0       3.0   \n",
       "1  2.020000e+09       1.0  ...       NaN       NaN       NaN       NaN   \n",
       "2  2.020000e+09       1.0  ...       NaN       1.0       3.0       3.0   \n",
       "3  2.020000e+09       1.0  ...       NaN       NaN       NaN       NaN   \n",
       "4  2.020000e+09       1.0  ...       NaN       NaN       NaN       NaN   \n",
       "\n",
       "   _RFBLDS4  _STOLDNA  _VIRCOLN  _SBONTIM  _CRCREC1  _AIDTST4  \n",
       "0       3.0       3.0       3.0       3.0       1.0       1.0  \n",
       "1       NaN       NaN       NaN       2.0       NaN       NaN  \n",
       "2       3.0       3.0       3.0       3.0       1.0       2.0  \n",
       "3       NaN       NaN       NaN       NaN       NaN       2.0  \n",
       "4       NaN       NaN       NaN       NaN       NaN       9.0  \n",
       "\n",
       "[5 rows x 279 columns]"
      ]
     },
     "execution_count": 4,
     "metadata": {},
     "output_type": "execute_result"
    }
   ],
   "source": [
    "survey_df = pd.read_csv('brfss_data.csv', low_memory=False)\n",
    "survey_df.head() #print the first five rows in the dataset "
   ]
  },
  {
   "cell_type": "code",
   "execution_count": 5,
   "id": "3a9523b6",
   "metadata": {
    "colab": {
     "base_uri": "https://localhost:8080/"
    },
    "id": "3a9523b6",
    "outputId": "df2b5d37-89a8-4c7b-e0bd-b76a7753cb6e"
   },
   "outputs": [
    {
     "data": {
      "text/plain": [
       "(401958, 279)"
      ]
     },
     "execution_count": 5,
     "metadata": {},
     "output_type": "execute_result"
    }
   ],
   "source": [
    "survey_df.shape #there are 40k rows and 279 features in the data "
   ]
  },
  {
   "cell_type": "code",
   "execution_count": 6,
   "id": "8cf5a083",
   "metadata": {
    "colab": {
     "base_uri": "https://localhost:8080/"
    },
    "id": "8cf5a083",
    "outputId": "f7b91a66-adc0-4e6f-a537-d4fdc7330437"
   },
   "outputs": [
    {
     "name": "stdout",
     "output_type": "stream",
     "text": [
      "['_STATE', 'FMONTH', 'IDATE', 'IMONTH', 'IDAY', 'IYEAR', 'DISPCODE', 'SEQNO', '_PSU', 'CTELENM1', 'PVTRESD1', 'COLGHOUS', 'STATERE1', 'CELPHONE', 'LADULT1', 'COLGSEX', 'NUMADULT', 'LANDSEX', 'NUMMEN', 'NUMWOMEN', 'RESPSLCT', 'SAFETIME', 'CTELNUM1', 'CELLFON5', 'CADULT1', 'CELLSEX', 'PVTRESD3', 'CCLGHOUS', 'CSTATE1', 'LANDLINE', 'HHADULT', 'SEXVAR', 'GENHLTH', 'PHYSHLTH', 'MENTHLTH', 'POORHLTH', 'HLTHPLN1', 'PERSDOC2', 'MEDCOST', 'CHECKUP1', 'EXERANY2', 'SLEPTIM1', 'CVDINFR4', 'CVDCRHD4', 'CVDSTRK3', 'ASTHMA3', 'ASTHNOW', 'CHCSCNCR', 'CHCOCNCR', 'CHCCOPD2', 'HAVARTH4', 'ADDEPEV3', 'CHCKDNY2', 'DIABETE4', 'DIABAGE3', 'LASTDEN4', 'RMVTETH4', 'MARITAL', 'EDUCA', 'RENTHOM1', 'NUMHHOL3', 'NUMPHON3', 'CPDEMO1B', 'VETERAN3', 'EMPLOY1', 'CHILDREN', 'INCOME2', 'PREGNANT', 'WEIGHT2', 'HEIGHT3', 'DEAF', 'BLIND', 'DECIDE', 'DIFFWALK', 'DIFFDRES', 'DIFFALON', 'SMOKE100', 'SMOKDAY2', 'STOPSMK2', 'LASTSMK2', 'USENOW3', 'ALCDAY5', 'AVEDRNK3', 'DRNK3GE5', 'MAXDRNKS', 'FLUSHOT7', 'FLSHTMY3', 'SHINGLE2', 'PNEUVAC4', 'FALL12MN', 'FALLINJ4', 'SEATBELT', 'DRNKDRI2', 'HADMAM', 'HOWLONG', 'HADPAP2', 'LASTPAP2', 'HPVTEST', 'HPLSTTST', 'HADHYST2', 'PCPSAAD3', 'PCPSADI1', 'PCPSARE1', 'PSATEST1', 'PSATIME', 'PCPSARS1', 'COLNSCPY', 'COLNTEST', 'SIGMSCPY', 'SIGMTEST', 'BLDSTOL1', 'LSTBLDS4', 'STOOLDNA', 'SDNATEST', 'VIRCOLON', 'VCLNTEST', 'HIVTST7', 'HIVTSTD3', 'HIVRISK5', 'PDIABTST', 'PREDIAB1', 'INSULIN1', 'BLDSUGAR', 'FEETCHK3', 'DOCTDIAB', 'CHKHEMO3', 'FEETCHK', 'EYEEXAM1', 'DIABEYE', 'DIABEDU', 'TOLDCFS', 'HAVECFS', 'WORKCFS', 'TOLDHEPC', 'TRETHEPC', 'PRIRHEPC', 'HAVEHEPC', 'HAVEHEPB', 'MEDSHEPB', 'HLTHCVR1', 'CIMEMLOS', 'CDHOUSE', 'CDASSIST', 'CDHELP', 'CDSOCIAL', 'CDDISCUS', 'CAREGIV1', 'CRGVREL4', 'CRGVLNG1', 'CRGVHRS1', 'CRGVPRB3', 'CRGVALZD', 'CRGVPER1', 'CRGVHOU1', 'CRGVEXPT', 'ECIGARET', 'ECIGNOW', 'MARIJAN1', 'USEMRJN2', 'RSNMRJN1', 'LCSFIRST', 'LCSLAST', 'LCSNUMCG', 'LCSCTSCN', 'CNCRDIFF', 'CNCRAGE', 'CNCRTYP1', 'CSRVTRT3', 'CSRVDOC1', 'CSRVSUM', 'CSRVRTRN', 'CSRVINST', 'CSRVINSR', 'CSRVDEIN', 'CSRVCLIN', 'CSRVPAIN', 'CSRVCTL2', 'PCPSADE1', 'PCDMDEC1', 'HPVADVC4', 'HPVADSHT', 'TETANUS1', 'IMFVPLA1', 'BIRTHSEX', 'SOMALE', 'SOFEMALE', 'TRNSGNDR', 'ACEDEPRS', 'ACEDRINK', 'ACEDRUGS', 'ACEPRISN', 'ACEDIVRC', 'ACEPUNCH', 'ACEHURT1', 'ACESWEAR', 'ACETOUCH', 'ACETTHEM', 'ACEHVSEX', 'RCSGENDR', 'RCSRLTN2', 'CASTHDX2', 'CASTHNO2', 'QSTVER', 'QSTLANG', '_METSTAT', '_URBSTAT', 'MSCODE', '_STSTR', '_STRWT', '_RAWRAKE', '_WT2RAKE', '_IMPRACE', '_CHISPNC', '_CRACE1', '_CPRACE', '_CLLCPWT', '_DUALUSE', '_DUALCOR', '_LLCPWT2', '_LLCPWT', '_RFHLTH', '_PHYS14D', '_MENT14D', '_HCVU651', '_TOTINDA', '_MICHD', '_LTASTH1', '_CASTHM1', '_ASTHMS1', '_DRDXAR2', '_EXTETH3', '_ALTETH3', '_DENVST3', '_PRACE1', '_MRACE1', '_HISPANC', '_RACE', '_RACEG21', '_RACEGR3', '_RACEPRV', '_SEX', '_AGEG5YR', '_AGE65YR', '_AGE80', '_AGE_G', 'HTIN4', 'HTM4', 'WTKG3', '_BMI5', '_BMI5CAT', '_RFBMI5', '_CHLDCNT', '_EDUCAG', '_INCOMG', '_SMOKER3', '_RFSMOK3', 'DRNKANY5', 'DROCDY3_', '_RFBING5', '_DRNKWK1', '_RFDRHV7', '_FLSHOT7', '_PNEUMO3', '_RFSEAT2', '_RFSEAT3', '_DRNKDRV', '_RFMAM22', '_MAM5023', '_RFPAP35', '_RFPSA23', '_CLNSCPY', '_SGMSCPY', '_SGMS10Y', '_RFBLDS4', '_STOLDNA', '_VIRCOLN', '_SBONTIM', '_CRCREC1', '_AIDTST4']\n"
     ]
    }
   ],
   "source": [
    "print(survey_df.columns.tolist()) #these are 279 features in the dataset."
   ]
  },
  {
   "cell_type": "markdown",
   "id": "H6cM-9ZJxMWb",
   "metadata": {
    "id": "H6cM-9ZJxMWb"
   },
   "source": [
    "According to Texas Heart Institute, As disscussed above, the major risk factors which has proven to increases the risk of heart diseases are: \n",
    "\n",
    "**High Blood Pressure (Hypertension)**- High blood pressure increases your risk of heart disease, heart attack, and stroke. If you are obese, smoke, or have high blood cholesterol levels along with high blood pressure, your risk of heart disease or stroke greatly increases. \n",
    "Blood pressure can vary with activity and age, but a normal reading for a healthy adult who is resting should be 120/80.\n",
    "\n",
    "**Diabetes**-Heart problems are the leading cause of death among people with diabetes, especially in the case of adult-onset or Type 2 diabetes (also known as non-insulin-dependent diabetes). Certain racial and ethnic groups (African Americans, Hispanics, Asian and Pacific Islanders, and Native Americans) have a greater risk of developing diabetes. The American Heart Association estimates that 65% of patients with diabetes die of some form of cardiovascular disease.\n",
    "\n",
    "**Obesity and Overweight**-Extra weight can lead to increased high cholesterol levels, high blood pressure, and diabetes, all major  risk factors for heart disease.\n",
    "\n",
    "Doctors measure obesity in terms of body mass index (BMI), which is a formula of kilograms divided by height in meters squared (BMI =W [kg]/H [m2]). According to the National Heart, Lung, and Blood Institute (NHLBI), being overweight is defined as having a BMI over 25. Those with a number over 30 are considered obese. You can find out your BMI by using the calculator below. Then, take that value and find your body composition in the table below the calculator.\n",
    "\n",
    "**Smoking**- Most people know that cigarette and tobacco smoking increases your risk of lung cancer, but few realize that it also greatly increases the risk of heart disease and peripheral vascular disease (disease in the vessels that supply blood to the arms and legs). According to the American Heart Association, more than 480,000 Americans die each year of smoking-related illnesses. Many of these deaths are because of the effects of smoking on the heart and blood vessels.\n",
    "\n",
    "Smoking increases heart rate, tightens major arteries, and can create irregularities in the timing of heartbeats, all of which make your heart work harder. Smoking also raises blood pressure, another major risk factor. Although nicotine is the main active agent in cigarette smoke, other chemicals and compounds like tar and carbon monoxide are also harmful to your heart in many ways.\n",
    "\n",
    "**Physical Inactivity**-People who are not active have a greater risk of heart attack than do people who exercise regularly. Exercise burns calories to help maintain a healthy weight, helps to control cholesterol levels and diabetes, and may lower blood pressure. Exercise also strengthens the heart muscle and makes the arteries more flexible. Those who actively burn 500 to 3500 calories per week, either at work or through exercise, can expect to live longer than people who do not exercise. Even moderate-intensity exercise is helpful if done regularly.\n",
    "\n",
    "**Gender**- Overall, men have a higher risk of heart attack than women. But the difference narrows after women reach menopause. After the age of 65, the risk of heart disease is about the same between the sexes when other risk factors are similar. Cardiovascular diseases affect more women than men and heart attacks are generally more severe in women than in men.\n",
    "\n",
    "**Heredity**- Heart disease tends to run in families. For example, if your parents or siblings had a heart or circulatory problem before age 55, then you are at greater risk for heart disease than someone who does not have that family history. Risk factors (including high blood pressure, diabetes, and obesity) may also be passed from one generation to another.\n",
    "\n",
    "Some forms of cardiovascular disease are more common among certain racial and ethnic groups. For example, studies have shown that African Americans have more severe high blood pressure and a greater risk of heart disease than Caucasians.\n",
    "\n",
    "**Age**- Older age is a risk factor for heart disease. In fact, about 4 of every 5 deaths due to heart disease occur in people older than 65. As we age, our hearts tend not to work as well. The heart’s walls may thicken and arteries may stiffen and harden, making the heart less able to pump blood to the muscles of the body. Because of these changes, the risk of developing cardiovascular disease increases with age. Because of their sex hormones, women are usually protected from heart disease until menopause, when their risk increases.\n",
    "\n",
    "**Contributing Risk Factors**\n",
    "\n",
    "\n",
    "**Stress**-Stress is considered a contributing risk factor for heart disease. The effects of emotional stress, behavior habits, and socioeconomic status on the risk of heart disease and heart attack are still being studied.\n",
    "\n",
    "**Sex hormones**- Sex hormones appear to play a role in heart disease. Among women younger than 40, heart disease is rare. But between the ages 40 and 65, around the time when most women go through menopause, the chances that a woman will have a heart attack greatly increase. From 65 onward, women make up about half of all heart attack victims.\\\n",
    "\n",
    "**Birth control pills**- Early types of birth control pills contained high levels of estrogen and progestin, and taking these pills increased the risk of heart disease and stroke, especially in women older than 35 who smoked. But birth control pills today contain much lower doses of hormones and are considered safe for women younger than 35 who do not smoke or have high blood pressure.\n",
    "\n",
    "**Alcohol**- But drinking more than a moderate amount of alcohol can cause heart-related problems such as high blood pressure, stroke, irregular heartbeats, and cardiomyopathy (disease of the heart muscle).\n",
    "\n",
    "Source Link: https://www.texasheart.org/heart-health/heart-information-center/topics/heart-disease-risk-factors/\n",
    "\n",
    "\n",
    "According to the National Library of Medicine,\n",
    "\n",
    "There other factor which contributes to the risk of heart dieseases are:\n",
    "\n",
    "Coronary Heart Disease, Stroke,  myocardial infarction (Heart Attack)  as target feature.\n",
    "\n",
    "Source Link: https://www.ncbi.nlm.nih.gov/pmc/articles/PMC5686931/\n",
    "\n"
   ]
  },
  {
   "cell_type": "markdown",
   "id": "29190d89",
   "metadata": {},
   "source": [
    "#### Problem Statement\n",
    "\n",
    "- The main goal of this project is an estimation of the risks of heart attacks for new members of the medical process society.\n",
    "\n",
    "We can generate and add these factors according to the dataset features by our own data and check the accuracy of our model. "
   ]
  },
  {
   "cell_type": "markdown",
   "id": "C1owIBgd4TJ4",
   "metadata": {
    "id": "C1owIBgd4TJ4"
   },
   "source": [
    "Let's take the influencing factors from the dataset."
   ]
  },
  {
   "cell_type": "markdown",
   "id": "F2Of64lz4c2a",
   "metadata": {
    "id": "F2Of64lz4c2a"
   },
   "source": [
    "Diabetes -> DIABETE4\n",
    "\n",
    "Obesity and Overweight -> _RFBMI5\n",
    "\n",
    "Smoking -> _SMOKER3\n",
    "\n",
    "Physical Inactivity -> _TOTINDA\n",
    "\n",
    "Gender -> SEXVAR\n",
    "\n",
    "Heredity -> _IMPRACE\n",
    "\n",
    "Age -> _AGE65YR\n",
    "\n",
    "Alcohol -> DRNKANY5\n",
    "\n",
    "Coronary Heart Disease -> CVDCRHD4\n",
    "\n",
    "Stroke -> CVDSTRK3\n",
    "\n",
    "Heart Attack -> CVDINFR4"
   ]
  },
  {
   "cell_type": "code",
   "execution_count": 7,
   "id": "baa343c7",
   "metadata": {
    "colab": {
     "base_uri": "https://localhost:8080/",
     "height": 270
    },
    "id": "baa343c7",
    "outputId": "9e9e7e7c-8a63-4498-f9e9-0df80d100afe"
   },
   "outputs": [
    {
     "data": {
      "text/html": [
       "<div>\n",
       "<style scoped>\n",
       "    .dataframe tbody tr th:only-of-type {\n",
       "        vertical-align: middle;\n",
       "    }\n",
       "\n",
       "    .dataframe tbody tr th {\n",
       "        vertical-align: top;\n",
       "    }\n",
       "\n",
       "    .dataframe thead th {\n",
       "        text-align: right;\n",
       "    }\n",
       "</style>\n",
       "<table border=\"1\" class=\"dataframe\">\n",
       "  <thead>\n",
       "    <tr style=\"text-align: right;\">\n",
       "      <th></th>\n",
       "      <th>SEXVAR</th>\n",
       "      <th>_IMPRACE</th>\n",
       "      <th>_AGE65YR</th>\n",
       "      <th>GENHLTH</th>\n",
       "      <th>_RFBMI5</th>\n",
       "      <th>_TOTINDA</th>\n",
       "      <th>_SMOKER3</th>\n",
       "      <th>DRNKANY5</th>\n",
       "      <th>DIABETE4</th>\n",
       "      <th>CVDSTRK3</th>\n",
       "      <th>CVDCRHD4</th>\n",
       "      <th>CVDINFR4</th>\n",
       "    </tr>\n",
       "  </thead>\n",
       "  <tbody>\n",
       "    <tr>\n",
       "      <th>0</th>\n",
       "      <td>2.0</td>\n",
       "      <td>1.0</td>\n",
       "      <td>1.0</td>\n",
       "      <td>2.0</td>\n",
       "      <td>1.0</td>\n",
       "      <td>1.0</td>\n",
       "      <td>1.0</td>\n",
       "      <td>2.0</td>\n",
       "      <td>1.0</td>\n",
       "      <td>2.0</td>\n",
       "      <td>2.0</td>\n",
       "      <td>2.0</td>\n",
       "    </tr>\n",
       "    <tr>\n",
       "      <th>1</th>\n",
       "      <td>2.0</td>\n",
       "      <td>2.0</td>\n",
       "      <td>2.0</td>\n",
       "      <td>3.0</td>\n",
       "      <td>2.0</td>\n",
       "      <td>1.0</td>\n",
       "      <td>9.0</td>\n",
       "      <td>9.0</td>\n",
       "      <td>3.0</td>\n",
       "      <td>2.0</td>\n",
       "      <td>2.0</td>\n",
       "      <td>2.0</td>\n",
       "    </tr>\n",
       "    <tr>\n",
       "      <th>2</th>\n",
       "      <td>2.0</td>\n",
       "      <td>2.0</td>\n",
       "      <td>2.0</td>\n",
       "      <td>3.0</td>\n",
       "      <td>9.0</td>\n",
       "      <td>1.0</td>\n",
       "      <td>4.0</td>\n",
       "      <td>2.0</td>\n",
       "      <td>3.0</td>\n",
       "      <td>2.0</td>\n",
       "      <td>2.0</td>\n",
       "      <td>2.0</td>\n",
       "    </tr>\n",
       "    <tr>\n",
       "      <th>3</th>\n",
       "      <td>2.0</td>\n",
       "      <td>1.0</td>\n",
       "      <td>2.0</td>\n",
       "      <td>1.0</td>\n",
       "      <td>9.0</td>\n",
       "      <td>2.0</td>\n",
       "      <td>4.0</td>\n",
       "      <td>2.0</td>\n",
       "      <td>3.0</td>\n",
       "      <td>2.0</td>\n",
       "      <td>2.0</td>\n",
       "      <td>2.0</td>\n",
       "    </tr>\n",
       "    <tr>\n",
       "      <th>4</th>\n",
       "      <td>2.0</td>\n",
       "      <td>1.0</td>\n",
       "      <td>2.0</td>\n",
       "      <td>2.0</td>\n",
       "      <td>1.0</td>\n",
       "      <td>1.0</td>\n",
       "      <td>4.0</td>\n",
       "      <td>2.0</td>\n",
       "      <td>3.0</td>\n",
       "      <td>1.0</td>\n",
       "      <td>2.0</td>\n",
       "      <td>2.0</td>\n",
       "    </tr>\n",
       "  </tbody>\n",
       "</table>\n",
       "</div>"
      ],
      "text/plain": [
       "   SEXVAR  _IMPRACE  _AGE65YR  GENHLTH  _RFBMI5  _TOTINDA  _SMOKER3  DRNKANY5  \\\n",
       "0     2.0       1.0       1.0      2.0      1.0       1.0       1.0       2.0   \n",
       "1     2.0       2.0       2.0      3.0      2.0       1.0       9.0       9.0   \n",
       "2     2.0       2.0       2.0      3.0      9.0       1.0       4.0       2.0   \n",
       "3     2.0       1.0       2.0      1.0      9.0       2.0       4.0       2.0   \n",
       "4     2.0       1.0       2.0      2.0      1.0       1.0       4.0       2.0   \n",
       "\n",
       "   DIABETE4  CVDSTRK3  CVDCRHD4  CVDINFR4  \n",
       "0       1.0       2.0       2.0       2.0  \n",
       "1       3.0       2.0       2.0       2.0  \n",
       "2       3.0       2.0       2.0       2.0  \n",
       "3       3.0       2.0       2.0       2.0  \n",
       "4       3.0       1.0       2.0       2.0  "
      ]
     },
     "execution_count": 7,
     "metadata": {},
     "output_type": "execute_result"
    }
   ],
   "source": [
    "survey_selected_df = survey_df[['SEXVAR', '_IMPRACE', '_AGE65YR', 'GENHLTH', '_RFBMI5', '_TOTINDA', '_SMOKER3', 'DRNKANY5', 'DIABETE4', 'CVDSTRK3', 'CVDCRHD4', 'CVDINFR4']]\n",
    "survey_selected_df.head() #These are the columns which majorily affect the risk of heart desease."
   ]
  },
  {
   "cell_type": "code",
   "execution_count": 8,
   "id": "62f4345b",
   "metadata": {
    "colab": {
     "base_uri": "https://localhost:8080/"
    },
    "id": "62f4345b",
    "outputId": "745296a7-9383-4aa6-de7c-0e323abd1b74"
   },
   "outputs": [
    {
     "data": {
      "text/plain": [
       "Index(['SEXVAR', '_IMPRACE', '_AGE65YR', 'GENHLTH', '_RFBMI5', '_TOTINDA',\n",
       "       '_SMOKER3', 'DRNKANY5', 'DIABETE4', 'CVDSTRK3', 'CVDCRHD4', 'CVDINFR4'],\n",
       "      dtype='object')"
      ]
     },
     "execution_count": 8,
     "metadata": {},
     "output_type": "execute_result"
    }
   ],
   "source": [
    "survey_selected_df.columns"
   ]
  },
  {
   "cell_type": "code",
   "execution_count": 9,
   "id": "a47faadd",
   "metadata": {
    "colab": {
     "base_uri": "https://localhost:8080/"
    },
    "id": "a47faadd",
    "outputId": "87ac9360-96ab-43df-9d0d-ce9d34c527b4"
   },
   "outputs": [
    {
     "name": "stderr",
     "output_type": "stream",
     "text": [
      "/Users/sraharsh/opt/anaconda3/lib/python3.9/site-packages/pandas/core/frame.py:5039: SettingWithCopyWarning: \n",
      "A value is trying to be set on a copy of a slice from a DataFrame\n",
      "\n",
      "See the caveats in the documentation: https://pandas.pydata.org/pandas-docs/stable/user_guide/indexing.html#returning-a-view-versus-a-copy\n",
      "  return super().rename(\n"
     ]
    }
   ],
   "source": [
    "#Renaming the columns for better understanding\n",
    "survey_selected_df.rename(columns={'SEXVAR': 'Gender',\n",
    "                                   '_IMPRACE':'Race', \n",
    "                                   '_AGE65YR': 'AGE above 65', \n",
    "                                   'GENHLTH' : 'General Health', \n",
    "                                   '_RFBMI5': 'Over Weight',\n",
    "                                   'DRNKANY5':'Alcohol Usage',\n",
    "                                   '_TOTINDA':'Physical Active Status',\n",
    "                                   '_SMOKER3':'Smoking',\n",
    "                                   'DIABETE4':'Diabetes',\n",
    "                                   'CVDSTRK3':'stroke',\n",
    "                                   'CVDCRHD4':'Coronary Heart Disease',\n",
    "                                   'CVDINFR4':'Heart Attack'},inplace=True) "
   ]
  },
  {
   "cell_type": "code",
   "execution_count": 10,
   "id": "WwrW5aXcjxMd",
   "metadata": {
    "colab": {
     "base_uri": "https://localhost:8080/"
    },
    "id": "WwrW5aXcjxMd",
    "outputId": "e327685d-d7f4-49bf-f8d8-bfffaed781e3"
   },
   "outputs": [
    {
     "data": {
      "text/plain": [
       "Index(['Gender', 'Race', 'AGE above 65', 'General Health', 'Over Weight',\n",
       "       'Physical Active Status', 'Smoking', 'Alcohol Usage', 'Diabetes',\n",
       "       'stroke', 'Coronary Heart Disease', 'Heart Attack'],\n",
       "      dtype='object')"
      ]
     },
     "execution_count": 10,
     "metadata": {},
     "output_type": "execute_result"
    }
   ],
   "source": [
    "survey_selected_df.columns"
   ]
  },
  {
   "cell_type": "markdown",
   "id": "3pmEn7bfoKAp",
   "metadata": {
    "id": "3pmEn7bfoKAp"
   },
   "source": [
    "**Checking the Missing Values in the data**"
   ]
  },
  {
   "cell_type": "code",
   "execution_count": 11,
   "id": "58a074bd",
   "metadata": {
    "colab": {
     "base_uri": "https://localhost:8080/"
    },
    "id": "58a074bd",
    "outputId": "00501c36-c3b3-489e-c67d-a6e7175ae381"
   },
   "outputs": [
    {
     "data": {
      "text/plain": [
       "Gender                    0\n",
       "Race                      0\n",
       "AGE above 65              0\n",
       "General Health            8\n",
       "Over Weight               0\n",
       "Physical Active Status    0\n",
       "Smoking                   0\n",
       "Alcohol Usage             0\n",
       "Diabetes                  6\n",
       "stroke                    3\n",
       "Coronary Heart Disease    3\n",
       "Heart Attack              6\n",
       "dtype: int64"
      ]
     },
     "execution_count": 11,
     "metadata": {},
     "output_type": "execute_result"
    }
   ],
   "source": [
    "survey_selected_df.isnull().sum() #There are very less missing values in the dataset."
   ]
  },
  {
   "cell_type": "markdown",
   "id": "bsIaKKmMPPos",
   "metadata": {
    "id": "bsIaKKmMPPos"
   },
   "source": [
    "We have missing values in Diabetes, Stroke and Heart Attack."
   ]
  },
  {
   "cell_type": "code",
   "execution_count": 12,
   "id": "Zih0Nf4OoTBo",
   "metadata": {
    "colab": {
     "base_uri": "https://localhost:8080/"
    },
    "id": "Zih0Nf4OoTBo",
    "outputId": "eced00f9-95c7-4c1c-b228-c977534de30d"
   },
   "outputs": [
    {
     "name": "stderr",
     "output_type": "stream",
     "text": [
      "/Users/sraharsh/opt/anaconda3/lib/python3.9/site-packages/pandas/util/_decorators.py:311: SettingWithCopyWarning: \n",
      "A value is trying to be set on a copy of a slice from a DataFrame\n",
      "\n",
      "See the caveats in the documentation: https://pandas.pydata.org/pandas-docs/stable/user_guide/indexing.html#returning-a-view-versus-a-copy\n",
      "  return func(*args, **kwargs)\n"
     ]
    }
   ],
   "source": [
    "survey_selected_df.dropna(inplace=True) #dropping na values "
   ]
  },
  {
   "cell_type": "code",
   "execution_count": 13,
   "id": "V5mpJYTWp_oN",
   "metadata": {
    "colab": {
     "base_uri": "https://localhost:8080/"
    },
    "id": "V5mpJYTWp_oN",
    "outputId": "9ce6901f-ee45-41b1-d636-00493e98dea1"
   },
   "outputs": [
    {
     "data": {
      "text/plain": [
       "Index(['Gender', 'Race', 'AGE above 65', 'General Health', 'Over Weight',\n",
       "       'Physical Active Status', 'Smoking', 'Alcohol Usage', 'Diabetes',\n",
       "       'stroke', 'Coronary Heart Disease', 'Heart Attack'],\n",
       "      dtype='object')"
      ]
     },
     "execution_count": 13,
     "metadata": {},
     "output_type": "execute_result"
    }
   ],
   "source": [
    "survey_selected_df.columns"
   ]
  },
  {
   "cell_type": "markdown",
   "id": "YZEDeuStopm6",
   "metadata": {
    "id": "YZEDeuStopm6"
   },
   "source": [
    "**Data Cleaning and Exploration**"
   ]
  },
  {
   "cell_type": "markdown",
   "id": "3Z-ZKdEWrE0o",
   "metadata": {
    "id": "3Z-ZKdEWrE0o"
   },
   "source": [
    "**Feature : Gender**\n",
    "\n",
    "1- Male \n",
    "\n",
    "2- Female \n",
    "\n",
    "Most of the Application forms and Google forms have 1st option as Male and 2nd option as Female. So, we have assume these options."
   ]
  },
  {
   "cell_type": "code",
   "execution_count": 14,
   "id": "nlRGV2i6og3Z",
   "metadata": {
    "colab": {
     "base_uri": "https://localhost:8080/",
     "height": 366
    },
    "id": "nlRGV2i6og3Z",
    "outputId": "2fa86b98-7a60-41cb-d946-fb6b04a58749"
   },
   "outputs": [
    {
     "name": "stdout",
     "output_type": "stream",
     "text": [
      "Gender \n",
      " 2.0    54.238899\n",
      "1.0    45.761101\n",
      "Name: Gender, dtype: float64\n"
     ]
    },
    {
     "data": {
      "image/png": "[encoded data removed]",
      "text/plain": [
       "<Figure size 432x288 with 1 Axes>"
      ]
     },
     "metadata": {
      "needs_background": "light"
     },
     "output_type": "display_data"
    }
   ],
   "source": [
    "print(\"Gender \\n\",(survey_selected_df['Gender'].value_counts()/len(survey_selected_df))*100)\n",
    "sns.countplot(x='Gender', data=survey_selected_df) \n",
    "plt.title('Gender')\n",
    "plt.show() "
   ]
  },
  {
   "cell_type": "markdown",
   "id": "QUN3O96hr9s0",
   "metadata": {
    "id": "QUN3O96hr9s0"
   },
   "source": [
    "\n",
    "\n",
    "*   There are 45% Male and 54% female in Gender column.\n",
    "*  Female are 9% more than male. \n",
    "\n"
   ]
  },
  {
   "cell_type": "markdown",
   "id": "MvyfmGMjtj7h",
   "metadata": {
    "id": "MvyfmGMjtj7h"
   },
   "source": [
    "**Feature: Race Information**\n",
    "\n",
    "\n",
    "1 - White\n",
    "\n",
    "2 - Black\n",
    "\n",
    "3 - Asian\n",
    "\n",
    "4 - American Indian/Alaskan Native\n",
    "\n",
    "5 - Hispanic\n",
    "\n",
    "6 - Other race\n",
    "\n",
    "This information we also got from the Application forms.\n"
   ]
  },
  {
   "cell_type": "code",
   "execution_count": 15,
   "id": "gLWBDOUSp41V",
   "metadata": {
    "colab": {
     "base_uri": "https://localhost:8080/",
     "height": 438
    },
    "id": "gLWBDOUSp41V",
    "outputId": "0f0ae4c7-a6a5-4029-d4b5-99869d903e33"
   },
   "outputs": [
    {
     "name": "stdout",
     "output_type": "stream",
     "text": [
      "Race in %age:\n",
      " 1.0    75.601079\n",
      "5.0     9.057978\n",
      "2.0     7.560755\n",
      "6.0     3.501980\n",
      "3.0     2.548365\n",
      "4.0     1.729843\n",
      "Name: Race, dtype: float64\n"
     ]
    },
    {
     "data": {
      "image/png": "[encoded data removed]",
      "text/plain": [
       "<Figure size 432x288 with 1 Axes>"
      ]
     },
     "metadata": {
      "needs_background": "light"
     },
     "output_type": "display_data"
    }
   ],
   "source": [
    "print(\"Race in %age:\\n\",(survey_selected_df['Race'].value_counts()/len(survey_selected_df))*100)\n",
    "sns.countplot(x='Race', data=survey_selected_df) \n",
    "plt.title('Race')\n",
    "plt.show() "
   ]
  },
  {
   "cell_type": "markdown",
   "id": "q2KVocniCjWh",
   "metadata": {
    "id": "q2KVocniCjWh"
   },
   "source": [
    "In the data most of the participants in White followed by Hispanic community."
   ]
  },
  {
   "cell_type": "markdown",
   "id": "HzQ-PMI1GKp7",
   "metadata": {
    "id": "HzQ-PMI1GKp7"
   },
   "source": [
    "**Feature : Age above 65**"
   ]
  },
  {
   "cell_type": "markdown",
   "id": "AfxFz3Z0DCrt",
   "metadata": {
    "id": "AfxFz3Z0DCrt"
   },
   "source": [
    "Mostly in many pension related forms the option of above 65 or less in asked in \"Yes\" or \"No\" format.\n",
    "\n",
    "Here we are assuming:\n",
    "\n",
    "1- Below 65 \n",
    "\n",
    "2- Above 65\n",
    "\n",
    "3- May be age is not disclosed.\n"
   ]
  },
  {
   "cell_type": "code",
   "execution_count": 16,
   "id": "E_T073aVsVVg",
   "metadata": {
    "colab": {
     "base_uri": "https://localhost:8080/",
     "height": 384
    },
    "id": "E_T073aVsVVg",
    "outputId": "f262d8a0-27ef-43ec-92a3-b8dfe4ca397a"
   },
   "outputs": [
    {
     "name": "stdout",
     "output_type": "stream",
     "text": [
      "AGE above 65 %age:\n",
      " 1.0    63.713104\n",
      "2.0    34.234122\n",
      "3.0     2.052774\n",
      "Name: AGE above 65, dtype: float64\n"
     ]
    },
    {
     "data": {
      "image/png": "[encoded data removed]",
      "text/plain": [
       "<Figure size 432x288 with 1 Axes>"
      ]
     },
     "metadata": {
      "needs_background": "light"
     },
     "output_type": "display_data"
    }
   ],
   "source": [
    "print(\"AGE above 65 %age:\\n\",(survey_selected_df['AGE above 65'].value_counts()/len(survey_selected_df))*100)\n",
    "sns.countplot(x='AGE above 65', data=survey_selected_df) \n",
    "plt.title('AGE above 65')\n",
    "plt.show()  "
   ]
  },
  {
   "cell_type": "markdown",
   "id": "wRWzZEZVEurw",
   "metadata": {
    "id": "wRWzZEZVEurw"
   },
   "source": [
    "We can see that lot of people are below 65 age which is almost 64% in the data and 34% are the above 65 age.  "
   ]
  },
  {
   "cell_type": "markdown",
   "id": "phWHsKjHFgBk",
   "metadata": {
    "id": "phWHsKjHFgBk"
   },
   "source": [
    "Since option 3 doesn't make any sense we are removing it."
   ]
  },
  {
   "cell_type": "code",
   "execution_count": 17,
   "id": "QQBKUmJUCf6d",
   "metadata": {
    "colab": {
     "base_uri": "https://localhost:8080/"
    },
    "id": "QQBKUmJUCf6d",
    "outputId": "775abaff-49ef-4a0e-a42e-53af9f9626f8"
   },
   "outputs": [
    {
     "name": "stderr",
     "output_type": "stream",
     "text": [
      "/Users/sraharsh/opt/anaconda3/lib/python3.9/site-packages/pandas/core/frame.py:4906: SettingWithCopyWarning: \n",
      "A value is trying to be set on a copy of a slice from a DataFrame\n",
      "\n",
      "See the caveats in the documentation: https://pandas.pydata.org/pandas-docs/stable/user_guide/indexing.html#returning-a-view-versus-a-copy\n",
      "  return super().drop(\n"
     ]
    }
   ],
   "source": [
    "survey_selected_df.drop(survey_selected_df[survey_selected_df['AGE above 65'] == 3].index, inplace = True)  #removed the rows which has age as option 3 "
   ]
  },
  {
   "cell_type": "markdown",
   "id": "bqMAVylZGC-M",
   "metadata": {
    "id": "bqMAVylZGC-M"
   },
   "source": [
    "Let's check the Age above 65 feature with gender feature"
   ]
  },
  {
   "cell_type": "code",
   "execution_count": 18,
   "id": "ToEIBy4XF1f7",
   "metadata": {
    "colab": {
     "base_uri": "https://localhost:8080/",
     "height": 295
    },
    "id": "ToEIBy4XF1f7",
    "outputId": "b119618b-570a-4ecb-821f-8498d7e5d42b"
   },
   "outputs": [
    {
     "data": {
      "image/png": "[encoded data removed]",
      "text/plain": [
       "<Figure size 432x288 with 1 Axes>"
      ]
     },
     "metadata": {
      "needs_background": "light"
     },
     "output_type": "display_data"
    }
   ],
   "source": [
    "sns.countplot(x='AGE above 65', hue='Gender', data=survey_selected_df)\n",
    "plt.title('Age above 65 Vs Gender')\n",
    "plt.show()\n"
   ]
  },
  {
   "cell_type": "markdown",
   "id": "S5Qs-xHcHI4L",
   "metadata": {
    "id": "S5Qs-xHcHI4L"
   },
   "source": [
    "We can see females participants are more in both below and above 65 age."
   ]
  },
  {
   "cell_type": "code",
   "execution_count": 19,
   "id": "FAl-fwmYGmGr",
   "metadata": {
    "colab": {
     "base_uri": "https://localhost:8080/"
    },
    "id": "FAl-fwmYGmGr",
    "outputId": "3825bd3f-86fe-4a03-a586-a221fa80525f"
   },
   "outputs": [
    {
     "data": {
      "text/plain": [
       "Index(['Gender', 'Race', 'AGE above 65', 'General Health', 'Over Weight',\n",
       "       'Physical Active Status', 'Smoking', 'Alcohol Usage', 'Diabetes',\n",
       "       'stroke', 'Coronary Heart Disease', 'Heart Attack'],\n",
       "      dtype='object')"
      ]
     },
     "execution_count": 19,
     "metadata": {},
     "output_type": "execute_result"
    }
   ],
   "source": [
    "survey_selected_df.columns"
   ]
  },
  {
   "cell_type": "markdown",
   "id": "GapPbJaLI6yb",
   "metadata": {
    "id": "GapPbJaLI6yb"
   },
   "source": [
    "**Feature- General health information**\n",
    "\n",
    "1 - excellent\n",
    "\n",
    "2 - very good\n",
    "\n",
    "3 - good\n",
    "\n",
    "4 - fair\n",
    "\n",
    "5 - poor\n",
    "\n",
    "7 and 9 - Don’t know/Not Sure/Refused"
   ]
  },
  {
   "cell_type": "code",
   "execution_count": 20,
   "id": "BfmyKFAxHe69",
   "metadata": {
    "colab": {
     "base_uri": "https://localhost:8080/",
     "height": 456
    },
    "id": "BfmyKFAxHe69",
    "outputId": "53144995-caac-4618-e6cf-dc11054a6591"
   },
   "outputs": [
    {
     "name": "stdout",
     "output_type": "stream",
     "text": [
      "General Health:\n",
      " 2.0    34.380342\n",
      "3.0    29.704110\n",
      "1.0    20.249789\n",
      "4.0    11.572977\n",
      "5.0     3.868497\n",
      "7.0     0.159261\n",
      "9.0     0.065025\n",
      "Name: General Health, dtype: float64\n"
     ]
    },
    {
     "data": {
      "image/png": "[encoded data removed]",
      "text/plain": [
       "<Figure size 432x288 with 1 Axes>"
      ]
     },
     "metadata": {
      "needs_background": "light"
     },
     "output_type": "display_data"
    }
   ],
   "source": [
    "print(\"General Health:\\n\",(survey_selected_df['General Health'].value_counts()/len(survey_selected_df))*100)\n",
    "sns.countplot(x='General Health', data=survey_selected_df) \n",
    "plt.title('General Health')\n",
    "plt.show()  \n"
   ]
  },
  {
   "cell_type": "markdown",
   "id": "IYkgpJI8JXBj",
   "metadata": {
    "id": "IYkgpJI8JXBj"
   },
   "source": [
    "Most of the participants have,\n",
    "\n",
    "Option 2:\"Very Good\" as health condition almost (34%) followed by\n",
    "\n",
    "Option 3:\"Good\" as health condition almost (30%) followed by \n",
    "\n",
    "Option 1:\"Excellent\" as health condition around (20%).\n"
   ]
  },
  {
   "cell_type": "markdown",
   "id": "IPsGVWtFL6Y3",
   "metadata": {
    "id": "IPsGVWtFL6Y3"
   },
   "source": [
    "Let's drop 7 and 9 as they're uncertain option."
   ]
  },
  {
   "cell_type": "code",
   "execution_count": 21,
   "id": "HfjTPzzmHzC-",
   "metadata": {
    "id": "HfjTPzzmHzC-"
   },
   "outputs": [],
   "source": [
    "survey_selected_df=survey_selected_df[(survey_selected_df['General Health'] != 7) & (survey_selected_df['General Health'] != 9)]"
   ]
  },
  {
   "cell_type": "code",
   "execution_count": 22,
   "id": "nE_5DAvnMwp-",
   "metadata": {
    "colab": {
     "base_uri": "https://localhost:8080/"
    },
    "id": "nE_5DAvnMwp-",
    "outputId": "a947220e-87da-4170-aada-c3d96605f827"
   },
   "outputs": [
    {
     "data": {
      "text/plain": [
       "2.0    135353\n",
       "3.0    116943\n",
       "1.0     79722\n",
       "4.0     45562\n",
       "5.0     15230\n",
       "Name: General Health, dtype: int64"
      ]
     },
     "execution_count": 22,
     "metadata": {},
     "output_type": "execute_result"
    }
   ],
   "source": [
    "survey_selected_df['General Health'].value_counts() # removed 7 and 9 options from dataset"
   ]
  },
  {
   "cell_type": "markdown",
   "id": "C0iti4XURoRc",
   "metadata": {
    "id": "C0iti4XURoRc"
   },
   "source": [
    "Let's check  General Health with Gender."
   ]
  },
  {
   "cell_type": "code",
   "execution_count": 23,
   "id": "QadjMm3dNQP7",
   "metadata": {
    "colab": {
     "base_uri": "https://localhost:8080/",
     "height": 295
    },
    "id": "QadjMm3dNQP7",
    "outputId": "ee57091e-8a16-426c-fc5a-abc81d96ff4c"
   },
   "outputs": [
    {
     "data": {
      "image/png": "[encoded data removed]",
      "text/plain": [
       "<Figure size 432x288 with 1 Axes>"
      ]
     },
     "metadata": {
      "needs_background": "light"
     },
     "output_type": "display_data"
    }
   ],
   "source": [
    "sns.countplot(x='General Health', hue='Gender', data=survey_selected_df)\n",
    "plt.title('General Health Vs Gender')\n",
    "plt.show()"
   ]
  },
  {
   "cell_type": "markdown",
   "id": "KXhrQ7XuStaM",
   "metadata": {
    "id": "KXhrQ7XuStaM"
   },
   "source": [
    "We can see that health condition of female is more in every option of health. This is because female participants are more."
   ]
  },
  {
   "cell_type": "code",
   "execution_count": 24,
   "id": "iTUVxCr7U6sB",
   "metadata": {
    "colab": {
     "base_uri": "https://localhost:8080/"
    },
    "id": "iTUVxCr7U6sB",
    "outputId": "7231a59a-0845-4e65-f60d-53a34e3632a2"
   },
   "outputs": [
    {
     "data": {
      "text/plain": [
       "Index(['Gender', 'Race', 'AGE above 65', 'General Health', 'Over Weight',\n",
       "       'Physical Active Status', 'Smoking', 'Alcohol Usage', 'Diabetes',\n",
       "       'stroke', 'Coronary Heart Disease', 'Heart Attack'],\n",
       "      dtype='object')"
      ]
     },
     "execution_count": 24,
     "metadata": {},
     "output_type": "execute_result"
    }
   ],
   "source": [
    "survey_selected_df.columns"
   ]
  },
  {
   "cell_type": "markdown",
   "id": "MO6Sbv6vXqTX",
   "metadata": {
    "id": "MO6Sbv6vXqTX"
   },
   "source": [
    "  Feature : Over weight\n",
    "\n",
    "  we can tell overweight using the BMI score.\n",
    "\n",
    "1: BMI score less than 25.\n",
    "\n",
    "2: BMI score above than 25.\n",
    "\n",
    "9: Missing Value in the data.\n",
    "\n"
   ]
  },
  {
   "cell_type": "code",
   "execution_count": 25,
   "id": "xUCeC_NUSoHn",
   "metadata": {
    "colab": {
     "base_uri": "https://localhost:8080/",
     "height": 384
    },
    "id": "xUCeC_NUSoHn",
    "outputId": "07cba5ed-67d0-4dc0-f6b3-aeeeed09aa79"
   },
   "outputs": [
    {
     "name": "stdout",
     "output_type": "stream",
     "text": [
      "Over Weight:\n",
      " 2.0    61.487997\n",
      "1.0    29.086327\n",
      "9.0     9.425677\n",
      "Name: Over Weight, dtype: float64\n"
     ]
    },
    {
     "data": {
      "image/png": "[encoded data removed]",
      "text/plain": [
       "<Figure size 432x288 with 1 Axes>"
      ]
     },
     "metadata": {
      "needs_background": "light"
     },
     "output_type": "display_data"
    }
   ],
   "source": [
    "print(\"Over Weight:\\n\",(survey_selected_df['Over Weight'].value_counts()/len(survey_selected_df))*100)\n",
    "sns.countplot(x='Over Weight', data=survey_selected_df) \n",
    "plt.title('Over Weight')\n",
    "plt.show()  \n"
   ]
  },
  {
   "cell_type": "markdown",
   "id": "15RDOwZ2e1z4",
   "metadata": {
    "id": "15RDOwZ2e1z4"
   },
   "source": [
    "\n",
    "\n",
    "*   There are lot of people whose BMI score more than 25, option-2.It's almost 61% in the data. \n",
    "\n",
    "*   There are almost 10% of missing value in the over weight feature.\n",
    "\n"
   ]
  },
  {
   "cell_type": "markdown",
   "id": "lV_i1IYYgekm",
   "metadata": {
    "id": "lV_i1IYYgekm"
   },
   "source": [
    "We'll drop the option 9 from overweight features."
   ]
  },
  {
   "cell_type": "code",
   "execution_count": 26,
   "id": "v1qNV_x7e1Dn",
   "metadata": {
    "id": "v1qNV_x7e1Dn"
   },
   "outputs": [],
   "source": [
    "survey_selected_df.drop(survey_selected_df[survey_selected_df['Over Weight'] == 9].index, inplace = True)"
   ]
  },
  {
   "cell_type": "code",
   "execution_count": 27,
   "id": "qeIBQ3duU-uW",
   "metadata": {
    "colab": {
     "base_uri": "https://localhost:8080/",
     "height": 295
    },
    "id": "qeIBQ3duU-uW",
    "outputId": "0001ec0b-0519-4586-c062-f59e60323c96"
   },
   "outputs": [
    {
     "data": {
      "image/png": "[encoded data removed]",
      "text/plain": [
       "<Figure size 432x288 with 1 Axes>"
      ]
     },
     "metadata": {
      "needs_background": "light"
     },
     "output_type": "display_data"
    }
   ],
   "source": [
    "sns.countplot(x='Over Weight', hue='Gender', data=survey_selected_df)\n",
    "plt.title('Over weight with Gender')\n",
    "plt.show()"
   ]
  },
  {
   "cell_type": "code",
   "execution_count": 28,
   "id": "Vw9FWdZcjdTN",
   "metadata": {
    "colab": {
     "base_uri": "https://localhost:8080/"
    },
    "id": "Vw9FWdZcjdTN",
    "outputId": "1dc277bb-d1d0-4899-967e-6445802d8752"
   },
   "outputs": [
    {
     "data": {
      "text/plain": [
       "Index(['Gender', 'Race', 'AGE above 65', 'General Health', 'Over Weight',\n",
       "       'Physical Active Status', 'Smoking', 'Alcohol Usage', 'Diabetes',\n",
       "       'stroke', 'Coronary Heart Disease', 'Heart Attack'],\n",
       "      dtype='object')"
      ]
     },
     "execution_count": 28,
     "metadata": {},
     "output_type": "execute_result"
    }
   ],
   "source": [
    "survey_selected_df.columns"
   ]
  },
  {
   "cell_type": "markdown",
   "id": "aK1vHFZ0iN1y",
   "metadata": {
    "id": "aK1vHFZ0iN1y"
   },
   "source": [
    "We can observe here that more males are obese (BMI-More than 25) than females. "
   ]
  },
  {
   "cell_type": "markdown",
   "id": "NJW1xC9GjPNX",
   "metadata": {
    "id": "NJW1xC9GjPNX"
   },
   "source": [
    "**Feature- Physical Active Status** \n",
    "\n",
    "1- Regular Physical Active\n",
    "\n",
    "2- Not doing Regular Physical Active\n",
    "\n",
    "9- Missing values in the Physical Inactivity feature"
   ]
  },
  {
   "cell_type": "code",
   "execution_count": 29,
   "id": "mLwQljKoiC3I",
   "metadata": {
    "colab": {
     "base_uri": "https://localhost:8080/",
     "height": 384
    },
    "id": "mLwQljKoiC3I",
    "outputId": "f9a62e4b-11c1-4a4a-b629-057e9ce38354"
   },
   "outputs": [
    {
     "name": "stdout",
     "output_type": "stream",
     "text": [
      "Physical Active Status:\n",
      " 1.0    76.593729\n",
      "2.0    23.272482\n",
      "9.0     0.133789\n",
      "Name: Physical Active Status, dtype: float64\n"
     ]
    },
    {
     "data": {
      "image/png": "[encoded data removed]",
      "text/plain": [
       "<Figure size 432x288 with 1 Axes>"
      ]
     },
     "metadata": {
      "needs_background": "light"
     },
     "output_type": "display_data"
    }
   ],
   "source": [
    "print(\"Physical Active Status:\\n\",(survey_selected_df['Physical Active Status'].value_counts()/len(survey_selected_df))*100)\n",
    "sns.countplot(x='Physical Active Status', data=survey_selected_df) \n",
    "plt.title('Physical Active Status')\n",
    "plt.show()  "
   ]
  },
  {
   "cell_type": "markdown",
   "id": "bwR7wzw9lvSH",
   "metadata": {
    "id": "bwR7wzw9lvSH"
   },
   "source": [
    "\n",
    "\n",
    "*   76% of people are  physical active.\n",
    "\n",
    "*   0.1% of data are missing in the data.\n",
    "\n"
   ]
  },
  {
   "cell_type": "markdown",
   "id": "qHS8SyntppTB",
   "metadata": {
    "id": "qHS8SyntppTB"
   },
   "source": [
    "Let's drop missing values "
   ]
  },
  {
   "cell_type": "code",
   "execution_count": 30,
   "id": "KoBnL4ALjbns",
   "metadata": {
    "id": "KoBnL4ALjbns"
   },
   "outputs": [],
   "source": [
    "survey_selected_df.drop(survey_selected_df[survey_selected_df['Physical Active Status'] == 9].index, inplace = True)"
   ]
  },
  {
   "cell_type": "code",
   "execution_count": 31,
   "id": "aQZmiYLGpy08",
   "metadata": {
    "colab": {
     "base_uri": "https://localhost:8080/",
     "height": 295
    },
    "id": "aQZmiYLGpy08",
    "outputId": "e9f393d1-9b8d-4fd8-aac8-0425f0551fdc"
   },
   "outputs": [
    {
     "data": {
      "image/png": "[encoded data removed]",
      "text/plain": [
       "<Figure size 432x288 with 1 Axes>"
      ]
     },
     "metadata": {
      "needs_background": "light"
     },
     "output_type": "display_data"
    }
   ],
   "source": [
    "sns.countplot(x='Physical Active Status', hue='Gender', data=survey_selected_df)\n",
    "plt.title('Physical Active Status with Gender')\n",
    "plt.show() \n"
   ]
  },
  {
   "cell_type": "code",
   "execution_count": 32,
   "id": "iEw0Ed4QsbHB",
   "metadata": {
    "colab": {
     "base_uri": "https://localhost:8080/"
    },
    "id": "iEw0Ed4QsbHB",
    "outputId": "50d1cd36-296d-45e0-859d-de746c017959"
   },
   "outputs": [
    {
     "data": {
      "text/plain": [
       "Index(['Gender', 'Race', 'AGE above 65', 'General Health', 'Over Weight',\n",
       "       'Physical Active Status', 'Smoking', 'Alcohol Usage', 'Diabetes',\n",
       "       'stroke', 'Coronary Heart Disease', 'Heart Attack'],\n",
       "      dtype='object')"
      ]
     },
     "execution_count": 32,
     "metadata": {},
     "output_type": "execute_result"
    }
   ],
   "source": [
    "survey_selected_df.columns"
   ]
  },
  {
   "cell_type": "markdown",
   "id": "BgeWEXSSrmYo",
   "metadata": {
    "id": "BgeWEXSSrmYo"
   },
   "source": [
    "We can observe that, females are more physical active than males."
   ]
  },
  {
   "cell_type": "markdown",
   "id": "0SDId2t0vTyh",
   "metadata": {
    "id": "0SDId2t0vTyh"
   },
   "source": [
    "**Feature: Smoking**\n",
    "\n",
    "1 - Everyday smoker\n",
    "\n",
    "2 - Someday smoker\n",
    "\n",
    "3 - Former smoker\n",
    "\n",
    "4 - Non-smoker\n",
    "\n",
    "9 - Don’t know/Not Sure/Refused"
   ]
  },
  {
   "cell_type": "code",
   "execution_count": 33,
   "id": "LNsWZWFrz6ml",
   "metadata": {
    "id": "LNsWZWFrz6ml"
   },
   "outputs": [],
   "source": [
    "survey_selected_df.drop(survey_selected_df[survey_selected_df['Smoking'] == 9].index, inplace = True)"
   ]
  },
  {
   "cell_type": "markdown",
   "id": "KuXeEShEvq9N",
   "metadata": {
    "id": "KuXeEShEvq9N"
   },
   "source": [
    "\n",
    "\n",
    "*  We can observe that around 56% of the people in the data are non-smokers (option-4).\n",
    "\n",
    "*  Around 26% of the people in the data were former smokers.\n",
    "\n",
    "*  Around 5% of the people in the Smoking data is missing.\n",
    "\n",
    "\n",
    "\n",
    "\n",
    "\n",
    "\n",
    "\n",
    "\n",
    "\n"
   ]
  },
  {
   "cell_type": "code",
   "execution_count": 34,
   "id": "UickuW7JsZoN",
   "metadata": {
    "colab": {
     "base_uri": "https://localhost:8080/",
     "height": 402
    },
    "id": "UickuW7JsZoN",
    "outputId": "c3e54495-c7dd-406e-98ec-31ffca8a6fbf"
   },
   "outputs": [
    {
     "name": "stdout",
     "output_type": "stream",
     "text": [
      "Smoking:\n",
      " 4.0    58.194227\n",
      "3.0    27.639087\n",
      "1.0    10.324536\n",
      "2.0     3.842149\n",
      "Name: Smoking, dtype: float64\n"
     ]
    },
    {
     "data": {
      "image/png": "[encoded data removed]",
      "text/plain": [
       "<Figure size 432x288 with 1 Axes>"
      ]
     },
     "metadata": {
      "needs_background": "light"
     },
     "output_type": "display_data"
    }
   ],
   "source": [
    "print(\"Smoking:\\n\",(survey_selected_df['Smoking'].value_counts()/len(survey_selected_df))*100)\n",
    "sns.countplot(x='Smoking', data=survey_selected_df) \n",
    "plt.title('Smoking')\n",
    "plt.show() "
   ]
  },
  {
   "cell_type": "markdown",
   "id": "lx2U42xL21WW",
   "metadata": {
    "id": "lx2U42xL21WW"
   },
   "source": [
    "Let's remove the missing data and since effect of casual smokers and regular smokers have the almost impact same on the heart. Let's combine these two options.\n",
    "\n",
    "\n"
   ]
  },
  {
   "cell_type": "markdown",
   "id": "PXp5GZ4e250s",
   "metadata": {
    "id": "PXp5GZ4e250s"
   },
   "source": [
    "These will be our final options in the feature\n",
    "\n",
    "1 - smoker\n",
    "\n",
    "2 - former smoker\n",
    "\n",
    "3 - non-smoker"
   ]
  },
  {
   "cell_type": "code",
   "execution_count": 35,
   "id": "LlI35r0_3DGe",
   "metadata": {
    "id": "LlI35r0_3DGe"
   },
   "outputs": [],
   "source": [
    "survey_selected_df.drop(survey_selected_df[survey_selected_df['Smoking'] == 9].index, inplace = True)"
   ]
  },
  {
   "cell_type": "code",
   "execution_count": 36,
   "id": "4uhlnk0J3R7L",
   "metadata": {
    "id": "4uhlnk0J3R7L"
   },
   "outputs": [],
   "source": [
    "change = {2 : 1, 3 : 2, 4 : 3}\n",
    "survey_selected_df['Smoking'].replace(to_replace=change, inplace=True)"
   ]
  },
  {
   "cell_type": "code",
   "execution_count": 37,
   "id": "S9EWR6_73evX",
   "metadata": {
    "colab": {
     "base_uri": "https://localhost:8080/",
     "height": 295
    },
    "id": "S9EWR6_73evX",
    "outputId": "ded0394e-acae-4f3e-a19c-daca178d3662"
   },
   "outputs": [
    {
     "data": {
      "image/png": "[encoded data removed]",
      "text/plain": [
       "<Figure size 432x288 with 1 Axes>"
      ]
     },
     "metadata": {
      "needs_background": "light"
     },
     "output_type": "display_data"
    }
   ],
   "source": [
    "sns.countplot(x='Smoking', hue='Gender', data=survey_selected_df)\n",
    "plt.title('Smokers')\n",
    "plt.show()"
   ]
  },
  {
   "cell_type": "markdown",
   "id": "eEoqp681puGJ",
   "metadata": {
    "id": "eEoqp681puGJ"
   },
   "source": [
    "We can observe that there are more male smokers than female."
   ]
  },
  {
   "cell_type": "markdown",
   "id": "JoDVXCfVrOoz",
   "metadata": {
    "id": "JoDVXCfVrOoz"
   },
   "source": [
    "**Feature: Alcohol Usage** \n",
    "\n",
    "1 - person who consumes alcohol\n",
    "\n",
    "2 - person who doesn't consumes alcohol \n",
    "\n",
    "7 & 9 - missing values and unknown values \n"
   ]
  },
  {
   "cell_type": "code",
   "execution_count": 38,
   "id": "yxfSDa142tPV",
   "metadata": {
    "colab": {
     "base_uri": "https://localhost:8080/",
     "height": 402
    },
    "id": "yxfSDa142tPV",
    "outputId": "a7c68441-98d8-4a6c-b839-180a2512b9d7"
   },
   "outputs": [
    {
     "name": "stdout",
     "output_type": "stream",
     "text": [
      "Alcohol Usage:\n",
      " 1.0    51.302862\n",
      "2.0    46.885498\n",
      "9.0     0.987069\n",
      "7.0     0.824571\n",
      "Name: Alcohol Usage, dtype: float64\n"
     ]
    },
    {
     "data": {
      "image/png": "[encoded data removed]",
      "text/plain": [
       "<Figure size 432x288 with 1 Axes>"
      ]
     },
     "metadata": {
      "needs_background": "light"
     },
     "output_type": "display_data"
    }
   ],
   "source": [
    "print(\"Alcohol Usage:\\n\",(survey_selected_df['Alcohol Usage'].value_counts()/len(survey_selected_df))*100)\n",
    "sns.countplot(x='Alcohol Usage', data=survey_selected_df) \n",
    "plt.title('Alcohol Usage')\n",
    "plt.show() "
   ]
  },
  {
   "cell_type": "markdown",
   "id": "Hmo7exVMrNlz",
   "metadata": {
    "id": "Hmo7exVMrNlz"
   },
   "source": [
    "51% of the people in the data set consumes alcohol and 46 doesn't comsume alochol. \n",
    "\n",
    "Around 2% are missing and unknown values."
   ]
  },
  {
   "cell_type": "code",
   "execution_count": 39,
   "id": "1I7_O4uWpRfI",
   "metadata": {
    "colab": {
     "base_uri": "https://localhost:8080/",
     "height": 279
    },
    "id": "1I7_O4uWpRfI",
    "outputId": "dd817521-0da1-42eb-c1a7-7f384b766ca4"
   },
   "outputs": [
    {
     "data": {
      "image/png": "[encoded data removed]",
      "text/plain": [
       "<Figure size 432x288 with 1 Axes>"
      ]
     },
     "metadata": {
      "needs_background": "light"
     },
     "output_type": "display_data"
    }
   ],
   "source": [
    "survey_selected_df = survey_selected_df[(survey_selected_df['Alcohol Usage'] != 7) & (survey_selected_df['Alcohol Usage'] != 9)]\n",
    "sns.countplot(x='Alcohol Usage', hue='Gender', data=survey_selected_df)\n",
    "plt.show()"
   ]
  },
  {
   "cell_type": "markdown",
   "id": "q0LAJmWQuJgJ",
   "metadata": {
    "id": "q0LAJmWQuJgJ"
   },
   "source": [
    "We can observe that male consumes more alcohol than females."
   ]
  },
  {
   "cell_type": "markdown",
   "id": "n0BeWiI7xD8z",
   "metadata": {
    "id": "n0BeWiI7xD8z"
   },
   "source": [
    "**Feature : Alcohol**\n",
    "\n",
    "1 - Diabetes\n",
    "\n",
    "2 -  Diabetes but Only During Pregnancy Period just for Female Participants\n",
    "\n",
    "3 - Not Has Diabetes\n",
    "\n",
    "4 - Has Pre-diabetes or Borberline Diabetes\n",
    "\n",
    "7 - Don’t know/Not Sure\n",
    "\n",
    "9 - Refused"
   ]
  },
  {
   "cell_type": "code",
   "execution_count": 40,
   "id": "KIHHhLn8tVam",
   "metadata": {
    "colab": {
     "base_uri": "https://localhost:8080/",
     "height": 426
    },
    "id": "KIHHhLn8tVam",
    "outputId": "16b3ed45-703c-4af2-e370-947daea1819a"
   },
   "outputs": [
    {
     "name": "stdout",
     "output_type": "stream",
     "text": [
      "Diabetes :\n",
      " 3.0    83.765528\n",
      "1.0    13.114644\n",
      "4.0     2.193634\n",
      "2.0     0.799656\n",
      "7.0     0.108085\n",
      "9.0     0.018454\n",
      "Name: Diabetes, dtype: float64\n"
     ]
    },
    {
     "data": {
      "image/png": "[encoded data removed]",
      "text/plain": [
       "<Figure size 432x288 with 1 Axes>"
      ]
     },
     "metadata": {
      "needs_background": "light"
     },
     "output_type": "display_data"
    }
   ],
   "source": [
    "print(\"Diabetes :\\n\",(survey_selected_df['Diabetes'].value_counts()/len(survey_selected_df))*100)\n",
    "sns.countplot(x='Diabetes', data=survey_selected_df)\n",
    "plt.show()"
   ]
  },
  {
   "cell_type": "markdown",
   "id": "G9ogdwFAxpyU",
   "metadata": {
    "id": "G9ogdwFAxpyU"
   },
   "source": [
    "Most of the people in the dataset does not have diabetes."
   ]
  },
  {
   "cell_type": "markdown",
   "id": "Sto30hT4w9yn",
   "metadata": {
    "id": "Sto30hT4w9yn"
   },
   "source": [
    "1 and 4 are almost similar which defines diabetes and 2 and 3 are almost similar. We can change values from 4 to 1 and 3 to 2."
   ]
  },
  {
   "cell_type": "markdown",
   "id": "GXWmKHR_wj9O",
   "metadata": {
    "id": "GXWmKHR_wj9O"
   },
   "source": [
    "Droping out option 7 and 9 from the data.**bold text**"
   ]
  },
  {
   "cell_type": "code",
   "execution_count": 41,
   "id": "Axbv-35Yv4G5",
   "metadata": {
    "id": "Axbv-35Yv4G5"
   },
   "outputs": [],
   "source": [
    "survey_selected_df = survey_selected_df[(survey_selected_df['Diabetes'] != 7) & (survey_selected_df['Diabetes'] != 9)]\n"
   ]
  },
  {
   "cell_type": "code",
   "execution_count": 42,
   "id": "9Gdrow7GzBjC",
   "metadata": {
    "colab": {
     "base_uri": "https://localhost:8080/"
    },
    "id": "9Gdrow7GzBjC",
    "outputId": "cdfd1619-ba1c-4e71-8c02-236e09b1d1f4"
   },
   "outputs": [],
   "source": [
    "chg = {3 : 2, 4 : 1}\n",
    "\n",
    "survey_selected_df['Diabetes'].replace(to_replace=chg, inplace = True)"
   ]
  },
  {
   "cell_type": "code",
   "execution_count": 43,
   "id": "inhBQUz7zC5I",
   "metadata": {
    "colab": {
     "base_uri": "https://localhost:8080/",
     "height": 295
    },
    "id": "inhBQUz7zC5I",
    "outputId": "d1c36a07-355b-43d9-eefd-9dec6d6da040"
   },
   "outputs": [
    {
     "data": {
      "image/png": "[encoded data removed]",
      "text/plain": [
       "<Figure size 432x288 with 1 Axes>"
      ]
     },
     "metadata": {
      "needs_background": "light"
     },
     "output_type": "display_data"
    }
   ],
   "source": [
    "sns.countplot(x='Diabetes', hue='Gender', data=survey_selected_df)\n",
    "plt.title('Diabetes')\n",
    "plt.show()"
   ]
  },
  {
   "cell_type": "markdown",
   "id": "STnQRfqjzO3_",
   "metadata": {
    "id": "STnQRfqjzO3_"
   },
   "source": [
    "Most of the females doesn't have diabetes."
   ]
  },
  {
   "cell_type": "markdown",
   "id": "Vl6piiSG0w0q",
   "metadata": {
    "id": "Vl6piiSG0w0q"
   },
   "source": [
    "**Features: Stroke**\n",
    "\n",
    "1 - had stroke \n",
    "\n",
    "2- did not had stroke\n",
    "\n",
    "7 & 9 - unknown and missing value"
   ]
  },
  {
   "cell_type": "code",
   "execution_count": 44,
   "id": "4qRSgOPMzOYh",
   "metadata": {
    "colab": {
     "base_uri": "https://localhost:8080/",
     "height": 402
    },
    "id": "4qRSgOPMzOYh",
    "outputId": "46fe1f8e-98f9-4a8c-9076-f7490019a62e"
   },
   "outputs": [
    {
     "name": "stdout",
     "output_type": "stream",
     "text": [
      "Stroke :\n",
      " 2.0    95.798982\n",
      "1.0     3.995718\n",
      "7.0     0.196208\n",
      "9.0     0.009092\n",
      "Name: stroke, dtype: float64\n"
     ]
    },
    {
     "data": {
      "image/png": "[encoded data removed]",
      "text/plain": [
       "<Figure size 432x288 with 1 Axes>"
      ]
     },
     "metadata": {
      "needs_background": "light"
     },
     "output_type": "display_data"
    }
   ],
   "source": [
    "print(\"Stroke :\\n\",(survey_selected_df['stroke'].value_counts()/len(survey_selected_df))*100)\n",
    "sns.countplot(x='stroke',data=survey_selected_df)\n",
    "plt.title('Stroke')\n",
    "plt.show()"
   ]
  },
  {
   "cell_type": "markdown",
   "id": "5RvvWLf09mAk",
   "metadata": {
    "id": "5RvvWLf09mAk"
   },
   "source": [
    "\n",
    "\n",
    "* 95% of the people don't have stroke.\n",
    "\n",
    "\n",
    "\n"
   ]
  },
  {
   "cell_type": "markdown",
   "id": "_z0svUsOGu5C",
   "metadata": {
    "id": "_z0svUsOGu5C"
   },
   "source": [
    "Let's remove 7 and 9 from the data"
   ]
  },
  {
   "cell_type": "code",
   "execution_count": 45,
   "id": "jE2UOdI1GuMh",
   "metadata": {
    "id": "jE2UOdI1GuMh"
   },
   "outputs": [],
   "source": [
    "survey_selected_df = survey_selected_df[(survey_selected_df['stroke'] != 7) & (survey_selected_df['stroke'] != 9)]"
   ]
  },
  {
   "cell_type": "code",
   "execution_count": 46,
   "id": "B4h_5zfoC7YN",
   "metadata": {
    "colab": {
     "base_uri": "https://localhost:8080/",
     "height": 295
    },
    "id": "B4h_5zfoC7YN",
    "outputId": "a3ae148f-b6fe-4390-9f17-ae4ea5a60736"
   },
   "outputs": [
    {
     "data": {
      "image/png": "[encoded data removed]",
      "text/plain": [
       "<Figure size 432x288 with 1 Axes>"
      ]
     },
     "metadata": {
      "needs_background": "light"
     },
     "output_type": "display_data"
    }
   ],
   "source": [
    "sns.countplot(x='stroke',hue='Gender',data=survey_selected_df)\n",
    "plt.title('Stroke')\n",
    "plt.show()"
   ]
  },
  {
   "cell_type": "markdown",
   "id": "ESRujqTz924L",
   "metadata": {
    "id": "ESRujqTz924L"
   },
   "source": [
    "Females didn't get strokes more than males"
   ]
  },
  {
   "cell_type": "markdown",
   "id": "BiMlBI3kKOhN",
   "metadata": {
    "id": "BiMlBI3kKOhN"
   },
   "source": [
    "**Feature: Coronary Heart Disease**\n",
    "\n",
    "1- Having Coronary Heart Disease\n",
    "\n",
    "2- Not Having Coronary Heart Disease\n",
    "\n",
    "7 & 9 - Missing and Unknown values"
   ]
  },
  {
   "cell_type": "code",
   "execution_count": 47,
   "id": "6YPG_o8SzGar",
   "metadata": {
    "colab": {
     "base_uri": "https://localhost:8080/",
     "height": 402
    },
    "id": "6YPG_o8SzGar",
    "outputId": "451c288b-fa2e-4a4c-ac4a-9e04954533fd"
   },
   "outputs": [
    {
     "name": "stdout",
     "output_type": "stream",
     "text": [
      "Coronary Heart Disease :\n",
      " 2.0    93.459803\n",
      "1.0     5.843975\n",
      "7.0     0.682703\n",
      "9.0     0.013519\n",
      "Name: Coronary Heart Disease, dtype: float64\n"
     ]
    },
    {
     "data": {
      "image/png": "[encoded data removed]",
      "text/plain": [
       "<Figure size 432x288 with 1 Axes>"
      ]
     },
     "metadata": {
      "needs_background": "light"
     },
     "output_type": "display_data"
    }
   ],
   "source": [
    "print(\"Coronary Heart Disease :\\n\",(survey_selected_df['Coronary Heart Disease'].value_counts()/len(survey_selected_df))*100)\n",
    "sns.countplot(x='Coronary Heart Disease', data=survey_selected_df)\n",
    "plt.title('Coronary Heart Disease')\n",
    "plt.show()"
   ]
  },
  {
   "cell_type": "markdown",
   "id": "16UgdOw4GNsy",
   "metadata": {
    "id": "16UgdOw4GNsy"
   },
   "source": [
    "93% of the people are not having any Coronary Heart Disease\n",
    "\n",
    "1% of the people have Coronary Heart Disease."
   ]
  },
  {
   "cell_type": "markdown",
   "id": "ykzVxBweJtlT",
   "metadata": {
    "id": "ykzVxBweJtlT"
   },
   "source": [
    "Let's remove 7 and 9 option from the data."
   ]
  },
  {
   "cell_type": "code",
   "execution_count": 48,
   "id": "_s3CuWYOI2FP",
   "metadata": {
    "colab": {
     "base_uri": "https://localhost:8080/",
     "height": 295
    },
    "id": "_s3CuWYOI2FP",
    "outputId": "f0109340-1065-43c9-f56f-84ec381d332f"
   },
   "outputs": [
    {
     "data": {
      "image/png": "[encoded data removed]",
      "text/plain": [
       "<Figure size 432x288 with 1 Axes>"
      ]
     },
     "metadata": {
      "needs_background": "light"
     },
     "output_type": "display_data"
    }
   ],
   "source": [
    "survey_selected_df = survey_selected_df[(survey_selected_df['Coronary Heart Disease'] != 7) & (survey_selected_df['Coronary Heart Disease'] != 9)]\n",
    "\n",
    "sns.countplot(x='Coronary Heart Disease', hue='Gender', data=survey_selected_df)\n",
    "plt.title('Coronary Heart Disease with Gender')\n",
    "plt.show()"
   ]
  },
  {
   "cell_type": "markdown",
   "id": "L7Y0t-ooIAYw",
   "metadata": {
    "id": "L7Y0t-ooIAYw"
   },
   "source": [
    "More females doesn't have Coronary Heart Disease than men in  data."
   ]
  },
  {
   "cell_type": "markdown",
   "id": "g2Ta_ZUXJ6Db",
   "metadata": {
    "id": "g2Ta_ZUXJ6Db"
   },
   "source": [
    "**Feature: Heart Attack**\n",
    "\n",
    "1- Had Heart Attack\n",
    "\n",
    "2- Not Had Heart Attack\n",
    "\n",
    "7&9- Missing and Unknown Values"
   ]
  },
  {
   "cell_type": "code",
   "execution_count": 49,
   "id": "ZVpT6SvOJTC4",
   "metadata": {
    "colab": {
     "base_uri": "https://localhost:8080/",
     "height": 402
    },
    "id": "ZVpT6SvOJTC4",
    "outputId": "0f873520-d00a-4f31-f08f-a45fd2966b38"
   },
   "outputs": [
    {
     "name": "stdout",
     "output_type": "stream",
     "text": [
      "Heart Attack :\n",
      " 2.0    94.256517\n",
      "1.0     5.416460\n",
      "7.0     0.316665\n",
      "9.0     0.010358\n",
      "Name: Heart Attack, dtype: float64\n"
     ]
    },
    {
     "data": {
      "image/png": "[encoded data removed]",
      "text/plain": [
       "<Figure size 432x288 with 1 Axes>"
      ]
     },
     "metadata": {
      "needs_background": "light"
     },
     "output_type": "display_data"
    }
   ],
   "source": [
    "print(\"Heart Attack :\\n\",(survey_selected_df['Heart Attack'].value_counts()/len(survey_selected_df))*100)\n",
    "sns.countplot(x='Heart Attack', data=survey_selected_df)\n",
    "plt.title('Heart Attack')\n",
    "plt.show()"
   ]
  },
  {
   "cell_type": "markdown",
   "id": "KFp5lOjxKvrY",
   "metadata": {
    "id": "KFp5lOjxKvrY"
   },
   "source": [
    "Around 94% of the people doesn't have heart attack in the past.\n",
    "\n",
    "Onlyb 5% of the people have heart attacks."
   ]
  },
  {
   "cell_type": "markdown",
   "id": "5yj15qkVK-Hp",
   "metadata": {
    "id": "5yj15qkVK-Hp"
   },
   "source": [
    "Removing 7 & 9 option from the data "
   ]
  },
  {
   "cell_type": "code",
   "execution_count": 50,
   "id": "UPq0QkTRJjXj",
   "metadata": {
    "colab": {
     "base_uri": "https://localhost:8080/",
     "height": 295
    },
    "id": "UPq0QkTRJjXj",
    "outputId": "4ff056dc-2a7c-4596-ace0-79ff90e4fea5"
   },
   "outputs": [
    {
     "data": {
      "image/png": "[encoded data removed]",
      "text/plain": [
       "<Figure size 432x288 with 1 Axes>"
      ]
     },
     "metadata": {
      "needs_background": "light"
     },
     "output_type": "display_data"
    }
   ],
   "source": [
    "survey_selected_df = survey_selected_df[(survey_selected_df['Heart Attack'] != 7) & (survey_selected_df['Heart Attack'] != 9)]\n",
    "sns.countplot(x='Heart Attack',hue='Gender',data=survey_selected_df)\n",
    "plt.title('Heart Attack')\n",
    "plt.show()"
   ]
  },
  {
   "cell_type": "markdown",
   "id": "UVF8yDEQLWbw",
   "metadata": {
    "id": "UVF8yDEQLWbw"
   },
   "source": [
    "Most of the female doesn't have Heart Attack in the past than the male."
   ]
  },
  {
   "cell_type": "code",
   "execution_count": 51,
   "id": "CHvFQ3XdLLKD",
   "metadata": {
    "colab": {
     "base_uri": "https://localhost:8080/"
    },
    "id": "CHvFQ3XdLLKD",
    "outputId": "5ef41a46-8d94-420a-9680-369043abac05"
   },
   "outputs": [
    {
     "data": {
      "text/plain": [
       "Index(['Gender', 'Race', 'AGE above 65', 'General Health', 'Over Weight',\n",
       "       'Physical Active Status', 'Smoking', 'Alcohol Usage', 'Diabetes',\n",
       "       'stroke', 'Coronary Heart Disease', 'Heart Attack'],\n",
       "      dtype='object')"
      ]
     },
     "execution_count": 51,
     "metadata": {},
     "output_type": "execute_result"
    }
   ],
   "source": [
    "survey_selected_df.columns"
   ]
  },
  {
   "cell_type": "code",
   "execution_count": 52,
   "id": "yOpVQOaqOL1c",
   "metadata": {
    "colab": {
     "base_uri": "https://localhost:8080/",
     "height": 305
    },
    "id": "yOpVQOaqOL1c",
    "outputId": "d8876f51-16b9-4134-ba65-9006ef5c9921"
   },
   "outputs": [
    {
     "data": {
      "text/html": [
       "<div>\n",
       "<style scoped>\n",
       "    .dataframe tbody tr th:only-of-type {\n",
       "        vertical-align: middle;\n",
       "    }\n",
       "\n",
       "    .dataframe tbody tr th {\n",
       "        vertical-align: top;\n",
       "    }\n",
       "\n",
       "    .dataframe thead th {\n",
       "        text-align: right;\n",
       "    }\n",
       "</style>\n",
       "<table border=\"1\" class=\"dataframe\">\n",
       "  <thead>\n",
       "    <tr style=\"text-align: right;\">\n",
       "      <th></th>\n",
       "      <th>Gender</th>\n",
       "      <th>Race</th>\n",
       "      <th>AGE above 65</th>\n",
       "      <th>General Health</th>\n",
       "      <th>Over Weight</th>\n",
       "      <th>Physical Active Status</th>\n",
       "      <th>Smoking</th>\n",
       "      <th>Alcohol Usage</th>\n",
       "      <th>Diabetes</th>\n",
       "      <th>stroke</th>\n",
       "      <th>Coronary Heart Disease</th>\n",
       "      <th>Heart Attack</th>\n",
       "    </tr>\n",
       "  </thead>\n",
       "  <tbody>\n",
       "    <tr>\n",
       "      <th>0</th>\n",
       "      <td>2.0</td>\n",
       "      <td>1.0</td>\n",
       "      <td>1.0</td>\n",
       "      <td>2.0</td>\n",
       "      <td>1.0</td>\n",
       "      <td>1.0</td>\n",
       "      <td>1.0</td>\n",
       "      <td>2.0</td>\n",
       "      <td>1.0</td>\n",
       "      <td>2.0</td>\n",
       "      <td>2.0</td>\n",
       "      <td>2.0</td>\n",
       "    </tr>\n",
       "    <tr>\n",
       "      <th>4</th>\n",
       "      <td>2.0</td>\n",
       "      <td>1.0</td>\n",
       "      <td>2.0</td>\n",
       "      <td>2.0</td>\n",
       "      <td>1.0</td>\n",
       "      <td>1.0</td>\n",
       "      <td>3.0</td>\n",
       "      <td>2.0</td>\n",
       "      <td>2.0</td>\n",
       "      <td>1.0</td>\n",
       "      <td>2.0</td>\n",
       "      <td>2.0</td>\n",
       "    </tr>\n",
       "    <tr>\n",
       "      <th>5</th>\n",
       "      <td>1.0</td>\n",
       "      <td>1.0</td>\n",
       "      <td>2.0</td>\n",
       "      <td>4.0</td>\n",
       "      <td>2.0</td>\n",
       "      <td>1.0</td>\n",
       "      <td>2.0</td>\n",
       "      <td>2.0</td>\n",
       "      <td>1.0</td>\n",
       "      <td>2.0</td>\n",
       "      <td>2.0</td>\n",
       "      <td>2.0</td>\n",
       "    </tr>\n",
       "    <tr>\n",
       "      <th>6</th>\n",
       "      <td>2.0</td>\n",
       "      <td>1.0</td>\n",
       "      <td>2.0</td>\n",
       "      <td>3.0</td>\n",
       "      <td>1.0</td>\n",
       "      <td>2.0</td>\n",
       "      <td>3.0</td>\n",
       "      <td>2.0</td>\n",
       "      <td>2.0</td>\n",
       "      <td>2.0</td>\n",
       "      <td>2.0</td>\n",
       "      <td>2.0</td>\n",
       "    </tr>\n",
       "    <tr>\n",
       "      <th>8</th>\n",
       "      <td>2.0</td>\n",
       "      <td>1.0</td>\n",
       "      <td>1.0</td>\n",
       "      <td>2.0</td>\n",
       "      <td>1.0</td>\n",
       "      <td>1.0</td>\n",
       "      <td>3.0</td>\n",
       "      <td>2.0</td>\n",
       "      <td>2.0</td>\n",
       "      <td>2.0</td>\n",
       "      <td>2.0</td>\n",
       "      <td>2.0</td>\n",
       "    </tr>\n",
       "  </tbody>\n",
       "</table>\n",
       "</div>"
      ],
      "text/plain": [
       "   Gender  Race  AGE above 65  General Health  Over Weight  \\\n",
       "0     2.0   1.0           1.0             2.0          1.0   \n",
       "4     2.0   1.0           2.0             2.0          1.0   \n",
       "5     1.0   1.0           2.0             4.0          2.0   \n",
       "6     2.0   1.0           2.0             3.0          1.0   \n",
       "8     2.0   1.0           1.0             2.0          1.0   \n",
       "\n",
       "   Physical Active Status  Smoking  Alcohol Usage  Diabetes  stroke  \\\n",
       "0                     1.0      1.0            2.0       1.0     2.0   \n",
       "4                     1.0      3.0            2.0       2.0     1.0   \n",
       "5                     1.0      2.0            2.0       1.0     2.0   \n",
       "6                     2.0      3.0            2.0       2.0     2.0   \n",
       "8                     1.0      3.0            2.0       2.0     2.0   \n",
       "\n",
       "   Coronary Heart Disease  Heart Attack  \n",
       "0                     2.0           2.0  \n",
       "4                     2.0           2.0  \n",
       "5                     2.0           2.0  \n",
       "6                     2.0           2.0  \n",
       "8                     2.0           2.0  "
      ]
     },
     "execution_count": 52,
     "metadata": {},
     "output_type": "execute_result"
    }
   ],
   "source": [
    "survey_selected_df.head()"
   ]
  },
  {
   "cell_type": "code",
   "execution_count": 53,
   "id": "L6OiwiKDX6tZ",
   "metadata": {
    "colab": {
     "base_uri": "https://localhost:8080/"
    },
    "id": "L6OiwiKDX6tZ",
    "outputId": "582b7a35-9aca-4ebb-ded3-4e9d353f831f"
   },
   "outputs": [
    {
     "name": "stdout",
     "output_type": "stream",
     "text": [
      "Data is Imbalance : \n",
      " 2.0    94.565769\n",
      "1.0     5.434231\n",
      "Name: Heart Attack, dtype: float64\n"
     ]
    }
   ],
   "source": [
    "print(\"Data is Imbalance : \\n\",survey_selected_df['Heart Attack'].value_counts()/len(survey_selected_df)*100)"
   ]
  },
  {
   "cell_type": "markdown",
   "id": "ZTvvLWSSYKOR",
   "metadata": {
    "id": "ZTvvLWSSYKOR"
   },
   "source": [
    "Only 5% of the data are the people having heart strokes."
   ]
  },
  {
   "cell_type": "code",
   "execution_count": 54,
   "id": "yOkYjx-yWDN0",
   "metadata": {
    "id": "yOkYjx-yWDN0"
   },
   "outputs": [],
   "source": [
    "# Defining the features and the target of the model\n",
    "X = survey_selected_df[survey_selected_df.columns[:-1]].values # Features\n",
    "y = survey_selected_df[survey_selected_df.columns[-1]].values # Target"
   ]
  },
  {
   "cell_type": "code",
   "execution_count": 55,
   "id": "ZpAE3twaz6_Q",
   "metadata": {
    "id": "ZpAE3twaz6_Q"
   },
   "outputs": [],
   "source": [
    "survey_selected_df_copy = survey_selected_df.copy()"
   ]
  },
  {
   "cell_type": "code",
   "execution_count": 56,
   "id": "e0HHBXAAySFQ",
   "metadata": {
    "id": "e0HHBXAAySFQ"
   },
   "outputs": [],
   "source": [
    "colum=survey_selected_df_copy.drop('Heart Attack',axis=1).columns\n"
   ]
  },
  {
   "cell_type": "code",
   "execution_count": 57,
   "id": "jzpohdCwzlWG",
   "metadata": {
    "id": "jzpohdCwzlWG"
   },
   "outputs": [],
   "source": [
    "target= survey_selected_df_copy.columns "
   ]
  },
  {
   "cell_type": "code",
   "execution_count": 58,
   "id": "MfRXvuJS2xb5",
   "metadata": {
    "id": "MfRXvuJS2xb5"
   },
   "outputs": [],
   "source": [
    "target_name= target[-1]"
   ]
  },
  {
   "cell_type": "markdown",
   "id": "Vjt5yxKuaLGY",
   "metadata": {
    "id": "Vjt5yxKuaLGY"
   },
   "source": [
    "**Basline Model**\n",
    "\n",
    "**Random Forest Classifier**"
   ]
  },
  {
   "cell_type": "code",
   "execution_count": 59,
   "id": "3z3r0kdRxufz",
   "metadata": {
    "colab": {
     "base_uri": "https://localhost:8080/"
    },
    "id": "3z3r0kdRxufz",
    "outputId": "5e9c1145-a45d-4c79-803e-5a8cc4187c7f"
   },
   "outputs": [
    {
     "data": {
      "text/html": [
       "<style>#sk-container-id-1 {color: black;background-color: white;}#sk-container-id-1 pre{padding: 0;}#sk-container-id-1 div.sk-toggleable {background-color: white;}#sk-container-id-1 label.sk-toggleable__label {cursor: pointer;display: block;width: 100%;margin-bottom: 0;padding: 0.3em;box-sizing: border-box;text-align: center;}#sk-container-id-1 label.sk-toggleable__label-arrow:before {content: \"▸\";float: left;margin-right: 0.25em;color: #696969;}#sk-container-id-1 label.sk-toggleable__label-arrow:hover:before {color: black;}#sk-container-id-1 div.sk-estimator:hover label.sk-toggleable__label-arrow:before {color: black;}#sk-container-id-1 div.sk-toggleable__content {max-height: 0;max-width: 0;overflow: hidden;text-align: left;background-color: #f0f8ff;}#sk-container-id-1 div.sk-toggleable__content pre {margin: 0.2em;color: black;border-radius: 0.25em;background-color: #f0f8ff;}#sk-container-id-1 input.sk-toggleable__control:checked~div.sk-toggleable__content {max-height: 200px;max-width: 100%;overflow: auto;}#sk-container-id-1 input.sk-toggleable__control:checked~label.sk-toggleable__label-arrow:before {content: \"▾\";}#sk-container-id-1 div.sk-estimator input.sk-toggleable__control:checked~label.sk-toggleable__label {background-color: #d4ebff;}#sk-container-id-1 div.sk-label input.sk-toggleable__control:checked~label.sk-toggleable__label {background-color: #d4ebff;}#sk-container-id-1 input.sk-hidden--visually {border: 0;clip: rect(1px 1px 1px 1px);clip: rect(1px, 1px, 1px, 1px);height: 1px;margin: -1px;overflow: hidden;padding: 0;position: absolute;width: 1px;}#sk-container-id-1 div.sk-estimator {font-family: monospace;background-color: #f0f8ff;border: 1px dotted black;border-radius: 0.25em;box-sizing: border-box;margin-bottom: 0.5em;}#sk-container-id-1 div.sk-estimator:hover {background-color: #d4ebff;}#sk-container-id-1 div.sk-parallel-item::after {content: \"\";width: 100%;border-bottom: 1px solid gray;flex-grow: 1;}#sk-container-id-1 div.sk-label:hover label.sk-toggleable__label {background-color: #d4ebff;}#sk-container-id-1 div.sk-serial::before {content: \"\";position: absolute;border-left: 1px solid gray;box-sizing: border-box;top: 0;bottom: 0;left: 50%;z-index: 0;}#sk-container-id-1 div.sk-serial {display: flex;flex-direction: column;align-items: center;background-color: white;padding-right: 0.2em;padding-left: 0.2em;position: relative;}#sk-container-id-1 div.sk-item {position: relative;z-index: 1;}#sk-container-id-1 div.sk-parallel {display: flex;align-items: stretch;justify-content: center;background-color: white;position: relative;}#sk-container-id-1 div.sk-item::before, #sk-container-id-1 div.sk-parallel-item::before {content: \"\";position: absolute;border-left: 1px solid gray;box-sizing: border-box;top: 0;bottom: 0;left: 50%;z-index: -1;}#sk-container-id-1 div.sk-parallel-item {display: flex;flex-direction: column;z-index: 1;position: relative;background-color: white;}#sk-container-id-1 div.sk-parallel-item:first-child::after {align-self: flex-end;width: 50%;}#sk-container-id-1 div.sk-parallel-item:last-child::after {align-self: flex-start;width: 50%;}#sk-container-id-1 div.sk-parallel-item:only-child::after {width: 0;}#sk-container-id-1 div.sk-dashed-wrapped {border: 1px dashed gray;margin: 0 0.4em 0.5em 0.4em;box-sizing: border-box;padding-bottom: 0.4em;background-color: white;}#sk-container-id-1 div.sk-label label {font-family: monospace;font-weight: bold;display: inline-block;line-height: 1.2em;}#sk-container-id-1 div.sk-label-container {text-align: center;}#sk-container-id-1 div.sk-container {/* jupyter's `normalize.less` sets `[hidden] { display: none; }` but bootstrap.min.css set `[hidden] { display: none !important; }` so we also need the `!important` here to be able to override the default hidden behavior on the sphinx rendered scikit-learn.org. See: https://github.com/scikit-learn/scikit-learn/issues/21755 */display: inline-block !important;position: relative;}#sk-container-id-1 div.sk-text-repr-fallback {display: none;}</style><div id=\"sk-container-id-1\" class=\"sk-top-container\"><div class=\"sk-text-repr-fallback\"><pre>RandomForestClassifier(max_depth=2, random_state=3)</pre><b>In a Jupyter environment, please rerun this cell to show the HTML representation or trust the notebook. <br />On GitHub, the HTML representation is unable to render, please try loading this page with nbviewer.org.</b></div><div class=\"sk-container\" hidden><div class=\"sk-item\"><div class=\"sk-estimator sk-toggleable\"><input class=\"sk-toggleable__control sk-hidden--visually\" id=\"sk-estimator-id-1\" type=\"checkbox\" checked><label for=\"sk-estimator-id-1\" class=\"sk-toggleable__label sk-toggleable__label-arrow\">RandomForestClassifier</label><div class=\"sk-toggleable__content\"><pre>RandomForestClassifier(max_depth=2, random_state=3)</pre></div></div></div></div></div>"
      ],
      "text/plain": [
       "RandomForestClassifier(max_depth=2, random_state=3)"
      ]
     },
     "execution_count": 59,
     "metadata": {},
     "output_type": "execute_result"
    }
   ],
   "source": [
    "from sklearn.ensemble import RandomForestClassifier\n",
    "from sklearn.metrics import confusion_matrix, classification_report\n",
    "rf_clf = RandomForestClassifier(max_depth=2, random_state=3)\n",
    "rf_clf.fit(X, y)"
   ]
  },
  {
   "cell_type": "code",
   "execution_count": 60,
   "id": "RXvdzoPzduVU",
   "metadata": {
    "colab": {
     "base_uri": "https://localhost:8080/"
    },
    "id": "RXvdzoPzduVU",
    "outputId": "f0ff34fa-b756-432a-c4df-eea82116d2b8"
   },
   "outputs": [
    {
     "name": "stderr",
     "output_type": "stream",
     "text": [
      "/Users/sraharsh/opt/anaconda3/lib/python3.9/site-packages/sklearn/metrics/_classification.py:1334: UndefinedMetricWarning: Precision and F-score are ill-defined and being set to 0.0 in labels with no predicted samples. Use `zero_division` parameter to control this behavior.\n",
      "  _warn_prf(average, modifier, msg_start, len(result))\n",
      "/Users/sraharsh/opt/anaconda3/lib/python3.9/site-packages/sklearn/metrics/_classification.py:1334: UndefinedMetricWarning: Precision and F-score are ill-defined and being set to 0.0 in labels with no predicted samples. Use `zero_division` parameter to control this behavior.\n",
      "  _warn_prf(average, modifier, msg_start, len(result))\n"
     ]
    },
    {
     "name": "stdout",
     "output_type": "stream",
     "text": [
      "Random Classification Report on the Whole Dataset:\n",
      "\n",
      "               precision    recall  f1-score   support\n",
      "\n",
      "         1.0       0.00      0.00      0.00     18302\n",
      "         2.0       0.95      1.00      0.97    318489\n",
      "\n",
      "    accuracy                           0.95    336791\n",
      "   macro avg       0.47      0.50      0.49    336791\n",
      "weighted avg       0.89      0.95      0.92    336791\n",
      "\n"
     ]
    },
    {
     "name": "stderr",
     "output_type": "stream",
     "text": [
      "/Users/sraharsh/opt/anaconda3/lib/python3.9/site-packages/sklearn/metrics/_classification.py:1334: UndefinedMetricWarning: Precision and F-score are ill-defined and being set to 0.0 in labels with no predicted samples. Use `zero_division` parameter to control this behavior.\n",
      "  _warn_prf(average, modifier, msg_start, len(result))\n"
     ]
    }
   ],
   "source": [
    "\n",
    "report = classification_report(y, rf_clf.predict(X))\n",
    "print('Random Classification Report on the Whole Dataset:\\n\\n',report)"
   ]
  },
  {
   "cell_type": "markdown",
   "id": "yM6Sr7z9feIc",
   "metadata": {
    "id": "yM6Sr7z9feIc"
   },
   "source": [
    "We can see the curse of unbalanced data since we 5% of minor class and 95 % of major it is difficult to classify or evaluat the model"
   ]
  },
  {
   "cell_type": "code",
   "execution_count": 61,
   "id": "VHof8QqlyPz6",
   "metadata": {
    "colab": {
     "base_uri": "https://localhost:8080/",
     "height": 494
    },
    "id": "VHof8QqlyPz6",
    "outputId": "791f16b2-8c1e-4466-b490-43b3a3d77070"
   },
   "outputs": [
    {
     "name": "stdout",
     "output_type": "stream",
     "text": [
      "[ 0.91790318  0.10797227  9.20689579 14.02701493  0.          1.05314374\n",
      "  1.23595655  0.97395829  2.9084585  15.88794937 53.68074738]\n"
     ]
    },
    {
     "data": {
      "image/png": "[encoded data removed]",
      "text/plain": [
       "<Figure size 504x504 with 1 Axes>"
      ]
     },
     "metadata": {
      "needs_background": "light"
     },
     "output_type": "display_data"
    }
   ],
   "source": [
    "# Calculating the feature importance\n",
    "feature_importance = rf_clf.feature_importances_\n",
    "feature_importance = 100.0*(feature_importance/np.sum(feature_importance))\n",
    "print(feature_importance)\n",
    "# Displaying the relative feature importance by a horizontal bar chart\n",
    "sorted_idx = np.argsort(feature_importance)\n",
    "pos=np.arange(sorted_idx.shape[0])+0.5\n",
    "plt.figure(figsize=(7, 7))\n",
    "plt.title(\"Feature Importance\")\n",
    "plt.xlabel('Relative Importance')\n",
    "plt.barh(pos, feature_importance[sorted_idx], color='crimson', align=\"center\")\n",
    "plt.yticks(pos, survey_selected_df.columns[:-1][sorted_idx])\n",
    "plt.show()"
   ]
  },
  {
   "cell_type": "markdown",
   "id": "Q3kjicpobzbQ",
   "metadata": {
    "id": "Q3kjicpobzbQ"
   },
   "source": [
    "We can see Cornary Heart Disease 54% corelated with Heart Stroke."
   ]
  },
  {
   "cell_type": "markdown",
   "id": "Ef99wFUDZ5Ew",
   "metadata": {
    "id": "Ef99wFUDZ5Ew"
   },
   "source": [
    "This is true, coronary artery disease, reduced blood flow to the heart can cause chest pain (angina) and shortness of breath. A complete blockage of blood flow can cause a heart attack.\n",
    "\n",
    "Link: https://www.mayoclinic.org/diseases-conditions/coronary-artery-disease/symptoms-causes/syc-20350613#:~:text=If%20you%20have%20coronary%20artery,can%20cause%20a%20heart%20attack."
   ]
  },
  {
   "cell_type": "markdown",
   "id": "QSwoSOcRf3LP",
   "metadata": {
    "id": "QSwoSOcRf3LP"
   },
   "source": [
    "Let's try to upsample the minor class  and feed to the same model. "
   ]
  },
  {
   "cell_type": "markdown",
   "id": "6ri3XJuIhpoq",
   "metadata": {
    "id": "6ri3XJuIhpoq"
   },
   "source": [
    "**Upsampling the data**"
   ]
  },
  {
   "cell_type": "markdown",
   "id": "31c457b9",
   "metadata": {},
   "source": [
    "We upsampled the data to handle the imbalance data"
   ]
  },
  {
   "cell_type": "code",
   "execution_count": 62,
   "id": "k_f9EocJSFTc",
   "metadata": {
    "colab": {
     "base_uri": "https://localhost:8080/"
    },
    "id": "k_f9EocJSFTc",
    "outputId": "7a2c5796-bc86-4a79-fbe6-472c9449926e"
   },
   "outputs": [
    {
     "name": "stdout",
     "output_type": "stream",
     "text": [
      "0.0    318489\n",
      "1.0     18302\n",
      "Name: Heart Attack, dtype: int64\n"
     ]
    }
   ],
   "source": [
    "survey_selected_df['Heart Attack'] = survey_selected_df['Heart Attack'].replace(2, 0)\n",
    "print(survey_selected_df['Heart Attack'].value_counts())"
   ]
  },
  {
   "cell_type": "code",
   "execution_count": 63,
   "id": "ZjbW2mRGWKby",
   "metadata": {
    "id": "ZjbW2mRGWKby"
   },
   "outputs": [],
   "source": [
    "from sklearn.utils import resample\n",
    "#create two different dataframe of majority and minority class \n",
    "df_majority = survey_selected_df[(survey_selected_df['Heart Attack']==0)] \n",
    "df_minority = survey_selected_df[(survey_selected_df['Heart Attack']==1)] \n",
    "# upsample minority class\n",
    "df_minority_upsampled = resample(df_minority, \n",
    "                                 replace=True,    # sample with replacement\n",
    "                                 n_samples= 318489, # to match majority class\n",
    "                                 random_state=42)  # reproducible results\n",
    "# Combine majority class with upsampled minority class\n",
    "df_upsampled = pd.concat([df_minority_upsampled, df_majority])"
   ]
  },
  {
   "cell_type": "code",
   "execution_count": 64,
   "id": "nDlfQBCJc2ZP",
   "metadata": {
    "colab": {
     "base_uri": "https://localhost:8080/"
    },
    "id": "nDlfQBCJc2ZP",
    "outputId": "2575da38-9323-4965-ff36-875298fdeb5c"
   },
   "outputs": [
    {
     "data": {
      "text/plain": [
       "1.0    318489\n",
       "0.0    318489\n",
       "Name: Heart Attack, dtype: int64"
      ]
     },
     "execution_count": 64,
     "metadata": {},
     "output_type": "execute_result"
    }
   ],
   "source": [
    "df_upsampled['Heart Attack'].value_counts() "
   ]
  },
  {
   "cell_type": "markdown",
   "id": "aFrqBlaoi5wg",
   "metadata": {
    "id": "aFrqBlaoi5wg"
   },
   "source": [
    "We have balance data now "
   ]
  },
  {
   "cell_type": "code",
   "execution_count": 65,
   "id": "DwXaOF-Pit19",
   "metadata": {
    "id": "DwXaOF-Pit19"
   },
   "outputs": [],
   "source": [
    "X= df_upsampled.drop('Heart Attack',axis=1)\n",
    "y= df_upsampled['Heart Attack']"
   ]
  },
  {
   "cell_type": "markdown",
   "id": "ECukCMyPBeDt",
   "metadata": {
    "id": "ECukCMyPBeDt"
   },
   "source": [
    "**Train/Test split** "
   ]
  },
  {
   "cell_type": "code",
   "execution_count": 66,
   "id": "zVUCcTBmjttg",
   "metadata": {
    "id": "zVUCcTBmjttg"
   },
   "outputs": [],
   "source": [
    "from sklearn.model_selection import train_test_split\n",
    "X_train, X_test, y_train, y_test = train_test_split(X, y, test_size=0.25, random_state=3)"
   ]
  },
  {
   "cell_type": "code",
   "execution_count": 67,
   "id": "iHxkg_-UfUwN",
   "metadata": {
    "colab": {
     "base_uri": "https://localhost:8080/"
    },
    "id": "iHxkg_-UfUwN",
    "outputId": "3900c12b-4705-4cc0-bc1c-5c2cfe34e0db"
   },
   "outputs": [
    {
     "data": {
      "text/html": [
       "<style>#sk-container-id-2 {color: black;background-color: white;}#sk-container-id-2 pre{padding: 0;}#sk-container-id-2 div.sk-toggleable {background-color: white;}#sk-container-id-2 label.sk-toggleable__label {cursor: pointer;display: block;width: 100%;margin-bottom: 0;padding: 0.3em;box-sizing: border-box;text-align: center;}#sk-container-id-2 label.sk-toggleable__label-arrow:before {content: \"▸\";float: left;margin-right: 0.25em;color: #696969;}#sk-container-id-2 label.sk-toggleable__label-arrow:hover:before {color: black;}#sk-container-id-2 div.sk-estimator:hover label.sk-toggleable__label-arrow:before {color: black;}#sk-container-id-2 div.sk-toggleable__content {max-height: 0;max-width: 0;overflow: hidden;text-align: left;background-color: #f0f8ff;}#sk-container-id-2 div.sk-toggleable__content pre {margin: 0.2em;color: black;border-radius: 0.25em;background-color: #f0f8ff;}#sk-container-id-2 input.sk-toggleable__control:checked~div.sk-toggleable__content {max-height: 200px;max-width: 100%;overflow: auto;}#sk-container-id-2 input.sk-toggleable__control:checked~label.sk-toggleable__label-arrow:before {content: \"▾\";}#sk-container-id-2 div.sk-estimator input.sk-toggleable__control:checked~label.sk-toggleable__label {background-color: #d4ebff;}#sk-container-id-2 div.sk-label input.sk-toggleable__control:checked~label.sk-toggleable__label {background-color: #d4ebff;}#sk-container-id-2 input.sk-hidden--visually {border: 0;clip: rect(1px 1px 1px 1px);clip: rect(1px, 1px, 1px, 1px);height: 1px;margin: -1px;overflow: hidden;padding: 0;position: absolute;width: 1px;}#sk-container-id-2 div.sk-estimator {font-family: monospace;background-color: #f0f8ff;border: 1px dotted black;border-radius: 0.25em;box-sizing: border-box;margin-bottom: 0.5em;}#sk-container-id-2 div.sk-estimator:hover {background-color: #d4ebff;}#sk-container-id-2 div.sk-parallel-item::after {content: \"\";width: 100%;border-bottom: 1px solid gray;flex-grow: 1;}#sk-container-id-2 div.sk-label:hover label.sk-toggleable__label {background-color: #d4ebff;}#sk-container-id-2 div.sk-serial::before {content: \"\";position: absolute;border-left: 1px solid gray;box-sizing: border-box;top: 0;bottom: 0;left: 50%;z-index: 0;}#sk-container-id-2 div.sk-serial {display: flex;flex-direction: column;align-items: center;background-color: white;padding-right: 0.2em;padding-left: 0.2em;position: relative;}#sk-container-id-2 div.sk-item {position: relative;z-index: 1;}#sk-container-id-2 div.sk-parallel {display: flex;align-items: stretch;justify-content: center;background-color: white;position: relative;}#sk-container-id-2 div.sk-item::before, #sk-container-id-2 div.sk-parallel-item::before {content: \"\";position: absolute;border-left: 1px solid gray;box-sizing: border-box;top: 0;bottom: 0;left: 50%;z-index: -1;}#sk-container-id-2 div.sk-parallel-item {display: flex;flex-direction: column;z-index: 1;position: relative;background-color: white;}#sk-container-id-2 div.sk-parallel-item:first-child::after {align-self: flex-end;width: 50%;}#sk-container-id-2 div.sk-parallel-item:last-child::after {align-self: flex-start;width: 50%;}#sk-container-id-2 div.sk-parallel-item:only-child::after {width: 0;}#sk-container-id-2 div.sk-dashed-wrapped {border: 1px dashed gray;margin: 0 0.4em 0.5em 0.4em;box-sizing: border-box;padding-bottom: 0.4em;background-color: white;}#sk-container-id-2 div.sk-label label {font-family: monospace;font-weight: bold;display: inline-block;line-height: 1.2em;}#sk-container-id-2 div.sk-label-container {text-align: center;}#sk-container-id-2 div.sk-container {/* jupyter's `normalize.less` sets `[hidden] { display: none; }` but bootstrap.min.css set `[hidden] { display: none !important; }` so we also need the `!important` here to be able to override the default hidden behavior on the sphinx rendered scikit-learn.org. See: https://github.com/scikit-learn/scikit-learn/issues/21755 */display: inline-block !important;position: relative;}#sk-container-id-2 div.sk-text-repr-fallback {display: none;}</style><div id=\"sk-container-id-2\" class=\"sk-top-container\"><div class=\"sk-text-repr-fallback\"><pre>LogisticRegression(max_iter=10000, penalty=&#x27;none&#x27;)</pre><b>In a Jupyter environment, please rerun this cell to show the HTML representation or trust the notebook. <br />On GitHub, the HTML representation is unable to render, please try loading this page with nbviewer.org.</b></div><div class=\"sk-container\" hidden><div class=\"sk-item\"><div class=\"sk-estimator sk-toggleable\"><input class=\"sk-toggleable__control sk-hidden--visually\" id=\"sk-estimator-id-2\" type=\"checkbox\" checked><label for=\"sk-estimator-id-2\" class=\"sk-toggleable__label sk-toggleable__label-arrow\">LogisticRegression</label><div class=\"sk-toggleable__content\"><pre>LogisticRegression(max_iter=10000, penalty=&#x27;none&#x27;)</pre></div></div></div></div></div>"
      ],
      "text/plain": [
       "LogisticRegression(max_iter=10000, penalty='none')"
      ]
     },
     "execution_count": 67,
     "metadata": {},
     "output_type": "execute_result"
    }
   ],
   "source": [
    "from sklearn.linear_model import LogisticRegression # Importing Logistic Regression from sklearn\n",
    "logreg = LogisticRegression(penalty = 'none', max_iter = 10000) # Instantiating logistic regression\n",
    "logreg.fit(X_train, y_train) # Fitting the train data to 'logreg'x"
   ]
  },
  {
   "cell_type": "code",
   "execution_count": 68,
   "id": "aoI59iXLf3IE",
   "metadata": {
    "id": "aoI59iXLf3IE"
   },
   "outputs": [],
   "source": [
    "# Predicted class for the test subset through logistic regression\n",
    "y_train_pred_prob = logreg.predict_proba(X_train) # Calculating probabilities of the two classes in train subset\n",
    "y_test_pred_prob = logreg.predict_proba(X_test) # Calculating probabilities of the two classes in test subset\n",
    "\n",
    "train_y_pred = y_train_pred_prob.argmax(axis=1) # Finding the predicted class for train predictions\n",
    "test_y_pred = y_test_pred_prob.argmax(axis=1) # Finding the predicted class for test predictions\n",
    "\n"
   ]
  },
  {
   "cell_type": "code",
   "execution_count": 69,
   "id": "u9y6gxSFf8dq",
   "metadata": {
    "colab": {
     "base_uri": "https://localhost:8080/"
    },
    "id": "u9y6gxSFf8dq",
    "outputId": "5c435ee0-525e-4825-bc72-c77162930c37"
   },
   "outputs": [
    {
     "name": "stdout",
     "output_type": "stream",
     "text": [
      "Train accuracy score of the model is  0.79363 \n",
      "\n",
      "Test accuracy score of the model is  0.79305\n"
     ]
    }
   ],
   "source": [
    " # Calculating the train and test accuracy scores of the model\n",
    "from sklearn import metrics # Importing 'metrics' from sklearn\n",
    "train_score = metrics.accuracy_score(y_train, train_y_pred) # train accuracy\n",
    "test_score = metrics.accuracy_score(y_test, test_y_pred) # test accuracy\n",
    "print('Train accuracy score of the model is ', round(train_score, 5),'\\n')\n",
    "print('Test accuracy score of the model is ', round(test_score, 5))"
   ]
  },
  {
   "cell_type": "code",
   "execution_count": 70,
   "id": "f1F2_wPKgDJ2",
   "metadata": {
    "colab": {
     "base_uri": "https://localhost:8080/",
     "height": 260
    },
    "id": "f1F2_wPKgDJ2",
    "outputId": "3ed9dc75-2db5-40b2-e567-82ad18b7771b"
   },
   "outputs": [
    {
     "data": {
      "image/png": "[encoded data removed]",
      "text/plain": [
       "<Figure size 288x288 with 2 Axes>"
      ]
     },
     "metadata": {
      "needs_background": "light"
     },
     "output_type": "display_data"
    }
   ],
   "source": [
    "# Computing the confusion matrix for the test subset\n",
    "test_c_matrix = confusion_matrix(y_test, test_y_pred) # Compute the test confusion matrix\n",
    "plt.figure(figsize=(4,4))\n",
    "sns.heatmap(test_c_matrix, annot=True, fmt=\".1f\", linewidths=.5, square = True, cmap = 'Pastel1');\n",
    "plt.ylabel('Actual label');\n",
    "plt.xlabel('Predicted label');\n",
    "all_sample_title = 'Test Accuracy: {0}'.format(round(test_score, 4))\n",
    "plt.title(all_sample_title, size = 15);\n",
    "plt.show()\n",
    "\n"
   ]
  },
  {
   "cell_type": "code",
   "execution_count": 71,
   "id": "j_esi-K7gdrV",
   "metadata": {
    "colab": {
     "base_uri": "https://localhost:8080/"
    },
    "id": "j_esi-K7gdrV",
    "outputId": "c51eaa5b-1141-42af-cacf-8a1db2a1f65a"
   },
   "outputs": [
    {
     "name": "stdout",
     "output_type": "stream",
     "text": [
      "Logistic Regression Train Classification Report: \n",
      "\n",
      "               precision    recall  f1-score   support\n",
      "\n",
      "         0.0       0.76      0.85      0.81    238886\n",
      "         1.0       0.83      0.73      0.78    238847\n",
      "\n",
      "    accuracy                           0.79    477733\n",
      "   macro avg       0.80      0.79      0.79    477733\n",
      "weighted avg       0.80      0.79      0.79    477733\n",
      " \n",
      "\n",
      "\n",
      "Logistic Regression Test Classification Report: \n",
      "\n",
      "               precision    recall  f1-score   support\n",
      "\n",
      "         0.0       0.76      0.85      0.80     79603\n",
      "         1.0       0.83      0.73      0.78     79642\n",
      "\n",
      "    accuracy                           0.79    159245\n",
      "   macro avg       0.80      0.79      0.79    159245\n",
      "weighted avg       0.80      0.79      0.79    159245\n",
      "\n"
     ]
    }
   ],
   "source": [
    "train_score = metrics.accuracy_score(y_train, train_y_pred) # Compute train accuracy\n",
    "test_score = metrics.accuracy_score(y_test, test_y_pred) # Compute test accuracy\n",
    "train_report = classification_report(y_train, train_y_pred) # Generate classification report for train data\n",
    "test_report = classification_report(y_test, test_y_pred) # Generate classification report for test data\n",
    "print('Logistic Regression Train Classification Report: \\n\\n', train_report,'\\n\\n')\n",
    "print('Logistic Regression Test Classification Report: \\n\\n', test_report)"
   ]
  },
  {
   "cell_type": "code",
   "execution_count": 72,
   "id": "r3R1M-Dugrjz",
   "metadata": {
    "colab": {
     "base_uri": "https://localhost:8080/",
     "height": 404
    },
    "id": "r3R1M-Dugrjz",
    "outputId": "39402620-9899-4d0b-e88c-f0b7f11f415e"
   },
   "outputs": [
    {
     "data": {
      "image/png": "[encoded data removed]",
      "text/plain": [
       "<Figure size 576x432 with 1 Axes>"
      ]
     },
     "metadata": {
      "needs_background": "light"
     },
     "output_type": "display_data"
    }
   ],
   "source": [
    "from sklearn.metrics import roc_curve, auc # Importing 'roc_curve' and 'auc' \n",
    "fpr, tpr, thresholds = roc_curve(test_y_pred, y_test) # Computing ROC for the test subset\n",
    "auc(fpr, tpr) # Computing AUC for the test subset\n",
    "plt.figure(figsize=(8, 6))\n",
    "plt.plot(fpr, tpr, color='red', label='Logistic Regression (AUC: %.2f)'\n",
    "% auc(fpr, tpr))\n",
    "plt.plot([0, 1], [0, 1], color='blue', linestyle='--')\n",
    "plt.xlim([0.0, 1.0])\n",
    "plt.ylim([0.0, 1.01])\n",
    "plt.title('ROC Curve for the Logistic Regresssion ')\n",
    "plt.xlabel('False Positive Rate (FPR)')\n",
    "plt.ylabel('True Positive Rate (TPR)')\n",
    "plt.legend()\n",
    "plt.show()"
   ]
  },
  {
   "cell_type": "markdown",
   "id": "wni8VW8_ivvM",
   "metadata": {
    "id": "wni8VW8_ivvM"
   },
   "source": [
    "Model 2: K-Nearest Neighbour"
   ]
  },
  {
   "cell_type": "code",
   "execution_count": 73,
   "id": "X6R2enNUhMOM",
   "metadata": {
    "id": "X6R2enNUhMOM"
   },
   "outputs": [],
   "source": [
    "from sklearn.neighbors import KNeighborsClassifier\n",
    "knn = KNeighborsClassifier(n_neighbors=2)\n",
    "knn.fit(X_train, y_train)\n",
    "train_y_pred = knn.predict(X_train)\n",
    "test_y_pred = knn.predict(X_test)"
   ]
  },
  {
   "cell_type": "code",
   "execution_count": 74,
   "id": "2ymaam8Ehtai",
   "metadata": {
    "colab": {
     "base_uri": "https://localhost:8080/"
    },
    "id": "2ymaam8Ehtai",
    "outputId": "007fce2e-b4b6-4a89-c866-73c265007827"
   },
   "outputs": [
    {
     "name": "stdout",
     "output_type": "stream",
     "text": [
      "K-Nearest Neighbour Classifier Train Classification Report: \n",
      "\n",
      "               precision    recall  f1-score   support\n",
      "\n",
      "         0.0       0.71      0.89      0.79    238886\n",
      "         1.0       0.85      0.63      0.72    238847\n",
      "\n",
      "    accuracy                           0.76    477733\n",
      "   macro avg       0.78      0.76      0.75    477733\n",
      "weighted avg       0.78      0.76      0.75    477733\n",
      " \n",
      "\n",
      "\n",
      "K-Nearest Neighbour Classifier Test Classification Report: \n",
      "\n",
      "               precision    recall  f1-score   support\n",
      "\n",
      "         0.0       0.70      0.88      0.78     79603\n",
      "         1.0       0.84      0.63      0.72     79642\n",
      "\n",
      "    accuracy                           0.76    159245\n",
      "   macro avg       0.77      0.76      0.75    159245\n",
      "weighted avg       0.77      0.76      0.75    159245\n",
      "\n"
     ]
    }
   ],
   "source": [
    "train_score = metrics.accuracy_score(y_train, train_y_pred) # Compute train accuracy\n",
    "test_score = metrics.accuracy_score(y_test, test_y_pred) # Compute test accuracy\n",
    "train_report = classification_report(y_train, train_y_pred) # Generate classification report for train data\n",
    "test_report = classification_report(y_test, test_y_pred) # Generate classification report for test data\n",
    "print('K-Nearest Neighbour Classifier Train Classification Report: \\n\\n', train_report,'\\n\\n')\n",
    "print('K-Nearest Neighbour Classifier Test Classification Report: \\n\\n', test_report)"
   ]
  },
  {
   "cell_type": "code",
   "execution_count": 75,
   "id": "Mwu53MR-h6Nc",
   "metadata": {
    "colab": {
     "base_uri": "https://localhost:8080/",
     "height": 263
    },
    "id": "Mwu53MR-h6Nc",
    "outputId": "6aefaffc-9c12-405f-a21f-a247a71fafd6"
   },
   "outputs": [
    {
     "data": {
      "image/png": "[encoded data removed]",
      "text/plain": [
       "<Figure size 288x288 with 2 Axes>"
      ]
     },
     "metadata": {
      "needs_background": "light"
     },
     "output_type": "display_data"
    }
   ],
   "source": [
    "log_matrix = confusion_matrix(y_test, test_y_pred)\n",
    "plt.figure(figsize=(4,4))\n",
    "sns.heatmap(log_matrix, annot=True, fmt=\".0f\", linewidths=.5, square = True, cmap = 'Pastel1');\n",
    "plt.ylabel('Actual label');\n",
    "plt.xlabel('Predicted label');\n",
    "all_sample_title = 'Accuracy Score: {0}'.format(round(test_score, 4))\n",
    "plt.title(all_sample_title, size = 15);\n",
    "plt.show()"
   ]
  },
  {
   "cell_type": "code",
   "execution_count": 76,
   "id": "McLI0JLbiC_7",
   "metadata": {
    "colab": {
     "base_uri": "https://localhost:8080/",
     "height": 404
    },
    "id": "McLI0JLbiC_7",
    "outputId": "9784f46d-5bf8-44da-c156-f4049a172a6f"
   },
   "outputs": [
    {
     "data": {
      "image/png": "[encoded data removed]",
      "text/plain": [
       "<Figure size 576x432 with 1 Axes>"
      ]
     },
     "metadata": {
      "needs_background": "light"
     },
     "output_type": "display_data"
    }
   ],
   "source": [
    "from sklearn.metrics import roc_curve, auc # Importing 'roc_curve' and 'auc' \n",
    "fpr, tpr, thresholds = roc_curve(test_y_pred, y_test) # Computing ROC for the test subset\n",
    "auc(fpr, tpr) # Computing AUC for the test subset\n",
    "plt.figure(figsize=(8, 6))\n",
    "plt.plot(fpr, tpr, color='red', label='K Nearest Neighbour (AUC: %.2f)'\n",
    "% auc(fpr, tpr))\n",
    "plt.plot([0, 1], [0, 1], color='blue', linestyle='--')\n",
    "plt.xlim([0.0, 1.0])\n",
    "plt.ylim([0.0, 1.01])\n",
    "plt.title('ROC Curve for the KNN Classifier')\n",
    "plt.xlabel('False Positive Rate (FPR)')\n",
    "plt.ylabel('True Positive Rate (TPR)')\n",
    "plt.legend()\n",
    "plt.show()"
   ]
  },
  {
   "cell_type": "markdown",
   "id": "c1LCVg7dkK78",
   "metadata": {
    "id": "c1LCVg7dkK78"
   },
   "source": [
    "**Model 1: Random Forest Classifier with balance data**"
   ]
  },
  {
   "cell_type": "code",
   "execution_count": 77,
   "id": "nn_m-W12kcdO",
   "metadata": {
    "id": "nn_m-W12kcdO"
   },
   "outputs": [],
   "source": [
    "from sklearn import metrics\n",
    "from sklearn.metrics import confusion_matrix, classification_report"
   ]
  },
  {
   "cell_type": "code",
   "execution_count": 78,
   "id": "iOLHaTBWj_-R",
   "metadata": {
    "id": "iOLHaTBWj_-R"
   },
   "outputs": [],
   "source": [
    "rf_clf = RandomForestClassifier(max_depth=2, random_state=3)\n",
    "rf_clf.fit(X_train, y_train)\n",
    "train_y_pred = rf_clf.predict(X_train)\n",
    "test_y_pred = rf_clf.predict(X_test)"
   ]
  },
  {
   "cell_type": "code",
   "execution_count": 79,
   "id": "SCuV4rEwkP76",
   "metadata": {
    "colab": {
     "base_uri": "https://localhost:8080/"
    },
    "id": "SCuV4rEwkP76",
    "outputId": "4ab5a826-453e-4849-91ae-965c82803a86"
   },
   "outputs": [
    {
     "name": "stdout",
     "output_type": "stream",
     "text": [
      "Random Forest Classifier Train Classification Report: \n",
      "\n",
      "               precision    recall  f1-score   support\n",
      "\n",
      "         0.0       0.75      0.85      0.80    238886\n",
      "         1.0       0.83      0.72      0.77    238847\n",
      "\n",
      "    accuracy                           0.78    477733\n",
      "   macro avg       0.79      0.78      0.78    477733\n",
      "weighted avg       0.79      0.78      0.78    477733\n",
      " \n",
      "\n",
      "\n",
      "Random Forest Classifier Test Classification Report: \n",
      "\n",
      "               precision    recall  f1-score   support\n",
      "\n",
      "         0.0       0.75      0.85      0.80     79603\n",
      "         1.0       0.83      0.72      0.77     79642\n",
      "\n",
      "    accuracy                           0.79    159245\n",
      "   macro avg       0.79      0.79      0.78    159245\n",
      "weighted avg       0.79      0.79      0.78    159245\n",
      "\n"
     ]
    }
   ],
   "source": [
    "train_score = metrics.accuracy_score(y_train, train_y_pred) # Compute train accuracy\n",
    "test_score = metrics.accuracy_score(y_test, test_y_pred) # Compute test accuracy\n",
    "train_report = classification_report(y_train, train_y_pred) # Generate classification report for train data\n",
    "test_report = classification_report(y_test, test_y_pred) # Generate classification report for test data\n",
    "print('Random Forest Classifier Train Classification Report: \\n\\n', train_report,'\\n\\n')\n",
    "print('Random Forest Classifier Test Classification Report: \\n\\n', test_report)"
   ]
  },
  {
   "cell_type": "code",
   "execution_count": 80,
   "id": "pfjY5-gekdTe",
   "metadata": {
    "colab": {
     "base_uri": "https://localhost:8080/",
     "height": 458
    },
    "id": "pfjY5-gekdTe",
    "outputId": "73b19c97-584c-4fc9-8f42-f796ae617be1"
   },
   "outputs": [
    {
     "data": {
      "image/png": "[encoded data removed]",
      "text/plain": [
       "<Figure size 504x504 with 1 Axes>"
      ]
     },
     "metadata": {
      "needs_background": "light"
     },
     "output_type": "display_data"
    }
   ],
   "source": [
    "# Calculating the feature importance\n",
    "feature_importance = rf_clf.feature_importances_\n",
    "feature_importance = 100.0*(feature_importance/np.sum(feature_importance))\n",
    "# Displaying the relative feature importance by a horizontal bar chart\n",
    "sorted_idx = np.argsort(feature_importance)\n",
    "pos=np.arange(sorted_idx.shape[0])+0.5\n",
    "plt.figure(figsize=(7, 7))\n",
    "plt.title(\"Feature Importance\")\n",
    "plt.xlabel('Relative Importance')\n",
    "plt.barh(pos, feature_importance[sorted_idx], color='crimson', align=\"center\")\n",
    "plt.yticks(pos, survey_selected_df.columns[:-1][sorted_idx])\n",
    "plt.show()"
   ]
  },
  {
   "cell_type": "code",
   "execution_count": 81,
   "id": "rlfmI_l9QZUH",
   "metadata": {
    "colab": {
     "base_uri": "https://localhost:8080/",
     "height": 260
    },
    "id": "rlfmI_l9QZUH",
    "outputId": "d4c5c60a-9695-4758-8da7-421bc226d336"
   },
   "outputs": [
    {
     "data": {
      "image/png": "[encoded data removed]",
      "text/plain": [
       "<Figure size 288x288 with 2 Axes>"
      ]
     },
     "metadata": {
      "needs_background": "light"
     },
     "output_type": "display_data"
    }
   ],
   "source": [
    "log_matrix = confusion_matrix(y_test, test_y_pred)\n",
    "plt.figure(figsize=(4,4))\n",
    "sns.heatmap(log_matrix, annot=True, fmt=\".0f\", linewidths=.5, square = True, cmap = 'Pastel1');\n",
    "plt.ylabel('Actual label');\n",
    "plt.xlabel('Predicted label');\n",
    "all_sample_title = 'Accuracy Score: {0}'.format(round(test_score, 4))\n",
    "plt.title(all_sample_title, size = 15);\n",
    "plt.show()"
   ]
  },
  {
   "cell_type": "code",
   "execution_count": 82,
   "id": "NN677hW1QbiX",
   "metadata": {
    "colab": {
     "base_uri": "https://localhost:8080/",
     "height": 350
    },
    "id": "NN677hW1QbiX",
    "outputId": "da1ae756-92b3-4ef1-97cd-8960f08c8e91"
   },
   "outputs": [
    {
     "data": {
      "image/png": "[encoded data removed]",
      "text/plain": [
       "<Figure size 504x360 with 1 Axes>"
      ]
     },
     "metadata": {
      "needs_background": "light"
     },
     "output_type": "display_data"
    }
   ],
   "source": [
    "from sklearn.metrics import roc_curve, auc # Importing 'roc_curve' and 'auc' \n",
    "fpr, tpr, thresholds = roc_curve(test_y_pred, y_test)\n",
    "auc(fpr, tpr)\n",
    "plt.figure(figsize=(7, 5))\n",
    "plt.plot(fpr, tpr, color='red', label='Random Forest Clasifier (AUC: %.2f)'\n",
    "% auc(fpr, tpr))\n",
    "plt.plot([0, 1], [0, 1], color='blue', linestyle='--')\n",
    "plt.xlim([0.0, 1.0])\n",
    "plt.ylim([0.0, 1.01])\n",
    "plt.title('ROC Curve for the Random Forest with Balanced Data')\n",
    "plt.xlabel('False Positive Rate (FPR)')\n",
    "plt.ylabel('True Positive Rate (TPR)')\n",
    "plt.legend()\n",
    "plt.show()"
   ]
  },
  {
   "cell_type": "markdown",
   "id": "TLTqPacxlPQk",
   "metadata": {
    "id": "TLTqPacxlPQk"
   },
   "source": [
    "As we have seen previously how important coronary heart disease feature to lead to heart attack."
   ]
  },
  {
   "cell_type": "markdown",
   "id": "RPa30uQTly4r",
   "metadata": {
    "id": "RPa30uQTly4r"
   },
   "source": [
    "Model 2: **XG Boost Classifier**\n",
    "\n",
    "Let us see how XGBoost is implemented in the current case."
   ]
  },
  {
   "cell_type": "code",
   "execution_count": 83,
   "id": "f3b2888b",
   "metadata": {},
   "outputs": [
    {
     "name": "stdout",
     "output_type": "stream",
     "text": [
      "Requirement already satisfied: xgboost in /Users/sraharsh/opt/anaconda3/lib/python3.9/site-packages (1.7.1)\n",
      "Requirement already satisfied: scipy in /Users/sraharsh/opt/anaconda3/lib/python3.9/site-packages (from xgboost) (1.7.1)\n",
      "Requirement already satisfied: numpy in /Users/sraharsh/opt/anaconda3/lib/python3.9/site-packages (from xgboost) (1.22.4)\n",
      "Note: you may need to restart the kernel to use updated packages.\n"
     ]
    }
   ],
   "source": [
    "pip install xgboost"
   ]
  },
  {
   "cell_type": "code",
   "execution_count": 84,
   "id": "lLfk_XArlEdK",
   "metadata": {
    "id": "lLfk_XArlEdK"
   },
   "outputs": [],
   "source": [
    "import xgboost as xgb\n",
    "xg_class = xgb.XGBClassifier()\n",
    "xg_class.fit(X_train, y_train)\n",
    "train_y_pred = xg_class.predict(X_train)\n",
    "test_y_pred = xg_class.predict(X_test)\n"
   ]
  },
  {
   "cell_type": "code",
   "execution_count": 85,
   "id": "MbfXUfuDnFnj",
   "metadata": {
    "colab": {
     "base_uri": "https://localhost:8080/"
    },
    "id": "MbfXUfuDnFnj",
    "outputId": "e656f445-1dea-480b-e7e6-8cc5c4c9968b"
   },
   "outputs": [
    {
     "name": "stdout",
     "output_type": "stream",
     "text": [
      "XG Boost Classifier Train Classification Report: \n",
      "\n",
      "               precision    recall  f1-score   support\n",
      "\n",
      "         0.0       0.79      0.83      0.81    238886\n",
      "         1.0       0.82      0.78      0.80    238847\n",
      "\n",
      "    accuracy                           0.81    477733\n",
      "   macro avg       0.81      0.81      0.80    477733\n",
      "weighted avg       0.81      0.81      0.80    477733\n",
      " \n",
      "\n",
      "\n",
      "XG Boost Classifier Test Classification Report: \n",
      "\n",
      "               precision    recall  f1-score   support\n",
      "\n",
      "         0.0       0.79      0.83      0.81     79603\n",
      "         1.0       0.82      0.78      0.80     79642\n",
      "\n",
      "    accuracy                           0.80    159245\n",
      "   macro avg       0.80      0.80      0.80    159245\n",
      "weighted avg       0.80      0.80      0.80    159245\n",
      "\n"
     ]
    }
   ],
   "source": [
    "train_score = metrics.accuracy_score(y_train, train_y_pred) # Compute train accuracy\n",
    "test_score = metrics.accuracy_score(y_test, test_y_pred) # Compute test accuracy\n",
    "train_report = classification_report(y_train, train_y_pred) # Generate classification report for train data\n",
    "test_report = classification_report(y_test, test_y_pred) # Generate classification report for test data\n",
    "print('XG Boost Classifier Train Classification Report: \\n\\n', train_report,'\\n\\n')\n",
    "print('XG Boost Classifier Test Classification Report: \\n\\n', test_report)"
   ]
  },
  {
   "cell_type": "code",
   "execution_count": 86,
   "id": "iUcLW3DOZMKJ",
   "metadata": {
    "colab": {
     "base_uri": "https://localhost:8080/",
     "height": 260
    },
    "id": "iUcLW3DOZMKJ",
    "outputId": "6b990a2c-56ae-4904-e430-007f36662629"
   },
   "outputs": [
    {
     "data": {
      "image/png": "[encoded data removed]",
      "text/plain": [
       "<Figure size 288x288 with 2 Axes>"
      ]
     },
     "metadata": {
      "needs_background": "light"
     },
     "output_type": "display_data"
    }
   ],
   "source": [
    "log_matrix = confusion_matrix(y_test, test_y_pred)\n",
    "plt.figure(figsize=(4,4))\n",
    "sns.heatmap(log_matrix, annot=True, fmt=\".0f\", linewidths=.5, square = True, cmap = 'Pastel1');\n",
    "plt.ylabel('Actual label');\n",
    "plt.xlabel('Predicted label');\n",
    "all_sample_title = 'Accuracy Score: {0}'.format(round(test_score, 4))\n",
    "plt.title(all_sample_title, size = 15);\n",
    "plt.show()"
   ]
  },
  {
   "cell_type": "code",
   "execution_count": 87,
   "id": "2fN_7N1wP-3q",
   "metadata": {
    "colab": {
     "base_uri": "https://localhost:8080/",
     "height": 350
    },
    "id": "2fN_7N1wP-3q",
    "outputId": "1578b115-4b0b-48b3-cb49-cafa6379a0d5"
   },
   "outputs": [
    {
     "data": {
      "image/png": "[encoded data removed]",
      "text/plain": [
       "<Figure size 504x360 with 1 Axes>"
      ]
     },
     "metadata": {
      "needs_background": "light"
     },
     "output_type": "display_data"
    }
   ],
   "source": [
    "from sklearn.metrics import roc_curve, auc # Importing 'roc_curve' and 'auc' \n",
    "fpr, tpr, thresholds = roc_curve(test_y_pred, y_test)\n",
    "auc(fpr, tpr)\n",
    "plt.figure(figsize=(7, 5))\n",
    "plt.plot(fpr, tpr, color='red', label='XGBOOST Classifier (AUC: %.2f)'\n",
    "% auc(fpr, tpr))\n",
    "plt.plot([0, 1], [0, 1], color='blue', linestyle='--')\n",
    "plt.xlim([0.0, 1.0])\n",
    "plt.ylim([0.0, 1.01])\n",
    "plt.title('ROC Curve for the XGBOOST')\n",
    "plt.xlabel('False Positive Rate (FPR)')\n",
    "plt.ylabel('True Positive Rate (TPR)')\n",
    "plt.legend()\n",
    "plt.show()"
   ]
  },
  {
   "cell_type": "markdown",
   "id": "sKPHgdtr_O0V",
   "metadata": {
    "id": "sKPHgdtr_O0V"
   },
   "source": [
    "Let's take top 4 features from the dataset.\n",
    "\n"
   ]
  },
  {
   "cell_type": "markdown",
   "id": "jAlYvTLm_07W",
   "metadata": {
    "id": "jAlYvTLm_07W"
   },
   "source": [
    "'Coronary Heart Disease', 'General Health', 'AGE above 65', 'Stroke'"
   ]
  },
  {
   "cell_type": "code",
   "execution_count": 88,
   "id": "xTTTOdhn_z6S",
   "metadata": {
    "id": "xTTTOdhn_z6S"
   },
   "outputs": [],
   "source": [
    "X= df_upsampled[['Coronary Heart Disease', 'General Health', 'AGE above 65', 'stroke']]\n",
    "y= df_upsampled['Heart Attack']\n"
   ]
  },
  {
   "cell_type": "code",
   "execution_count": 89,
   "id": "A5kI3TIeGgbU",
   "metadata": {
    "colab": {
     "base_uri": "https://localhost:8080/"
    },
    "id": "A5kI3TIeGgbU",
    "outputId": "cfa08b00-f2da-4326-86a2-b85f33d04c26"
   },
   "outputs": [
    {
     "data": {
      "text/plain": [
       "1.0    318489\n",
       "0.0    318489\n",
       "Name: Heart Attack, dtype: int64"
      ]
     },
     "execution_count": 89,
     "metadata": {},
     "output_type": "execute_result"
    }
   ],
   "source": [
    "df_upsampled['Heart Attack'].value_counts()"
   ]
  },
  {
   "cell_type": "markdown",
   "id": "XgCa71AdI9qc",
   "metadata": {
    "id": "XgCa71AdI9qc"
   },
   "source": [
    "**Model 4: Decision Tree Classifier**"
   ]
  },
  {
   "cell_type": "code",
   "execution_count": 90,
   "id": "H6YBoAnjHQVN",
   "metadata": {
    "id": "H6YBoAnjHQVN"
   },
   "outputs": [],
   "source": [
    "from sklearn import tree"
   ]
  },
  {
   "cell_type": "code",
   "execution_count": 91,
   "id": "YQ4S6FFvGvu_",
   "metadata": {
    "colab": {
     "base_uri": "https://localhost:8080/"
    },
    "id": "YQ4S6FFvGvu_",
    "outputId": "ee294635-0b2b-4e9c-c493-5f9d2c9d03dd"
   },
   "outputs": [
    {
     "data": {
      "text/html": [
       "<style>#sk-container-id-3 {color: black;background-color: white;}#sk-container-id-3 pre{padding: 0;}#sk-container-id-3 div.sk-toggleable {background-color: white;}#sk-container-id-3 label.sk-toggleable__label {cursor: pointer;display: block;width: 100%;margin-bottom: 0;padding: 0.3em;box-sizing: border-box;text-align: center;}#sk-container-id-3 label.sk-toggleable__label-arrow:before {content: \"▸\";float: left;margin-right: 0.25em;color: #696969;}#sk-container-id-3 label.sk-toggleable__label-arrow:hover:before {color: black;}#sk-container-id-3 div.sk-estimator:hover label.sk-toggleable__label-arrow:before {color: black;}#sk-container-id-3 div.sk-toggleable__content {max-height: 0;max-width: 0;overflow: hidden;text-align: left;background-color: #f0f8ff;}#sk-container-id-3 div.sk-toggleable__content pre {margin: 0.2em;color: black;border-radius: 0.25em;background-color: #f0f8ff;}#sk-container-id-3 input.sk-toggleable__control:checked~div.sk-toggleable__content {max-height: 200px;max-width: 100%;overflow: auto;}#sk-container-id-3 input.sk-toggleable__control:checked~label.sk-toggleable__label-arrow:before {content: \"▾\";}#sk-container-id-3 div.sk-estimator input.sk-toggleable__control:checked~label.sk-toggleable__label {background-color: #d4ebff;}#sk-container-id-3 div.sk-label input.sk-toggleable__control:checked~label.sk-toggleable__label {background-color: #d4ebff;}#sk-container-id-3 input.sk-hidden--visually {border: 0;clip: rect(1px 1px 1px 1px);clip: rect(1px, 1px, 1px, 1px);height: 1px;margin: -1px;overflow: hidden;padding: 0;position: absolute;width: 1px;}#sk-container-id-3 div.sk-estimator {font-family: monospace;background-color: #f0f8ff;border: 1px dotted black;border-radius: 0.25em;box-sizing: border-box;margin-bottom: 0.5em;}#sk-container-id-3 div.sk-estimator:hover {background-color: #d4ebff;}#sk-container-id-3 div.sk-parallel-item::after {content: \"\";width: 100%;border-bottom: 1px solid gray;flex-grow: 1;}#sk-container-id-3 div.sk-label:hover label.sk-toggleable__label {background-color: #d4ebff;}#sk-container-id-3 div.sk-serial::before {content: \"\";position: absolute;border-left: 1px solid gray;box-sizing: border-box;top: 0;bottom: 0;left: 50%;z-index: 0;}#sk-container-id-3 div.sk-serial {display: flex;flex-direction: column;align-items: center;background-color: white;padding-right: 0.2em;padding-left: 0.2em;position: relative;}#sk-container-id-3 div.sk-item {position: relative;z-index: 1;}#sk-container-id-3 div.sk-parallel {display: flex;align-items: stretch;justify-content: center;background-color: white;position: relative;}#sk-container-id-3 div.sk-item::before, #sk-container-id-3 div.sk-parallel-item::before {content: \"\";position: absolute;border-left: 1px solid gray;box-sizing: border-box;top: 0;bottom: 0;left: 50%;z-index: -1;}#sk-container-id-3 div.sk-parallel-item {display: flex;flex-direction: column;z-index: 1;position: relative;background-color: white;}#sk-container-id-3 div.sk-parallel-item:first-child::after {align-self: flex-end;width: 50%;}#sk-container-id-3 div.sk-parallel-item:last-child::after {align-self: flex-start;width: 50%;}#sk-container-id-3 div.sk-parallel-item:only-child::after {width: 0;}#sk-container-id-3 div.sk-dashed-wrapped {border: 1px dashed gray;margin: 0 0.4em 0.5em 0.4em;box-sizing: border-box;padding-bottom: 0.4em;background-color: white;}#sk-container-id-3 div.sk-label label {font-family: monospace;font-weight: bold;display: inline-block;line-height: 1.2em;}#sk-container-id-3 div.sk-label-container {text-align: center;}#sk-container-id-3 div.sk-container {/* jupyter's `normalize.less` sets `[hidden] { display: none; }` but bootstrap.min.css set `[hidden] { display: none !important; }` so we also need the `!important` here to be able to override the default hidden behavior on the sphinx rendered scikit-learn.org. See: https://github.com/scikit-learn/scikit-learn/issues/21755 */display: inline-block !important;position: relative;}#sk-container-id-3 div.sk-text-repr-fallback {display: none;}</style><div id=\"sk-container-id-3\" class=\"sk-top-container\"><div class=\"sk-text-repr-fallback\"><pre>DecisionTreeClassifier()</pre><b>In a Jupyter environment, please rerun this cell to show the HTML representation or trust the notebook. <br />On GitHub, the HTML representation is unable to render, please try loading this page with nbviewer.org.</b></div><div class=\"sk-container\" hidden><div class=\"sk-item\"><div class=\"sk-estimator sk-toggleable\"><input class=\"sk-toggleable__control sk-hidden--visually\" id=\"sk-estimator-id-3\" type=\"checkbox\" checked><label for=\"sk-estimator-id-3\" class=\"sk-toggleable__label sk-toggleable__label-arrow\">DecisionTreeClassifier</label><div class=\"sk-toggleable__content\"><pre>DecisionTreeClassifier()</pre></div></div></div></div></div>"
      ],
      "text/plain": [
       "DecisionTreeClassifier()"
      ]
     },
     "execution_count": 91,
     "metadata": {},
     "output_type": "execute_result"
    }
   ],
   "source": [
    "# Constructing tree classifier with no specified hyperparameters\n",
    "tr_clf = tree.DecisionTreeClassifier()\n",
    "tr_clf.fit(X_train, y_train)\n"
   ]
  },
  {
   "cell_type": "code",
   "execution_count": 92,
   "id": "jCFhf8sEHfNY",
   "metadata": {
    "id": "jCFhf8sEHfNY"
   },
   "outputs": [],
   "source": [
    "# Finding the predictions of tree classifier for train and test subsets\n",
    "train_y_pred = tr_clf.predict(X_train)\n",
    "test_y_pred = tr_clf.predict(X_test)"
   ]
  },
  {
   "cell_type": "code",
   "execution_count": 93,
   "id": "eLOqHJfCHgGl",
   "metadata": {
    "colab": {
     "base_uri": "https://localhost:8080/"
    },
    "id": "eLOqHJfCHgGl",
    "outputId": "2975b99a-8f9e-4d81-a56b-e70145ec2d72"
   },
   "outputs": [
    {
     "name": "stdout",
     "output_type": "stream",
     "text": [
      "Decision Tree Train Classification Report: \n",
      "\n",
      "               precision    recall  f1-score   support\n",
      "\n",
      "         0.0       0.81      0.83      0.82    238886\n",
      "         1.0       0.83      0.81      0.82    238847\n",
      "\n",
      "    accuracy                           0.82    477733\n",
      "   macro avg       0.82      0.82      0.82    477733\n",
      "weighted avg       0.82      0.82      0.82    477733\n",
      " \n",
      "\n",
      "\n",
      "Decision Tree Test Classification Report: \n",
      "\n",
      "               precision    recall  f1-score   support\n",
      "\n",
      "         0.0       0.81      0.83      0.82     79603\n",
      "         1.0       0.82      0.81      0.81     79642\n",
      "\n",
      "    accuracy                           0.82    159245\n",
      "   macro avg       0.82      0.82      0.82    159245\n",
      "weighted avg       0.82      0.82      0.82    159245\n",
      "\n"
     ]
    }
   ],
   "source": [
    "train_score = metrics.accuracy_score(y_train, train_y_pred) # Compute train accuracy\n",
    "test_score = metrics.accuracy_score(y_test, test_y_pred) # Compute test accuracy\n",
    "train_report = classification_report(y_train, train_y_pred) # Generate classification report for train data\n",
    "test_report = classification_report(y_test, test_y_pred) # Generate classification report for test data\n",
    "print('Decision Tree Train Classification Report: \\n\\n', train_report,'\\n\\n')\n",
    "print('Decision Tree Test Classification Report: \\n\\n', test_report)"
   ]
  },
  {
   "cell_type": "code",
   "execution_count": 94,
   "id": "3cqVM16dcFIl",
   "metadata": {
    "colab": {
     "base_uri": "https://localhost:8080/",
     "height": 260
    },
    "id": "3cqVM16dcFIl",
    "outputId": "fdf019c3-6267-48e5-ff9b-ad90a2d74dd1"
   },
   "outputs": [
    {
     "data": {
      "image/png": "[encoded data removed]",
      "text/plain": [
       "<Figure size 288x288 with 2 Axes>"
      ]
     },
     "metadata": {
      "needs_background": "light"
     },
     "output_type": "display_data"
    }
   ],
   "source": [
    "log_matrix = confusion_matrix(y_test, test_y_pred)\n",
    "plt.figure(figsize=(4,4))\n",
    "sns.heatmap(log_matrix, annot=True, fmt=\".0f\", linewidths=.5, square = True, cmap = 'Pastel1');\n",
    "plt.ylabel('Actual label');\n",
    "plt.xlabel('Predicted label');\n",
    "all_sample_title = 'Accuracy Score: {0}'.format(round(test_score, 4))\n",
    "plt.title(all_sample_title, size = 15);\n",
    "plt.show()"
   ]
  },
  {
   "cell_type": "code",
   "execution_count": 95,
   "id": "AH6bdXEhcLfQ",
   "metadata": {
    "colab": {
     "base_uri": "https://localhost:8080/",
     "height": 350
    },
    "id": "AH6bdXEhcLfQ",
    "outputId": "ef52cc25-0fd5-452b-d4f7-132813a7482b"
   },
   "outputs": [
    {
     "data": {
      "image/png": "[encoded data removed]",
      "text/plain": [
       "<Figure size 504x360 with 1 Axes>"
      ]
     },
     "metadata": {
      "needs_background": "light"
     },
     "output_type": "display_data"
    }
   ],
   "source": [
    "from sklearn.metrics import roc_curve, auc # Importing 'roc_curve' and 'auc' \n",
    "fpr, tpr, thresholds = roc_curve(test_y_pred, y_test)\n",
    "auc(fpr, tpr)\n",
    "plt.figure(figsize=(7, 5))\n",
    "plt.plot(fpr, tpr, color='red', label='Decision Tree Classifier (AUC: %.2f)'\n",
    "% auc(fpr, tpr))\n",
    "plt.plot([0, 1], [0, 1], color='blue', linestyle='--')\n",
    "plt.xlim([0.0, 1.0])\n",
    "plt.ylim([0.0, 1.01])\n",
    "plt.title('ROC Curve for the Decision Tree Classifier')\n",
    "plt.xlabel('False Positive Rate (FPR)')\n",
    "plt.ylabel('True Positive Rate (TPR)')\n",
    "plt.legend()\n",
    "plt.show()"
   ]
  },
  {
   "cell_type": "markdown",
   "id": "0BFvsIfWJOZg",
   "metadata": {
    "id": "0BFvsIfWJOZg"
   },
   "source": [
    "Let's try Adaboost Classifier "
   ]
  },
  {
   "cell_type": "code",
   "execution_count": 96,
   "id": "GQAccWDbHlxQ",
   "metadata": {
    "colab": {
     "base_uri": "https://localhost:8080/"
    },
    "id": "GQAccWDbHlxQ",
    "outputId": "59f93a1a-ad32-4255-9477-460548728389"
   },
   "outputs": [
    {
     "data": {
      "text/html": [
       "<style>#sk-container-id-4 {color: black;background-color: white;}#sk-container-id-4 pre{padding: 0;}#sk-container-id-4 div.sk-toggleable {background-color: white;}#sk-container-id-4 label.sk-toggleable__label {cursor: pointer;display: block;width: 100%;margin-bottom: 0;padding: 0.3em;box-sizing: border-box;text-align: center;}#sk-container-id-4 label.sk-toggleable__label-arrow:before {content: \"▸\";float: left;margin-right: 0.25em;color: #696969;}#sk-container-id-4 label.sk-toggleable__label-arrow:hover:before {color: black;}#sk-container-id-4 div.sk-estimator:hover label.sk-toggleable__label-arrow:before {color: black;}#sk-container-id-4 div.sk-toggleable__content {max-height: 0;max-width: 0;overflow: hidden;text-align: left;background-color: #f0f8ff;}#sk-container-id-4 div.sk-toggleable__content pre {margin: 0.2em;color: black;border-radius: 0.25em;background-color: #f0f8ff;}#sk-container-id-4 input.sk-toggleable__control:checked~div.sk-toggleable__content {max-height: 200px;max-width: 100%;overflow: auto;}#sk-container-id-4 input.sk-toggleable__control:checked~label.sk-toggleable__label-arrow:before {content: \"▾\";}#sk-container-id-4 div.sk-estimator input.sk-toggleable__control:checked~label.sk-toggleable__label {background-color: #d4ebff;}#sk-container-id-4 div.sk-label input.sk-toggleable__control:checked~label.sk-toggleable__label {background-color: #d4ebff;}#sk-container-id-4 input.sk-hidden--visually {border: 0;clip: rect(1px 1px 1px 1px);clip: rect(1px, 1px, 1px, 1px);height: 1px;margin: -1px;overflow: hidden;padding: 0;position: absolute;width: 1px;}#sk-container-id-4 div.sk-estimator {font-family: monospace;background-color: #f0f8ff;border: 1px dotted black;border-radius: 0.25em;box-sizing: border-box;margin-bottom: 0.5em;}#sk-container-id-4 div.sk-estimator:hover {background-color: #d4ebff;}#sk-container-id-4 div.sk-parallel-item::after {content: \"\";width: 100%;border-bottom: 1px solid gray;flex-grow: 1;}#sk-container-id-4 div.sk-label:hover label.sk-toggleable__label {background-color: #d4ebff;}#sk-container-id-4 div.sk-serial::before {content: \"\";position: absolute;border-left: 1px solid gray;box-sizing: border-box;top: 0;bottom: 0;left: 50%;z-index: 0;}#sk-container-id-4 div.sk-serial {display: flex;flex-direction: column;align-items: center;background-color: white;padding-right: 0.2em;padding-left: 0.2em;position: relative;}#sk-container-id-4 div.sk-item {position: relative;z-index: 1;}#sk-container-id-4 div.sk-parallel {display: flex;align-items: stretch;justify-content: center;background-color: white;position: relative;}#sk-container-id-4 div.sk-item::before, #sk-container-id-4 div.sk-parallel-item::before {content: \"\";position: absolute;border-left: 1px solid gray;box-sizing: border-box;top: 0;bottom: 0;left: 50%;z-index: -1;}#sk-container-id-4 div.sk-parallel-item {display: flex;flex-direction: column;z-index: 1;position: relative;background-color: white;}#sk-container-id-4 div.sk-parallel-item:first-child::after {align-self: flex-end;width: 50%;}#sk-container-id-4 div.sk-parallel-item:last-child::after {align-self: flex-start;width: 50%;}#sk-container-id-4 div.sk-parallel-item:only-child::after {width: 0;}#sk-container-id-4 div.sk-dashed-wrapped {border: 1px dashed gray;margin: 0 0.4em 0.5em 0.4em;box-sizing: border-box;padding-bottom: 0.4em;background-color: white;}#sk-container-id-4 div.sk-label label {font-family: monospace;font-weight: bold;display: inline-block;line-height: 1.2em;}#sk-container-id-4 div.sk-label-container {text-align: center;}#sk-container-id-4 div.sk-container {/* jupyter's `normalize.less` sets `[hidden] { display: none; }` but bootstrap.min.css set `[hidden] { display: none !important; }` so we also need the `!important` here to be able to override the default hidden behavior on the sphinx rendered scikit-learn.org. See: https://github.com/scikit-learn/scikit-learn/issues/21755 */display: inline-block !important;position: relative;}#sk-container-id-4 div.sk-text-repr-fallback {display: none;}</style><div id=\"sk-container-id-4\" class=\"sk-top-container\"><div class=\"sk-text-repr-fallback\"><pre>AdaBoostClassifier(base_estimator=DecisionTreeClassifier(max_leaf_nodes=10),\n",
       "                   learning_rate=1.5, n_estimators=500, random_state=0)</pre><b>In a Jupyter environment, please rerun this cell to show the HTML representation or trust the notebook. <br />On GitHub, the HTML representation is unable to render, please try loading this page with nbviewer.org.</b></div><div class=\"sk-container\" hidden><div class=\"sk-item sk-dashed-wrapped\"><div class=\"sk-label-container\"><div class=\"sk-label sk-toggleable\"><input class=\"sk-toggleable__control sk-hidden--visually\" id=\"sk-estimator-id-4\" type=\"checkbox\" ><label for=\"sk-estimator-id-4\" class=\"sk-toggleable__label sk-toggleable__label-arrow\">AdaBoostClassifier</label><div class=\"sk-toggleable__content\"><pre>AdaBoostClassifier(base_estimator=DecisionTreeClassifier(max_leaf_nodes=10),\n",
       "                   learning_rate=1.5, n_estimators=500, random_state=0)</pre></div></div></div><div class=\"sk-parallel\"><div class=\"sk-parallel-item\"><div class=\"sk-item\"><div class=\"sk-label-container\"><div class=\"sk-label sk-toggleable\"><input class=\"sk-toggleable__control sk-hidden--visually\" id=\"sk-estimator-id-5\" type=\"checkbox\" ><label for=\"sk-estimator-id-5\" class=\"sk-toggleable__label sk-toggleable__label-arrow\">base_estimator: DecisionTreeClassifier</label><div class=\"sk-toggleable__content\"><pre>DecisionTreeClassifier(max_leaf_nodes=10)</pre></div></div></div><div class=\"sk-serial\"><div class=\"sk-item\"><div class=\"sk-estimator sk-toggleable\"><input class=\"sk-toggleable__control sk-hidden--visually\" id=\"sk-estimator-id-6\" type=\"checkbox\" ><label for=\"sk-estimator-id-6\" class=\"sk-toggleable__label sk-toggleable__label-arrow\">DecisionTreeClassifier</label><div class=\"sk-toggleable__content\"><pre>DecisionTreeClassifier(max_leaf_nodes=10)</pre></div></div></div></div></div></div></div></div></div></div>"
      ],
      "text/plain": [
       "AdaBoostClassifier(base_estimator=DecisionTreeClassifier(max_leaf_nodes=10),\n",
       "                   learning_rate=1.5, n_estimators=500, random_state=0)"
      ]
     },
     "execution_count": 96,
     "metadata": {},
     "output_type": "execute_result"
    }
   ],
   "source": [
    "from sklearn.ensemble import AdaBoostClassifier\n",
    "# Instantiating the AdaBoostClassifier with 500 sequential trees\n",
    "adab_clf = AdaBoostClassifier(base_estimator=tree.DecisionTreeClassifier(max_leaf_nodes=10),n_estimators=500, learning_rate=1.5, random_state=0)\n",
    "adab_clf.fit(X_train, y_train)"
   ]
  },
  {
   "cell_type": "code",
   "execution_count": 97,
   "id": "yem8k56RK-4L",
   "metadata": {
    "id": "yem8k56RK-4L"
   },
   "outputs": [],
   "source": [
    "train_y_pred = adab_clf.predict(X_train)\n",
    "test_y_pred = adab_clf.predict(X_test)"
   ]
  },
  {
   "cell_type": "code",
   "execution_count": 98,
   "id": "gFCciSJVM90K",
   "metadata": {
    "colab": {
     "base_uri": "https://localhost:8080/"
    },
    "id": "gFCciSJVM90K",
    "outputId": "d04313a0-8e62-4a1f-95dd-4587a6b9b738"
   },
   "outputs": [
    {
     "name": "stdout",
     "output_type": "stream",
     "text": [
      "AdaBoost Classifier Train Classification Report: \n",
      "\n",
      "               precision    recall  f1-score   support\n",
      "\n",
      "         0.0       0.79      0.84      0.81    238886\n",
      "         1.0       0.83      0.78      0.80    238847\n",
      "\n",
      "    accuracy                           0.81    477733\n",
      "   macro avg       0.81      0.81      0.81    477733\n",
      "weighted avg       0.81      0.81      0.81    477733\n",
      " \n",
      "\n",
      "\n",
      "AdaBoost Classifier Test Classification Report: \n",
      "\n",
      "               precision    recall  f1-score   support\n",
      "\n",
      "         0.0       0.79      0.83      0.81     79603\n",
      "         1.0       0.82      0.78      0.80     79642\n",
      "\n",
      "    accuracy                           0.81    159245\n",
      "   macro avg       0.81      0.81      0.81    159245\n",
      "weighted avg       0.81      0.81      0.81    159245\n",
      "\n"
     ]
    }
   ],
   "source": [
    "train_score = metrics.accuracy_score(y_train, train_y_pred) # Compute train accuracy\n",
    "test_score = metrics.accuracy_score(y_test, test_y_pred) # Compute test accuracy\n",
    "train_report = classification_report(y_train, train_y_pred) # Generate classification report for train data\n",
    "test_report = classification_report(y_test, test_y_pred) # Generate classification report for test data\n",
    "print('AdaBoost Classifier Train Classification Report: \\n\\n', train_report,'\\n\\n')\n",
    "print('AdaBoost Classifier Test Classification Report: \\n\\n', test_report)"
   ]
  },
  {
   "cell_type": "code",
   "execution_count": 99,
   "id": "2h_poJfgP0kU",
   "metadata": {
    "colab": {
     "base_uri": "https://localhost:8080/",
     "height": 260
    },
    "id": "2h_poJfgP0kU",
    "outputId": "20dbcd65-253c-4f7e-bacb-6107d548a2ae"
   },
   "outputs": [
    {
     "data": {
      "image/png": "[encoded data removed]",
      "text/plain": [
       "<Figure size 288x288 with 2 Axes>"
      ]
     },
     "metadata": {
      "needs_background": "light"
     },
     "output_type": "display_data"
    }
   ],
   "source": [
    "log_matrix = confusion_matrix(y_test, test_y_pred)\n",
    "plt.figure(figsize=(4,4))\n",
    "sns.heatmap(log_matrix, annot=True, fmt=\".0f\", linewidths=.5, square = True, cmap = 'Pastel1');\n",
    "plt.ylabel('Actual label');\n",
    "plt.xlabel('Predicted label');\n",
    "all_sample_title = 'Accuracy Score: {0}'.format(round(test_score, 4))\n",
    "plt.title(all_sample_title, size = 15);\n",
    "plt.show()"
   ]
  },
  {
   "cell_type": "code",
   "execution_count": 100,
   "id": "YksYrzMdcwt_",
   "metadata": {
    "colab": {
     "base_uri": "https://localhost:8080/",
     "height": 350
    },
    "id": "YksYrzMdcwt_",
    "outputId": "1a7eadb2-f770-496f-8abe-42ee0ce26e15"
   },
   "outputs": [
    {
     "data": {
      "image/png": "[encoded data removed]",
      "text/plain": [
       "<Figure size 504x360 with 1 Axes>"
      ]
     },
     "metadata": {
      "needs_background": "light"
     },
     "output_type": "display_data"
    }
   ],
   "source": [
    "from sklearn.metrics import roc_curve, auc # Importing 'roc_curve' and 'auc' \n",
    "fpr, tpr, thresholds = roc_curve(test_y_pred, y_test)\n",
    "auc(fpr, tpr)\n",
    "plt.figure(figsize=(7, 5))\n",
    "plt.plot(fpr, tpr, color='red', label='ADA Classifier (AUC: %.2f)'\n",
    "% auc(fpr, tpr))\n",
    "plt.plot([0, 1], [0, 1], color='blue', linestyle='--')\n",
    "plt.xlim([0.0, 1.0])\n",
    "plt.ylim([0.0, 1.01])\n",
    "plt.title('ROC Curve for the ADA BOOST')\n",
    "plt.xlabel('False Positive Rate (FPR)')\n",
    "plt.ylabel('True Positive Rate (TPR)')\n",
    "plt.legend()\n",
    "plt.show()"
   ]
  },
  {
   "attachments": {},
   "cell_type": "markdown",
   "id": "veAW1r1-NRRN",
   "metadata": {
    "id": "veAW1r1-NRRN"
   },
   "source": [
    "**Hyperparameter tuning**\n",
    "\n",
    "Let's tune the Random Forest, XGBoost to produce better results with fewer errors"
   ]
  },
  {
   "cell_type": "code",
   "execution_count": 101,
   "id": "mubG5LwfNK5f",
   "metadata": {
    "id": "mubG5LwfNK5f"
   },
   "outputs": [],
   "source": [
    "from sklearn.model_selection import GridSearchCV\n",
    "# Create the parameter grid based on the results of random search \n",
    "param_grid = {\n",
    "    'bootstrap': [True],\n",
    "    'max_depth': [80, 90],\n",
    "    'max_features': [2, 3],\n",
    "    'min_samples_leaf': [3, 4],\n",
    "    'min_samples_split': [8, 10],\n",
    "    'n_estimators': [25,50]\n",
    "}\n",
    "\n",
    "# Instantiate the grid search model\n",
    "grid_search = GridSearchCV(estimator = RandomForestClassifier(), param_grid = param_grid, \n",
    "                          cv = 3, n_jobs = -1, verbose = 2)"
   ]
  },
  {
   "cell_type": "code",
   "execution_count": 102,
   "id": "ND9ygGq4dGZL",
   "metadata": {
    "colab": {
     "base_uri": "https://localhost:8080/"
    },
    "id": "ND9ygGq4dGZL",
    "outputId": "a96ed937-b140-4372-aa00-035f28e94863"
   },
   "outputs": [
    {
     "name": "stdout",
     "output_type": "stream",
     "text": [
      "Fitting 3 folds for each of 32 candidates, totalling 96 fits\n"
     ]
    },
    {
     "data": {
      "text/plain": [
       "{'bootstrap': True,\n",
       " 'max_depth': 90,\n",
       " 'max_features': 3,\n",
       " 'min_samples_leaf': 3,\n",
       " 'min_samples_split': 8,\n",
       " 'n_estimators': 50}"
      ]
     },
     "execution_count": 102,
     "metadata": {},
     "output_type": "execute_result"
    }
   ],
   "source": [
    "# Fit the grid search to the data\n",
    "grid_search.fit(X_train,y_train)\n",
    "grid_search.best_params_"
   ]
  },
  {
   "cell_type": "code",
   "execution_count": 103,
   "id": "fp89cByFdK4H",
   "metadata": {
    "colab": {
     "base_uri": "https://localhost:8080/"
    },
    "id": "fp89cByFdK4H",
    "outputId": "8da917a4-7fea-4fda-ab52-9f4bb946423b"
   },
   "outputs": [
    {
     "data": {
      "text/html": [
       "<style>#sk-container-id-5 {color: black;background-color: white;}#sk-container-id-5 pre{padding: 0;}#sk-container-id-5 div.sk-toggleable {background-color: white;}#sk-container-id-5 label.sk-toggleable__label {cursor: pointer;display: block;width: 100%;margin-bottom: 0;padding: 0.3em;box-sizing: border-box;text-align: center;}#sk-container-id-5 label.sk-toggleable__label-arrow:before {content: \"▸\";float: left;margin-right: 0.25em;color: #696969;}#sk-container-id-5 label.sk-toggleable__label-arrow:hover:before {color: black;}#sk-container-id-5 div.sk-estimator:hover label.sk-toggleable__label-arrow:before {color: black;}#sk-container-id-5 div.sk-toggleable__content {max-height: 0;max-width: 0;overflow: hidden;text-align: left;background-color: #f0f8ff;}#sk-container-id-5 div.sk-toggleable__content pre {margin: 0.2em;color: black;border-radius: 0.25em;background-color: #f0f8ff;}#sk-container-id-5 input.sk-toggleable__control:checked~div.sk-toggleable__content {max-height: 200px;max-width: 100%;overflow: auto;}#sk-container-id-5 input.sk-toggleable__control:checked~label.sk-toggleable__label-arrow:before {content: \"▾\";}#sk-container-id-5 div.sk-estimator input.sk-toggleable__control:checked~label.sk-toggleable__label {background-color: #d4ebff;}#sk-container-id-5 div.sk-label input.sk-toggleable__control:checked~label.sk-toggleable__label {background-color: #d4ebff;}#sk-container-id-5 input.sk-hidden--visually {border: 0;clip: rect(1px 1px 1px 1px);clip: rect(1px, 1px, 1px, 1px);height: 1px;margin: -1px;overflow: hidden;padding: 0;position: absolute;width: 1px;}#sk-container-id-5 div.sk-estimator {font-family: monospace;background-color: #f0f8ff;border: 1px dotted black;border-radius: 0.25em;box-sizing: border-box;margin-bottom: 0.5em;}#sk-container-id-5 div.sk-estimator:hover {background-color: #d4ebff;}#sk-container-id-5 div.sk-parallel-item::after {content: \"\";width: 100%;border-bottom: 1px solid gray;flex-grow: 1;}#sk-container-id-5 div.sk-label:hover label.sk-toggleable__label {background-color: #d4ebff;}#sk-container-id-5 div.sk-serial::before {content: \"\";position: absolute;border-left: 1px solid gray;box-sizing: border-box;top: 0;bottom: 0;left: 50%;z-index: 0;}#sk-container-id-5 div.sk-serial {display: flex;flex-direction: column;align-items: center;background-color: white;padding-right: 0.2em;padding-left: 0.2em;position: relative;}#sk-container-id-5 div.sk-item {position: relative;z-index: 1;}#sk-container-id-5 div.sk-parallel {display: flex;align-items: stretch;justify-content: center;background-color: white;position: relative;}#sk-container-id-5 div.sk-item::before, #sk-container-id-5 div.sk-parallel-item::before {content: \"\";position: absolute;border-left: 1px solid gray;box-sizing: border-box;top: 0;bottom: 0;left: 50%;z-index: -1;}#sk-container-id-5 div.sk-parallel-item {display: flex;flex-direction: column;z-index: 1;position: relative;background-color: white;}#sk-container-id-5 div.sk-parallel-item:first-child::after {align-self: flex-end;width: 50%;}#sk-container-id-5 div.sk-parallel-item:last-child::after {align-self: flex-start;width: 50%;}#sk-container-id-5 div.sk-parallel-item:only-child::after {width: 0;}#sk-container-id-5 div.sk-dashed-wrapped {border: 1px dashed gray;margin: 0 0.4em 0.5em 0.4em;box-sizing: border-box;padding-bottom: 0.4em;background-color: white;}#sk-container-id-5 div.sk-label label {font-family: monospace;font-weight: bold;display: inline-block;line-height: 1.2em;}#sk-container-id-5 div.sk-label-container {text-align: center;}#sk-container-id-5 div.sk-container {/* jupyter's `normalize.less` sets `[hidden] { display: none; }` but bootstrap.min.css set `[hidden] { display: none !important; }` so we also need the `!important` here to be able to override the default hidden behavior on the sphinx rendered scikit-learn.org. See: https://github.com/scikit-learn/scikit-learn/issues/21755 */display: inline-block !important;position: relative;}#sk-container-id-5 div.sk-text-repr-fallback {display: none;}</style><div id=\"sk-container-id-5\" class=\"sk-top-container\"><div class=\"sk-text-repr-fallback\"><pre>RandomForestClassifier(max_depth=90, max_features=3, min_samples_leaf=3,\n",
       "                       min_samples_split=8, n_estimators=50)</pre><b>In a Jupyter environment, please rerun this cell to show the HTML representation or trust the notebook. <br />On GitHub, the HTML representation is unable to render, please try loading this page with nbviewer.org.</b></div><div class=\"sk-container\" hidden><div class=\"sk-item\"><div class=\"sk-estimator sk-toggleable\"><input class=\"sk-toggleable__control sk-hidden--visually\" id=\"sk-estimator-id-7\" type=\"checkbox\" checked><label for=\"sk-estimator-id-7\" class=\"sk-toggleable__label sk-toggleable__label-arrow\">RandomForestClassifier</label><div class=\"sk-toggleable__content\"><pre>RandomForestClassifier(max_depth=90, max_features=3, min_samples_leaf=3,\n",
       "                       min_samples_split=8, n_estimators=50)</pre></div></div></div></div></div>"
      ],
      "text/plain": [
       "RandomForestClassifier(max_depth=90, max_features=3, min_samples_leaf=3,\n",
       "                       min_samples_split=8, n_estimators=50)"
      ]
     },
     "execution_count": 103,
     "metadata": {},
     "output_type": "execute_result"
    }
   ],
   "source": [
    "best_grid = grid_search.best_estimator_  #esitmator gives the best values of parameter from grid search\n",
    "best_grid  "
   ]
  },
  {
   "cell_type": "code",
   "execution_count": 104,
   "id": "9510ee00",
   "metadata": {
    "id": "9510ee00"
   },
   "outputs": [],
   "source": [
    "rf_clf = RandomForestClassifier(max_depth=80, max_features=2, min_samples_leaf=3,\n",
    "                       min_samples_split=8, n_estimators=50)\n",
    "rf_clf.fit(X_train, y_train)\n",
    "train_y_pred = rf_clf.predict(X_train)\n",
    "test_y_pred = rf_clf.predict(X_test)"
   ]
  },
  {
   "cell_type": "code",
   "execution_count": 105,
   "id": "1d396c45",
   "metadata": {
    "colab": {
     "base_uri": "https://localhost:8080/"
    },
    "id": "1d396c45",
    "outputId": "20622603-6604-43fc-905d-ac424fd7bf44"
   },
   "outputs": [
    {
     "name": "stdout",
     "output_type": "stream",
     "text": [
      "Random Forest Classifier Train Classification Report: \n",
      "\n",
      "               precision    recall  f1-score   support\n",
      "\n",
      "         0.0       0.81      0.83      0.82    238886\n",
      "         1.0       0.83      0.80      0.81    238847\n",
      "\n",
      "    accuracy                           0.82    477733\n",
      "   macro avg       0.82      0.82      0.82    477733\n",
      "weighted avg       0.82      0.82      0.82    477733\n",
      " \n",
      "\n",
      "\n",
      "Random Forest Classifier Test Classification Report: \n",
      "\n",
      "               precision    recall  f1-score   support\n",
      "\n",
      "         0.0       0.81      0.83      0.82     79603\n",
      "         1.0       0.82      0.80      0.81     79642\n",
      "\n",
      "    accuracy                           0.81    159245\n",
      "   macro avg       0.81      0.81      0.81    159245\n",
      "weighted avg       0.81      0.81      0.81    159245\n",
      "\n"
     ]
    }
   ],
   "source": [
    "train_score = metrics.accuracy_score(y_train, train_y_pred) # Compute train accuracy\n",
    "test_score = metrics.accuracy_score(y_test, test_y_pred) # Compute test accuracy\n",
    "train_report = classification_report(y_train, train_y_pred) # Generate classification report for train data\n",
    "test_report = classification_report(y_test, test_y_pred) # Generate classification report for test data\n",
    "print('Random Forest Classifier Train Classification Report: \\n\\n', train_report,'\\n\\n')\n",
    "print('Random Forest Classifier Test Classification Report: \\n\\n', test_report)"
   ]
  },
  {
   "cell_type": "code",
   "execution_count": 106,
   "id": "tWZ5FUaCZAXv",
   "metadata": {
    "colab": {
     "base_uri": "https://localhost:8080/",
     "height": 260
    },
    "id": "tWZ5FUaCZAXv",
    "outputId": "edca0fe1-4ac7-4b54-84cd-8215f0bd99fb"
   },
   "outputs": [
    {
     "data": {
      "image/png": "[encoded data removed]",
      "text/plain": [
       "<Figure size 288x288 with 2 Axes>"
      ]
     },
     "metadata": {
      "needs_background": "light"
     },
     "output_type": "display_data"
    }
   ],
   "source": [
    "log_matrix = confusion_matrix(y_test, test_y_pred)\n",
    "plt.figure(figsize=(4,4))\n",
    "sns.heatmap(log_matrix, annot=True, fmt=\".0f\", linewidths=.5, square = True, cmap = 'Pastel1');\n",
    "plt.ylabel('Actual label');\n",
    "plt.xlabel('Predicted label');\n",
    "all_sample_title = 'Accuracy Score: {0}'.format(round(test_score, 4))\n",
    "plt.title(all_sample_title, size = 15);\n",
    "plt.show()"
   ]
  },
  {
   "cell_type": "code",
   "execution_count": 107,
   "id": "jb71nV1eZWdo",
   "metadata": {
    "colab": {
     "base_uri": "https://localhost:8080/",
     "height": 350
    },
    "id": "jb71nV1eZWdo",
    "outputId": "23d9224a-605d-4998-98f0-a714db02fd18"
   },
   "outputs": [
    {
     "data": {
      "image/png": "[encoded data removed]",
      "text/plain": [
       "<Figure size 504x360 with 1 Axes>"
      ]
     },
     "metadata": {
      "needs_background": "light"
     },
     "output_type": "display_data"
    }
   ],
   "source": [
    "fpr, tpr, thresholds = roc_curve(test_y_pred, y_test)\n",
    "auc(fpr, tpr)\n",
    "plt.figure(figsize=(7, 5))\n",
    "plt.plot(fpr, tpr, color='red', label='Random Forest Clasifier (AUC: %.2f)'\n",
    "% auc(fpr, tpr))\n",
    "plt.plot([0, 1], [0, 1], color='blue', linestyle='--')\n",
    "plt.xlim([0.0, 1.0])\n",
    "plt.ylim([0.0, 1.01])\n",
    "plt.title('ROC Curve for the Random Forest Clasifier after Hyper parameter Tuning')\n",
    "plt.xlabel('False Positive Rate (FPR)')\n",
    "plt.ylabel('True Positive Rate (TPR)')\n",
    "plt.legend()\n",
    "plt.show()"
   ]
  },
  {
   "cell_type": "code",
   "execution_count": 108,
   "id": "cnT07xV1NLCI",
   "metadata": {
    "id": "cnT07xV1NLCI"
   },
   "outputs": [],
   "source": [
    "param_grid = { 'max_depth': [3,6,10],\n",
    "           'learning_rate': [0.01, 0.05, 0.1],\n",
    "           'n_estimators': [50,100],\n",
    "           'colsample_bytree': [0.3, 0.7]}\n",
    "\n",
    "grid_search = GridSearchCV(estimator = xgb.XGBClassifier(), param_grid = param_grid, \n",
    "                          cv = 3, n_jobs = -1, verbose = 2)         "
   ]
  },
  {
   "cell_type": "code",
   "execution_count": 109,
   "id": "T1CRTwH0Pxu9",
   "metadata": {
    "colab": {
     "base_uri": "https://localhost:8080/"
    },
    "id": "T1CRTwH0Pxu9",
    "outputId": "a4354263-b0bb-4da2-bbb1-993dd3c1e697"
   },
   "outputs": [
    {
     "name": "stdout",
     "output_type": "stream",
     "text": [
      "Fitting 3 folds for each of 36 candidates, totalling 108 fits\n"
     ]
    },
    {
     "data": {
      "text/plain": [
       "{'colsample_bytree': 0.7,\n",
       " 'learning_rate': 0.1,\n",
       " 'max_depth': 10,\n",
       " 'n_estimators': 100}"
      ]
     },
     "execution_count": 109,
     "metadata": {},
     "output_type": "execute_result"
    }
   ],
   "source": [
    "# Fit the grid search to the data\n",
    "grid_search.fit(X_train,y_train)\n",
    "grid_search.best_params_"
   ]
  },
  {
   "cell_type": "code",
   "execution_count": 110,
   "id": "32crHLV5UCO2",
   "metadata": {
    "colab": {
     "base_uri": "https://localhost:8080/"
    },
    "id": "32crHLV5UCO2",
    "outputId": "15696c2f-8747-4226-81ed-1a715c8b7162"
   },
   "outputs": [
    {
     "data": {
      "text/html": [
       "<style>#sk-container-id-6 {color: black;background-color: white;}#sk-container-id-6 pre{padding: 0;}#sk-container-id-6 div.sk-toggleable {background-color: white;}#sk-container-id-6 label.sk-toggleable__label {cursor: pointer;display: block;width: 100%;margin-bottom: 0;padding: 0.3em;box-sizing: border-box;text-align: center;}#sk-container-id-6 label.sk-toggleable__label-arrow:before {content: \"▸\";float: left;margin-right: 0.25em;color: #696969;}#sk-container-id-6 label.sk-toggleable__label-arrow:hover:before {color: black;}#sk-container-id-6 div.sk-estimator:hover label.sk-toggleable__label-arrow:before {color: black;}#sk-container-id-6 div.sk-toggleable__content {max-height: 0;max-width: 0;overflow: hidden;text-align: left;background-color: #f0f8ff;}#sk-container-id-6 div.sk-toggleable__content pre {margin: 0.2em;color: black;border-radius: 0.25em;background-color: #f0f8ff;}#sk-container-id-6 input.sk-toggleable__control:checked~div.sk-toggleable__content {max-height: 200px;max-width: 100%;overflow: auto;}#sk-container-id-6 input.sk-toggleable__control:checked~label.sk-toggleable__label-arrow:before {content: \"▾\";}#sk-container-id-6 div.sk-estimator input.sk-toggleable__control:checked~label.sk-toggleable__label {background-color: #d4ebff;}#sk-container-id-6 div.sk-label input.sk-toggleable__control:checked~label.sk-toggleable__label {background-color: #d4ebff;}#sk-container-id-6 input.sk-hidden--visually {border: 0;clip: rect(1px 1px 1px 1px);clip: rect(1px, 1px, 1px, 1px);height: 1px;margin: -1px;overflow: hidden;padding: 0;position: absolute;width: 1px;}#sk-container-id-6 div.sk-estimator {font-family: monospace;background-color: #f0f8ff;border: 1px dotted black;border-radius: 0.25em;box-sizing: border-box;margin-bottom: 0.5em;}#sk-container-id-6 div.sk-estimator:hover {background-color: #d4ebff;}#sk-container-id-6 div.sk-parallel-item::after {content: \"\";width: 100%;border-bottom: 1px solid gray;flex-grow: 1;}#sk-container-id-6 div.sk-label:hover label.sk-toggleable__label {background-color: #d4ebff;}#sk-container-id-6 div.sk-serial::before {content: \"\";position: absolute;border-left: 1px solid gray;box-sizing: border-box;top: 0;bottom: 0;left: 50%;z-index: 0;}#sk-container-id-6 div.sk-serial {display: flex;flex-direction: column;align-items: center;background-color: white;padding-right: 0.2em;padding-left: 0.2em;position: relative;}#sk-container-id-6 div.sk-item {position: relative;z-index: 1;}#sk-container-id-6 div.sk-parallel {display: flex;align-items: stretch;justify-content: center;background-color: white;position: relative;}#sk-container-id-6 div.sk-item::before, #sk-container-id-6 div.sk-parallel-item::before {content: \"\";position: absolute;border-left: 1px solid gray;box-sizing: border-box;top: 0;bottom: 0;left: 50%;z-index: -1;}#sk-container-id-6 div.sk-parallel-item {display: flex;flex-direction: column;z-index: 1;position: relative;background-color: white;}#sk-container-id-6 div.sk-parallel-item:first-child::after {align-self: flex-end;width: 50%;}#sk-container-id-6 div.sk-parallel-item:last-child::after {align-self: flex-start;width: 50%;}#sk-container-id-6 div.sk-parallel-item:only-child::after {width: 0;}#sk-container-id-6 div.sk-dashed-wrapped {border: 1px dashed gray;margin: 0 0.4em 0.5em 0.4em;box-sizing: border-box;padding-bottom: 0.4em;background-color: white;}#sk-container-id-6 div.sk-label label {font-family: monospace;font-weight: bold;display: inline-block;line-height: 1.2em;}#sk-container-id-6 div.sk-label-container {text-align: center;}#sk-container-id-6 div.sk-container {/* jupyter's `normalize.less` sets `[hidden] { display: none; }` but bootstrap.min.css set `[hidden] { display: none !important; }` so we also need the `!important` here to be able to override the default hidden behavior on the sphinx rendered scikit-learn.org. See: https://github.com/scikit-learn/scikit-learn/issues/21755 */display: inline-block !important;position: relative;}#sk-container-id-6 div.sk-text-repr-fallback {display: none;}</style><div id=\"sk-container-id-6\" class=\"sk-top-container\"><div class=\"sk-text-repr-fallback\"><pre>XGBClassifier(base_score=0.5, booster=&#x27;gbtree&#x27;, callbacks=None,\n",
       "              colsample_bylevel=1, colsample_bynode=1, colsample_bytree=0.7,\n",
       "              early_stopping_rounds=None, enable_categorical=False,\n",
       "              eval_metric=None, feature_types=None, gamma=0, gpu_id=-1,\n",
       "              grow_policy=&#x27;depthwise&#x27;, importance_type=None,\n",
       "              interaction_constraints=&#x27;&#x27;, learning_rate=0.1, max_bin=256,\n",
       "              max_cat_threshold=64, max_cat_to_onehot=4, max_delta_step=0,\n",
       "              max_depth=10, max_leaves=0, min_child_weight=1, missing=nan,\n",
       "              monotone_constraints=&#x27;()&#x27;, n_estimators=100, n_jobs=0,\n",
       "              num_parallel_tree=1, predictor=&#x27;auto&#x27;, random_state=0, ...)</pre><b>In a Jupyter environment, please rerun this cell to show the HTML representation or trust the notebook. <br />On GitHub, the HTML representation is unable to render, please try loading this page with nbviewer.org.</b></div><div class=\"sk-container\" hidden><div class=\"sk-item\"><div class=\"sk-estimator sk-toggleable\"><input class=\"sk-toggleable__control sk-hidden--visually\" id=\"sk-estimator-id-8\" type=\"checkbox\" checked><label for=\"sk-estimator-id-8\" class=\"sk-toggleable__label sk-toggleable__label-arrow\">XGBClassifier</label><div class=\"sk-toggleable__content\"><pre>XGBClassifier(base_score=0.5, booster=&#x27;gbtree&#x27;, callbacks=None,\n",
       "              colsample_bylevel=1, colsample_bynode=1, colsample_bytree=0.7,\n",
       "              early_stopping_rounds=None, enable_categorical=False,\n",
       "              eval_metric=None, feature_types=None, gamma=0, gpu_id=-1,\n",
       "              grow_policy=&#x27;depthwise&#x27;, importance_type=None,\n",
       "              interaction_constraints=&#x27;&#x27;, learning_rate=0.1, max_bin=256,\n",
       "              max_cat_threshold=64, max_cat_to_onehot=4, max_delta_step=0,\n",
       "              max_depth=10, max_leaves=0, min_child_weight=1, missing=nan,\n",
       "              monotone_constraints=&#x27;()&#x27;, n_estimators=100, n_jobs=0,\n",
       "              num_parallel_tree=1, predictor=&#x27;auto&#x27;, random_state=0, ...)</pre></div></div></div></div></div>"
      ],
      "text/plain": [
       "XGBClassifier(base_score=0.5, booster='gbtree', callbacks=None,\n",
       "              colsample_bylevel=1, colsample_bynode=1, colsample_bytree=0.7,\n",
       "              early_stopping_rounds=None, enable_categorical=False,\n",
       "              eval_metric=None, feature_types=None, gamma=0, gpu_id=-1,\n",
       "              grow_policy='depthwise', importance_type=None,\n",
       "              interaction_constraints='', learning_rate=0.1, max_bin=256,\n",
       "              max_cat_threshold=64, max_cat_to_onehot=4, max_delta_step=0,\n",
       "              max_depth=10, max_leaves=0, min_child_weight=1, missing=nan,\n",
       "              monotone_constraints='()', n_estimators=100, n_jobs=0,\n",
       "              num_parallel_tree=1, predictor='auto', random_state=0, ...)"
      ]
     },
     "execution_count": 110,
     "metadata": {},
     "output_type": "execute_result"
    }
   ],
   "source": [
    "best_grid = grid_search.best_estimator_  #esitmator gives the best values of parameter from grid search\n",
    "best_grid "
   ]
  },
  {
   "cell_type": "code",
   "execution_count": 111,
   "id": "JpV4_oQgP_ZG",
   "metadata": {
    "id": "JpV4_oQgP_ZG"
   },
   "outputs": [],
   "source": [
    "import xgboost as xgb\n",
    "xg_class = xgb.XGBClassifier(colsample_bytree=0.7, max_depth=10, n_estimators=50)\n",
    "xg_class.fit(X_train, y_train)\n",
    "train_y_pred = xg_class.predict(X_train)\n",
    "test_y_pred = xg_class.predict(X_test)"
   ]
  },
  {
   "cell_type": "code",
   "execution_count": 112,
   "id": "8N6G0RTOUH-H",
   "metadata": {
    "colab": {
     "base_uri": "https://localhost:8080/"
    },
    "id": "8N6G0RTOUH-H",
    "outputId": "827bbf9e-9e82-4d0d-d85e-205b0000ed02"
   },
   "outputs": [
    {
     "name": "stdout",
     "output_type": "stream",
     "text": [
      "XG Boost Classifier Train Classification Report: \n",
      "\n",
      "               precision    recall  f1-score   support\n",
      "\n",
      "         0.0       0.80      0.83      0.81    238886\n",
      "         1.0       0.82      0.79      0.81    238847\n",
      "\n",
      "    accuracy                           0.81    477733\n",
      "   macro avg       0.81      0.81      0.81    477733\n",
      "weighted avg       0.81      0.81      0.81    477733\n",
      " \n",
      "\n",
      "\n",
      "XG Boost Classifier Test Classification Report: \n",
      "\n",
      "               precision    recall  f1-score   support\n",
      "\n",
      "         0.0       0.80      0.83      0.81     79603\n",
      "         1.0       0.82      0.79      0.80     79642\n",
      "\n",
      "    accuracy                           0.81    159245\n",
      "   macro avg       0.81      0.81      0.81    159245\n",
      "weighted avg       0.81      0.81      0.81    159245\n",
      "\n"
     ]
    }
   ],
   "source": [
    "train_score = metrics.accuracy_score(y_train, train_y_pred) # Compute train accuracy\n",
    "test_score = metrics.accuracy_score(y_test, test_y_pred) # Compute test accuracy\n",
    "train_report = classification_report(y_train, train_y_pred) # Generate classification report for train data\n",
    "test_report = classification_report(y_test, test_y_pred) # Generate classification report for test data\n",
    "print('XG Boost Classifier Train Classification Report: \\n\\n', train_report,'\\n\\n')\n",
    "print('XG Boost Classifier Test Classification Report: \\n\\n', test_report)"
   ]
  },
  {
   "cell_type": "code",
   "execution_count": 113,
   "id": "B3CybeNyVjSR",
   "metadata": {
    "colab": {
     "base_uri": "https://localhost:8080/",
     "height": 260
    },
    "id": "B3CybeNyVjSR",
    "outputId": "80eeba2a-c325-488b-d8b1-d0755b46aee9"
   },
   "outputs": [
    {
     "data": {
      "image/png": "[encoded data removed]",
      "text/plain": [
       "<Figure size 288x288 with 2 Axes>"
      ]
     },
     "metadata": {
      "needs_background": "light"
     },
     "output_type": "display_data"
    }
   ],
   "source": [
    "log_matrix = confusion_matrix(y_test, test_y_pred)\n",
    "plt.figure(figsize=(4,4))\n",
    "sns.heatmap(log_matrix, annot=True, fmt=\".0f\", linewidths=.5, square = True, cmap = 'Pastel1');\n",
    "plt.ylabel('Actual label');\n",
    "plt.xlabel('Predicted label');\n",
    "all_sample_title = 'Accuracy Score: {0}'.format(round(test_score, 4))\n",
    "plt.title(all_sample_title, size = 15);\n",
    "plt.show()"
   ]
  },
  {
   "cell_type": "code",
   "execution_count": 114,
   "id": "yWhLt9zJZOrx",
   "metadata": {
    "colab": {
     "base_uri": "https://localhost:8080/",
     "height": 350
    },
    "id": "yWhLt9zJZOrx",
    "outputId": "9eb5dcd2-2a8c-45d8-b036-1885ccae3114"
   },
   "outputs": [
    {
     "data": {
      "image/png": "[encoded data removed]",
      "text/plain": [
       "<Figure size 504x360 with 1 Axes>"
      ]
     },
     "metadata": {
      "needs_background": "light"
     },
     "output_type": "display_data"
    }
   ],
   "source": [
    "fpr, tpr, thresholds = roc_curve(test_y_pred, y_test)\n",
    "auc(fpr, tpr)\n",
    "plt.figure(figsize=(7, 5))\n",
    "plt.plot(fpr, tpr, color='red', label='XG Boost Classifier (AUC: %.2f)'\n",
    "% auc(fpr, tpr))\n",
    "plt.plot([0, 1], [0, 1], color='blue', linestyle='--')\n",
    "plt.xlim([0.0, 1.0])\n",
    "plt.ylim([0.0, 1.01])\n",
    "plt.title('ROC Curve for the XG Boost Classifier after Hyper Parameter Tuning')\n",
    "plt.xlabel('False Positive Rate (FPR)')\n",
    "plt.ylabel('True Positive Rate (TPR)')\n",
    "plt.legend()\n",
    "plt.show()"
   ]
  },
  {
   "cell_type": "code",
   "execution_count": 115,
   "id": "nR5K48sxZsWs",
   "metadata": {
    "id": "nR5K48sxZsWs"
   },
   "outputs": [],
   "source": [
    "from prettytable import PrettyTable"
   ]
  },
  {
   "cell_type": "code",
   "execution_count": 116,
   "id": "qA4tRDK4ccAw",
   "metadata": {
    "colab": {
     "base_uri": "https://localhost:8080/"
    },
    "id": "qA4tRDK4ccAw",
    "outputId": "16ee07ed-9a00-48ec-e5a0-51c5190f8214"
   },
   "outputs": [
    {
     "name": "stdout",
     "output_type": "stream",
     "text": [
      "+-----------------------+----------------+---------------+-----+\n",
      "|       Model Name      | Train Accuracy | Test Accuracy | ROC |\n",
      "+-----------------------+----------------+---------------+-----+\n",
      "|  Logistic Regression  |      79%       |      79%      | 80% |\n",
      "|  K Nearest Neighbour  |      78%       |      79%      | 79% |\n",
      "|     Random Forest     |      78%       |      79%      | 79% |\n",
      "|       XG Boost        |      80%       |      80%      | 80% |\n",
      "|       ADA Boost       |      81%       |      81%      | 80% |\n",
      "|     Decision Tree     |      82%       |      82%      | 82% |\n",
      "| Random Forest(Tuned)  |      82%       |      81%      | 81% |\n",
      "|    XG Boost(Tuned)    |      81%       |      80%      | 80% |\n",
      "+-----------------------+----------------+---------------+-----+\n"
     ]
    }
   ],
   "source": [
    "myTable = PrettyTable([\"Model Name\", \"Train Accuracy\", \"Test Accuracy\",\"ROC\"])\n",
    "  \n",
    "# Add rows\n",
    "myTable.add_row([\"Logistic Regression\", \"79%\", \"79%\",\"80%\"])\n",
    "myTable.add_row([\"K Nearest Neighbour\", \"78%\", \"79%\",\"79%\"])\n",
    "myTable.add_row([\"Random Forest\", \"78%\", \"79%\",\"79%\"])\n",
    "myTable.add_row([\"XG Boost \", \"80%\", \"80%\",\"80%\"])\n",
    "myTable.add_row([\"ADA Boost\", \"81%\", \"81%\",\"80%\"])\n",
    "myTable.add_row([\"Decision Tree\",\"82%\", \"82%\", \"82%\"])\n",
    "myTable.add_row([\"Random Forest(Tuned) \", \"82%\", \"81%\",\"81%\"])\n",
    "myTable.add_row([\"XG Boost(Tuned)\", \"81%\", \"80%\",\"80%\"])\n",
    "\n",
    "print(myTable)"
   ]
  },
  {
   "cell_type": "markdown",
   "id": "6b98b57b",
   "metadata": {},
   "source": [
    "## Conclusion\n",
    "- Decision Tree performed well compared to all the supervised algorithms with 82% accuracy on train and test data. \n",
    "- After tuning Random Forest performed well, as it was 82% on the train and 81% on test data. \n",
    "- While doing the EDA we observed that, of the parameters selected, \n",
    "    The positive parameters, the parameters which can prevent heart disease were high in the females\n",
    "    The negative parameters which mean the parameters which may lead to a heart attack are high in males\n",
    "- After seeing the accuracy and f1 score of the algorithms, we confirm that males are having more % of CVDs happening rather than females."
   ]
  },
  {
   "cell_type": "markdown",
   "id": "6ff630d2",
   "metadata": {},
   "source": [
    "We also tried applying Neural Network and Unsupervised Technique Kmeans on the dataset\n",
    "- Convolutional Neural Networks has given the best accuracy of 94%\n",
    "- Kmeans with PCA has given the low accuracy of 51%. Kmeans is not appropriate for our dataset (binary classification)"
   ]
  },
  {
   "cell_type": "markdown",
   "id": "6eb76832",
   "metadata": {},
   "source": [
    "#### CNN (Convolutional Neural Network)"
   ]
  },
  {
   "cell_type": "code",
   "execution_count": null,
   "id": "66e15da8",
   "metadata": {},
   "outputs": [],
   "source": [
    "import pandas as pd\n",
    "import numpy as np\n",
    "import matplotlib.pyplot as plt\n",
    "import seaborn as sns\n",
    "import zipfile\n",
    "import pandas as pd\n",
    "path_to_zip_file = './BRFSS.zip'\n",
    "with zipfile.ZipFile(path_to_zip_file, 'r') as zip_ref:\n",
    "    zip_ref.extractall('./')\n",
    "survey_df = pd.read_csv('brfss2020.csv', low_memory=False)\n",
    "survey_df.head()\n",
    "survey_df.shape\n",
    "survey_selected_df = survey_df[['SEXVAR', '_IMPRACE', '_AGE65YR', 'GENHLTH', '_RFBMI5', '_TOTINDA', '_SMOKER3', 'DRNKANY5', 'DIABETE4', 'CVDSTRK3', 'CVDCRHD4', 'CVDINFR4']]\n",
    "survey_selected_df.head() #These are the columns which majorily affect the risk of heart desease.\n",
    "survey_selected_df.rename(columns={'SEXVAR': 'Gender',\n",
    "                                   '_IMPRACE':'Race', \n",
    "                                   '_AGE65YR': 'AGE above 65', \n",
    "                                   'GENHLTH' : 'General Health', \n",
    "                                   '_RFBMI5': 'Over Weight',\n",
    "                                   'DRNKANY5':'Alcohol Usage',\n",
    "                                   '_TOTINDA':'Physical Active Status',\n",
    "                                   '_SMOKER3':'Smoking',\n",
    "                                   'DIABETE4':'Diabetes',\n",
    "                                   'CVDSTRK3':'stroke',\n",
    "                                   'CVDCRHD4':'Coronary Heart Disease',\n",
    "                                   'CVDINFR4':'Heart Attack'},inplace=True) "
   ]
  },
  {
   "cell_type": "code",
   "execution_count": null,
   "id": "ea22af84",
   "metadata": {},
   "outputs": [],
   "source": [
    "survey_selected_df.head()"
   ]
  },
  {
   "cell_type": "code",
   "execution_count": null,
   "id": "4fdad84d",
   "metadata": {},
   "outputs": [],
   "source": [
    "from tensorflow.keras.layers import Dense, Activation, Input, LSTM\n",
    "from tensorflow.keras.models import Model, Sequential\n",
    "from tensorflow.keras.optimizers import Adam\n",
    "import tensorflow_addons as tfa\n",
    "from tensorflow.keras.utils import plot_model"
   ]
  },
  {
   "cell_type": "code",
   "execution_count": null,
   "id": "9f51f797",
   "metadata": {},
   "outputs": [],
   "source": [
    "survey_selected_df['Heart Attack']=survey_selected_df['Heart Attack']-1"
   ]
  },
  {
   "cell_type": "code",
   "execution_count": null,
   "id": "058d3ee3",
   "metadata": {},
   "outputs": [],
   "source": [
    "survey_selected_df.dropna(inplace=True)\n",
    "survey_selected_df.describe()"
   ]
  },
  {
   "cell_type": "code",
   "execution_count": null,
   "id": "d487a5d4",
   "metadata": {},
   "outputs": [],
   "source": [
    "survey_selected_df.dtypes"
   ]
  },
  {
   "cell_type": "code",
   "execution_count": null,
   "id": "7aa8cb2f",
   "metadata": {},
   "outputs": [],
   "source": [
    "features = survey_selected_df.columns[:-1] # Feature names\n",
    "target = survey_selected_df.columns[-1] # Target name\n",
    "X = survey_selected_df[features].values # Features\n",
    "y = survey_selected_df[target].values"
   ]
  },
  {
   "cell_type": "code",
   "execution_count": null,
   "id": "7d001ca6",
   "metadata": {},
   "outputs": [],
   "source": [
    "y = survey_selected_df[target]\n",
    "\n",
    "features\n",
    "y.shape"
   ]
  },
  {
   "cell_type": "code",
   "execution_count": null,
   "id": "5dd68bb2",
   "metadata": {},
   "outputs": [],
   "source": [
    "from sklearn.model_selection import train_test_split\n",
    "X_train, X_test, y_train, y_test = train_test_split(X, y, test_size=0.25, random_state=3)"
   ]
  },
  {
   "cell_type": "code",
   "execution_count": null,
   "id": "ae69130f",
   "metadata": {},
   "outputs": [],
   "source": [
    "X_train"
   ]
  },
  {
   "cell_type": "code",
   "execution_count": null,
   "id": "a9799c19",
   "metadata": {},
   "outputs": [],
   "source": [
    "#survey_selected_df.isnull().any()\n",
    "survey_selected_df.isna().sum()\n",
    "survey_selected_df.isnull().any()"
   ]
  },
  {
   "cell_type": "code",
   "execution_count": null,
   "id": "85e3904d",
   "metadata": {},
   "outputs": [],
   "source": [
    "def create_model(n_neurons, learning_rate):\n",
    "    model = Sequential()\n",
    "    model.add(Dense(n_neurons, input_dim=X_train.shape[1], activation='sigmoid')) # Layer 1 + activation\n",
    "    model.add(Dense(n_neurons, activation='sigmoid'))   # Layer 2 + activation\n",
    "    model.add(Dense(n_neurons, activation='sigmoid'))   # Layer 3 + activation\n",
    "    model.add(Dense(len(y_train.shape)))   # Output layer\n",
    "    adam = Adam(learning_rate=learning_rate)   # Choice of optimizer\n",
    "    # Compiling the model by specifying the choice of loss function ('mse'), and performance metrics\n",
    "    model.compile(loss='mse', optimizer=adam, metrics=['mse','acc', tfa.metrics.r_square.RSquare()])\n",
    "    return model"
   ]
  },
  {
   "cell_type": "code",
   "execution_count": null,
   "id": "7f5fd513",
   "metadata": {},
   "outputs": [],
   "source": [
    "#X_train.shape\n",
    "y_train.shape"
   ]
  },
  {
   "cell_type": "code",
   "execution_count": null,
   "id": "1cce5767",
   "metadata": {},
   "outputs": [],
   "source": [
    "model = create_model(n_neurons=64, learning_rate=0.001)"
   ]
  },
  {
   "cell_type": "code",
   "execution_count": null,
   "id": "b46ac196",
   "metadata": {},
   "outputs": [],
   "source": [
    "epochs = 5\n",
    "model_history = model.fit(X_train, y_train, epochs=epochs, validation_data=(X_test, y_test), verbose=1)"
   ]
  },
  {
   "cell_type": "code",
   "execution_count": null,
   "id": "fa55b645",
   "metadata": {},
   "outputs": [],
   "source": [
    "import matplotlib.pyplot as plt\n",
    "plt.figure(figsize=(8,5))\n",
    "plt.plot(model_history.history['mse'], label = 'train mse')\n",
    "plt.plot(model_history.history['val_mse'], label = 'test mse')\n",
    "plt.title('History of the Loss Function of the Model')\n",
    "plt.legend(['train mse', 'test mse'])\n",
    "plt.show()"
   ]
  },
  {
   "cell_type": "code",
   "execution_count": null,
   "id": "b732a7b4",
   "metadata": {},
   "outputs": [],
   "source": [
    "plt.figure(figsize=(8,5))\n",
    "plt.plot(model_history.history['r_square'], label = 'train r^2')\n",
    "plt.plot(model_history.history['val_r_square'], label = 'test r^2')\n",
    "plt.title(r'$R^2$ of the Train and Test Subsets')\n",
    "plt.legend([r'train $R^2$', r'test $R^2$'])\n",
    "plt.show()"
   ]
  },
  {
   "cell_type": "code",
   "execution_count": null,
   "id": "d1ca877c",
   "metadata": {},
   "outputs": [],
   "source": [
    "accuracy=model_history.history['acc'][-1]\n",
    "accuracy"
   ]
  },
  {
   "cell_type": "code",
   "execution_count": null,
   "id": "1cb11a08",
   "metadata": {},
   "outputs": [],
   "source": [
    "Risk_factor=model.predict([[1,1,1,1,1,1,1,1,1,1,1]])\n",
    "#>0.5 there is no attack\n",
    "#risk factor 45%\n",
    "print(Risk_factor>0.5)\n",
    "Risk_factor"
   ]
  },
  {
   "cell_type": "markdown",
   "id": "2e717865",
   "metadata": {},
   "source": [
    "#### APPENDIX"
   ]
  },
  {
   "cell_type": "markdown",
   "id": "XvMWltG44SN5",
   "metadata": {
    "id": "XvMWltG44SN5"
   },
   "source": [
    "Let's use unsupervised algorithm on data"
   ]
  },
  {
   "cell_type": "markdown",
   "id": "c5db7736",
   "metadata": {},
   "source": [
    "### PLEASE RUN THIS CODE IN GOOGLE COLLAB to avoid version issues in KMeans\n",
    "Error: 'NoneType' object has no attribute 'split' is the possible error in Anaconda Jupiter, it works fine in google collab "
   ]
  },
  {
   "cell_type": "markdown",
   "id": "04bf1588",
   "metadata": {},
   "source": [
    "#### K Means Clustering"
   ]
  },
  {
   "cell_type": "code",
   "execution_count": 134,
   "id": "b1d0c0e0",
   "metadata": {},
   "outputs": [
    {
     "name": "stdout",
     "output_type": "stream",
     "text": [
      "Requirement already satisfied: kmeans in /Users/sraharsh/opt/anaconda3/lib/python3.9/site-packages (1.0.2)\n",
      "Requirement already satisfied: threadpoolctl in /Users/sraharsh/opt/anaconda3/lib/python3.9/site-packages (2.2.0)\n"
     ]
    }
   ],
   "source": [
    "!pip install kmeans"
   ]
  },
  {
   "cell_type": "code",
   "execution_count": null,
   "id": "dee2d4c2",
   "metadata": {},
   "outputs": [],
   "source": [
    "from sklearn.utils import shuffle\n",
    "from sklearn.cluster import KMeans"
   ]
  },
  {
   "cell_type": "code",
   "execution_count": null,
   "id": "50824b5b",
   "metadata": {},
   "outputs": [],
   "source": [
    "X= df_upsampled.drop('Heart Attack',axis=1)\n",
    "y= df_upsampled['Heart Attack']"
   ]
  },
  {
   "cell_type": "code",
   "execution_count": null,
   "id": "3bfbe538",
   "metadata": {},
   "outputs": [],
   "source": [
    "model = KMeans(n_clusters=2, random_state=42) \n",
    "kmeans = model.fit(X)"
   ]
  },
  {
   "cell_type": "code",
   "execution_count": null,
   "id": "7d40e0ed",
   "metadata": {},
   "outputs": [],
   "source": [
    "kmeans.labels_"
   ]
  },
  {
   "cell_type": "code",
   "execution_count": null,
   "id": "c164baaa",
   "metadata": {},
   "outputs": [],
   "source": [
    "from sklearn.metrics import confusion_matrix\n",
    "conf_matrix=confusion_matrix(y, kmeans.labels_) \n",
    "\n",
    "fig, ax = plt.subplots(figsize=(7.5, 7.5))\n",
    "ax.matshow(conf_matrix, cmap=plt.cm.Blues, alpha=0.3)\n",
    "for i in range(conf_matrix.shape[0]):\n",
    "    for j in range(conf_matrix.shape[1]):\n",
    "        ax.text(x=j, y=i,s=conf_matrix[i, j], va='center', \n",
    "                ha='center', size='xx-large')\n",
    " \n",
    "plt.xlabel('Predictions', fontsize=18)\n",
    "plt.ylabel('Actuals', fontsize=18)\n",
    "plt.title('Confusion Matrix', fontsize=18)\n",
    "plt.show()"
   ]
  },
  {
   "cell_type": "code",
   "execution_count": null,
   "id": "c0b84497",
   "metadata": {},
   "outputs": [],
   "source": [
    "correct_labels = sum(y == kmeans.labels_)\n",
    "\n",
    "print(\"Result: %d out of %d samples were correctly labeled.\" % (correct_labels, y.size))\n",
    "\n",
    "print('Accuracy score: {0:0.2f}'. format(correct_labels/float(y.size)))"
   ]
  },
  {
   "cell_type": "markdown",
   "id": "cHyI-_dwByxv",
   "metadata": {
    "id": "cHyI-_dwByxv"
   },
   "source": [
    "Let's use KMeans with PCA for better visualtization of cluster"
   ]
  },
  {
   "cell_type": "code",
   "execution_count": null,
   "id": "0dd0e131",
   "metadata": {},
   "outputs": [],
   "source": [
    "from sklearn.decomposition import PCA\n",
    "pca= PCA(2)\n",
    "nex_df=pca.fit(X)"
   ]
  },
  {
   "cell_type": "code",
   "execution_count": null,
   "id": "2f96ddab",
   "metadata": {},
   "outputs": [],
   "source": [
    "nex_df.explained_variance_ratio_"
   ]
  },
  {
   "cell_type": "code",
   "execution_count": null,
   "id": "f49cc286",
   "metadata": {},
   "outputs": [],
   "source": [
    "X_new=nex_df.transform(X)"
   ]
  },
  {
   "cell_type": "code",
   "execution_count": null,
   "id": "96ec8d4f",
   "metadata": {},
   "outputs": [],
   "source": [
    "model = KMeans(n_clusters=2, random_state=42) \n",
    "kmeans = model.fit(X_new)"
   ]
  },
  {
   "cell_type": "code",
   "execution_count": null,
   "id": "8b59f77c",
   "metadata": {},
   "outputs": [],
   "source": [
    "X_new"
   ]
  },
  {
   "cell_type": "code",
   "execution_count": null,
   "id": "22ae1f14",
   "metadata": {},
   "outputs": [],
   "source": [
    "kmeans.labels_"
   ]
  },
  {
   "cell_type": "code",
   "execution_count": null,
   "id": "e0300f50",
   "metadata": {},
   "outputs": [],
   "source": [
    "model = KMeans(n_clusters = 2)\n",
    "label = model.fit_predict(X_new)\n",
    "centers = np.array(model.cluster_centers_)\n",
    "plt.figure(figsize=(10,10))\n",
    "uniq = np.unique(label)\n",
    "for i in uniq:\n",
    "   plt.scatter(X_new[label == i , 0] , X_new[label == i , 1] , label = i)\n",
    "#This is done to find the centroid for each clusters.\n",
    "plt.legend()\n",
    "plt.show()"
   ]
  },
  {
   "cell_type": "code",
   "execution_count": null,
   "id": "yjFUKvHiCLSh",
   "metadata": {
    "colab": {
     "base_uri": "https://localhost:8080/"
    },
    "id": "yjFUKvHiCLSh",
    "outputId": "9e45f7ca-49f8-49d6-e9f1-328fbec571d9"
   },
   "outputs": [],
   "source": [
    "correct_labels = sum(y == model.labels_)\n",
    "\n",
    "print(\"Result: %d out of %d samples were correctly labeled.\" % (correct_labels, y.size))\n",
    "\n",
    "print('Accuracy score: {0:0.2f}'. format(correct_labels/float(y.size)))"
   ]
  },
  {
   "cell_type": "code",
   "execution_count": null,
   "id": "b0uaWDbKCPMz",
   "metadata": {
    "colab": {
     "base_uri": "https://localhost:8080/"
    },
    "id": "b0uaWDbKCPMz",
    "outputId": "23fa605f-205a-4ab9-b01b-8dc44df47e57"
   },
   "outputs": [],
   "source": [
    "myUnsupervisedTable = PrettyTable([\"Model Name\", \"Accuracy\"])\n",
    "  \n",
    "# Add rows\n",
    "myUnsupervisedTable.add_row([\"K Means\", \"49%\"])\n",
    "myUnsupervisedTable.add_row([\"K Means with PCA\", \"51%\"])\n",
    "\n",
    "print(myUnsupervisedTable)"
   ]
  },
  {
   "cell_type": "markdown",
   "id": "A52tSe8FCOe3",
   "metadata": {
    "id": "A52tSe8FCOe3"
   },
   "source": [
    "After using PCA, the accuracy was increased from 49% to 51%."
   ]
  },
  {
   "cell_type": "markdown",
   "id": "160af920",
   "metadata": {},
   "source": [
    "The End!"
   ]
  }
 ],
 "metadata": {
  "colab": {
   "provenance": []
  },
  "kernelspec": {
   "display_name": "Python 3 (ipykernel)",
   "language": "python",
   "name": "python3"
  },
  "language_info": {
   "codemirror_mode": {
    "name": "ipython",
    "version": 3
   },
   "file_extension": ".py",
   "mimetype": "text/x-python",
   "name": "python",
   "nbconvert_exporter": "python",
   "pygments_lexer": "ipython3",
   "version": "3.9.7"
  }
 },
 "nbformat": 4,
 "nbformat_minor": 5
}
