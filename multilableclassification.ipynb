{
  "cells": [
    {
      "cell_type": "code",
      "execution_count": 2,
      "metadata": {
        "id": "RIYEFnhR3wDG"
      },
      "outputs": [],
      "source": [
        "import pandas as pd"
      ]
    },
    {
      "cell_type": "code",
      "execution_count": 3,
      "metadata": {
        "id": "xJ9GhQsR2CAw"
      },
      "outputs": [],
      "source": [
        "import zipfile\n",
        "path_to_zip_file = './BRFSS.zip'\n",
        "with zipfile.ZipFile(path_to_zip_file, 'r') as zip_ref:\n",
        "    zip_ref.extractall('./')"
      ]
    },
    {
      "cell_type": "code",
      "execution_count": 4,
      "metadata": {
        "id": "9NS2e8Rp3ue1",
        "colab": {
          "base_uri": "https://localhost:8080/",
          "height": 300
        },
        "outputId": "7d661f02-bfcc-4ef5-90c4-efa651816e65"
      },
      "outputs": [
        {
          "output_type": "execute_result",
          "data": {
            "text/plain": [
              "   _STATE  FMONTH    IDATE  IMONTH  IDAY  IYEAR  DISPCODE       SEQNO  \\\n",
              "0     1.0     1.0  1042020       1     4   2020    1100.0  2020000001   \n",
              "1     1.0     1.0  2072020       2     7   2020    1200.0  2020000002   \n",
              "2     1.0     1.0  1232020       1    23   2020    1100.0  2020000003   \n",
              "3     1.0     1.0  1092020       1     9   2020    1100.0  2020000004   \n",
              "4     1.0     1.0  1042020       1     4   2020    1100.0  2020000005   \n",
              "\n",
              "           _PSU  CTELENM1  ...  _RFPSA23  _CLNSCPY  _SGMSCPY  _SGMS10Y  \\\n",
              "0  2.020000e+09       1.0  ...       NaN       1.0       3.0       3.0   \n",
              "1  2.020000e+09       1.0  ...       NaN       NaN       NaN       NaN   \n",
              "2  2.020000e+09       1.0  ...       NaN       1.0       3.0       3.0   \n",
              "3  2.020000e+09       1.0  ...       NaN       NaN       NaN       NaN   \n",
              "4  2.020000e+09       1.0  ...       NaN       NaN       NaN       NaN   \n",
              "\n",
              "   _RFBLDS4  _STOLDNA  _VIRCOLN  _SBONTIM  _CRCREC1  _AIDTST4  \n",
              "0       3.0       3.0       3.0       3.0       1.0       1.0  \n",
              "1       NaN       NaN       NaN       2.0       NaN       NaN  \n",
              "2       3.0       3.0       3.0       3.0       1.0       2.0  \n",
              "3       NaN       NaN       NaN       NaN       NaN       2.0  \n",
              "4       NaN       NaN       NaN       NaN       NaN       9.0  \n",
              "\n",
              "[5 rows x 279 columns]"
            ],
            "text/html": [
              "\n",
              "  <div id=\"df-4a513ec3-42d1-4f95-a331-07915c685560\">\n",
              "    <div class=\"colab-df-container\">\n",
              "      <div>\n",
              "<style scoped>\n",
              "    .dataframe tbody tr th:only-of-type {\n",
              "        vertical-align: middle;\n",
              "    }\n",
              "\n",
              "    .dataframe tbody tr th {\n",
              "        vertical-align: top;\n",
              "    }\n",
              "\n",
              "    .dataframe thead th {\n",
              "        text-align: right;\n",
              "    }\n",
              "</style>\n",
              "<table border=\"1\" class=\"dataframe\">\n",
              "  <thead>\n",
              "    <tr style=\"text-align: right;\">\n",
              "      <th></th>\n",
              "      <th>_STATE</th>\n",
              "      <th>FMONTH</th>\n",
              "      <th>IDATE</th>\n",
              "      <th>IMONTH</th>\n",
              "      <th>IDAY</th>\n",
              "      <th>IYEAR</th>\n",
              "      <th>DISPCODE</th>\n",
              "      <th>SEQNO</th>\n",
              "      <th>_PSU</th>\n",
              "      <th>CTELENM1</th>\n",
              "      <th>...</th>\n",
              "      <th>_RFPSA23</th>\n",
              "      <th>_CLNSCPY</th>\n",
              "      <th>_SGMSCPY</th>\n",
              "      <th>_SGMS10Y</th>\n",
              "      <th>_RFBLDS4</th>\n",
              "      <th>_STOLDNA</th>\n",
              "      <th>_VIRCOLN</th>\n",
              "      <th>_SBONTIM</th>\n",
              "      <th>_CRCREC1</th>\n",
              "      <th>_AIDTST4</th>\n",
              "    </tr>\n",
              "  </thead>\n",
              "  <tbody>\n",
              "    <tr>\n",
              "      <th>0</th>\n",
              "      <td>1.0</td>\n",
              "      <td>1.0</td>\n",
              "      <td>1042020</td>\n",
              "      <td>1</td>\n",
              "      <td>4</td>\n",
              "      <td>2020</td>\n",
              "      <td>1100.0</td>\n",
              "      <td>2020000001</td>\n",
              "      <td>2.020000e+09</td>\n",
              "      <td>1.0</td>\n",
              "      <td>...</td>\n",
              "      <td>NaN</td>\n",
              "      <td>1.0</td>\n",
              "      <td>3.0</td>\n",
              "      <td>3.0</td>\n",
              "      <td>3.0</td>\n",
              "      <td>3.0</td>\n",
              "      <td>3.0</td>\n",
              "      <td>3.0</td>\n",
              "      <td>1.0</td>\n",
              "      <td>1.0</td>\n",
              "    </tr>\n",
              "    <tr>\n",
              "      <th>1</th>\n",
              "      <td>1.0</td>\n",
              "      <td>1.0</td>\n",
              "      <td>2072020</td>\n",
              "      <td>2</td>\n",
              "      <td>7</td>\n",
              "      <td>2020</td>\n",
              "      <td>1200.0</td>\n",
              "      <td>2020000002</td>\n",
              "      <td>2.020000e+09</td>\n",
              "      <td>1.0</td>\n",
              "      <td>...</td>\n",
              "      <td>NaN</td>\n",
              "      <td>NaN</td>\n",
              "      <td>NaN</td>\n",
              "      <td>NaN</td>\n",
              "      <td>NaN</td>\n",
              "      <td>NaN</td>\n",
              "      <td>NaN</td>\n",
              "      <td>2.0</td>\n",
              "      <td>NaN</td>\n",
              "      <td>NaN</td>\n",
              "    </tr>\n",
              "    <tr>\n",
              "      <th>2</th>\n",
              "      <td>1.0</td>\n",
              "      <td>1.0</td>\n",
              "      <td>1232020</td>\n",
              "      <td>1</td>\n",
              "      <td>23</td>\n",
              "      <td>2020</td>\n",
              "      <td>1100.0</td>\n",
              "      <td>2020000003</td>\n",
              "      <td>2.020000e+09</td>\n",
              "      <td>1.0</td>\n",
              "      <td>...</td>\n",
              "      <td>NaN</td>\n",
              "      <td>1.0</td>\n",
              "      <td>3.0</td>\n",
              "      <td>3.0</td>\n",
              "      <td>3.0</td>\n",
              "      <td>3.0</td>\n",
              "      <td>3.0</td>\n",
              "      <td>3.0</td>\n",
              "      <td>1.0</td>\n",
              "      <td>2.0</td>\n",
              "    </tr>\n",
              "    <tr>\n",
              "      <th>3</th>\n",
              "      <td>1.0</td>\n",
              "      <td>1.0</td>\n",
              "      <td>1092020</td>\n",
              "      <td>1</td>\n",
              "      <td>9</td>\n",
              "      <td>2020</td>\n",
              "      <td>1100.0</td>\n",
              "      <td>2020000004</td>\n",
              "      <td>2.020000e+09</td>\n",
              "      <td>1.0</td>\n",
              "      <td>...</td>\n",
              "      <td>NaN</td>\n",
              "      <td>NaN</td>\n",
              "      <td>NaN</td>\n",
              "      <td>NaN</td>\n",
              "      <td>NaN</td>\n",
              "      <td>NaN</td>\n",
              "      <td>NaN</td>\n",
              "      <td>NaN</td>\n",
              "      <td>NaN</td>\n",
              "      <td>2.0</td>\n",
              "    </tr>\n",
              "    <tr>\n",
              "      <th>4</th>\n",
              "      <td>1.0</td>\n",
              "      <td>1.0</td>\n",
              "      <td>1042020</td>\n",
              "      <td>1</td>\n",
              "      <td>4</td>\n",
              "      <td>2020</td>\n",
              "      <td>1100.0</td>\n",
              "      <td>2020000005</td>\n",
              "      <td>2.020000e+09</td>\n",
              "      <td>1.0</td>\n",
              "      <td>...</td>\n",
              "      <td>NaN</td>\n",
              "      <td>NaN</td>\n",
              "      <td>NaN</td>\n",
              "      <td>NaN</td>\n",
              "      <td>NaN</td>\n",
              "      <td>NaN</td>\n",
              "      <td>NaN</td>\n",
              "      <td>NaN</td>\n",
              "      <td>NaN</td>\n",
              "      <td>9.0</td>\n",
              "    </tr>\n",
              "  </tbody>\n",
              "</table>\n",
              "<p>5 rows × 279 columns</p>\n",
              "</div>\n",
              "      <button class=\"colab-df-convert\" onclick=\"convertToInteractive('df-4a513ec3-42d1-4f95-a331-07915c685560')\"\n",
              "              title=\"Convert this dataframe to an interactive table.\"\n",
              "              style=\"display:none;\">\n",
              "        \n",
              "  <svg xmlns=\"http://www.w3.org/2000/svg\" height=\"24px\"viewBox=\"0 0 24 24\"\n",
              "       width=\"24px\">\n",
              "    <path d=\"M0 0h24v24H0V0z\" fill=\"none\"/>\n",
              "    <path d=\"M18.56 5.44l.94 2.06.94-2.06 2.06-.94-2.06-.94-.94-2.06-.94 2.06-2.06.94zm-11 1L8.5 8.5l.94-2.06 2.06-.94-2.06-.94L8.5 2.5l-.94 2.06-2.06.94zm10 10l.94 2.06.94-2.06 2.06-.94-2.06-.94-.94-2.06-.94 2.06-2.06.94z\"/><path d=\"M17.41 7.96l-1.37-1.37c-.4-.4-.92-.59-1.43-.59-.52 0-1.04.2-1.43.59L10.3 9.45l-7.72 7.72c-.78.78-.78 2.05 0 2.83L4 21.41c.39.39.9.59 1.41.59.51 0 1.02-.2 1.41-.59l7.78-7.78 2.81-2.81c.8-.78.8-2.07 0-2.86zM5.41 20L4 18.59l7.72-7.72 1.47 1.35L5.41 20z\"/>\n",
              "  </svg>\n",
              "      </button>\n",
              "      \n",
              "  <style>\n",
              "    .colab-df-container {\n",
              "      display:flex;\n",
              "      flex-wrap:wrap;\n",
              "      gap: 12px;\n",
              "    }\n",
              "\n",
              "    .colab-df-convert {\n",
              "      background-color: #E8F0FE;\n",
              "      border: none;\n",
              "      border-radius: 50%;\n",
              "      cursor: pointer;\n",
              "      display: none;\n",
              "      fill: #1967D2;\n",
              "      height: 32px;\n",
              "      padding: 0 0 0 0;\n",
              "      width: 32px;\n",
              "    }\n",
              "\n",
              "    .colab-df-convert:hover {\n",
              "      background-color: #E2EBFA;\n",
              "      box-shadow: 0px 1px 2px rgba(60, 64, 67, 0.3), 0px 1px 3px 1px rgba(60, 64, 67, 0.15);\n",
              "      fill: #174EA6;\n",
              "    }\n",
              "\n",
              "    [theme=dark] .colab-df-convert {\n",
              "      background-color: #3B4455;\n",
              "      fill: #D2E3FC;\n",
              "    }\n",
              "\n",
              "    [theme=dark] .colab-df-convert:hover {\n",
              "      background-color: #434B5C;\n",
              "      box-shadow: 0px 1px 3px 1px rgba(0, 0, 0, 0.15);\n",
              "      filter: drop-shadow(0px 1px 2px rgba(0, 0, 0, 0.3));\n",
              "      fill: #FFFFFF;\n",
              "    }\n",
              "  </style>\n",
              "\n",
              "      <script>\n",
              "        const buttonEl =\n",
              "          document.querySelector('#df-4a513ec3-42d1-4f95-a331-07915c685560 button.colab-df-convert');\n",
              "        buttonEl.style.display =\n",
              "          google.colab.kernel.accessAllowed ? 'block' : 'none';\n",
              "\n",
              "        async function convertToInteractive(key) {\n",
              "          const element = document.querySelector('#df-4a513ec3-42d1-4f95-a331-07915c685560');\n",
              "          const dataTable =\n",
              "            await google.colab.kernel.invokeFunction('convertToInteractive',\n",
              "                                                     [key], {});\n",
              "          if (!dataTable) return;\n",
              "\n",
              "          const docLinkHtml = 'Like what you see? Visit the ' +\n",
              "            '<a target=\"_blank\" href=https://colab.research.google.com/notebooks/data_table.ipynb>data table notebook</a>'\n",
              "            + ' to learn more about interactive tables.';\n",
              "          element.innerHTML = '';\n",
              "          dataTable['output_type'] = 'display_data';\n",
              "          await google.colab.output.renderOutput(dataTable, element);\n",
              "          const docLink = document.createElement('div');\n",
              "          docLink.innerHTML = docLinkHtml;\n",
              "          element.appendChild(docLink);\n",
              "        }\n",
              "      </script>\n",
              "    </div>\n",
              "  </div>\n",
              "  "
            ]
          },
          "metadata": {},
          "execution_count": 4
        }
      ],
      "source": [
        "survey_df = pd.read_csv('brfss2020.csv', low_memory=False)\n",
        "survey_df.head() #print the first five rows in the dataset "
      ]
    },
    {
      "cell_type": "code",
      "execution_count": 5,
      "metadata": {
        "id": "p_6Y57ed3u5A",
        "colab": {
          "base_uri": "https://localhost:8080/",
          "height": 206
        },
        "outputId": "26d11791-3c54-49cb-bc54-806dd0c7c307"
      },
      "outputs": [
        {
          "output_type": "execute_result",
          "data": {
            "text/plain": [
              "   SEXVAR  _IMPRACE  _AGE65YR  GENHLTH  _RFBMI5  _TOTINDA  _SMOKER3  DRNKANY5  \\\n",
              "0     2.0       1.0       1.0      2.0      1.0       1.0       1.0       2.0   \n",
              "1     2.0       2.0       2.0      3.0      2.0       1.0       9.0       9.0   \n",
              "2     2.0       2.0       2.0      3.0      9.0       1.0       4.0       2.0   \n",
              "3     2.0       1.0       2.0      1.0      9.0       2.0       4.0       2.0   \n",
              "4     2.0       1.0       2.0      2.0      1.0       1.0       4.0       2.0   \n",
              "\n",
              "   DIABETE4  CVDSTRK3  CVDCRHD4  CVDINFR4  \n",
              "0       1.0       2.0       2.0       2.0  \n",
              "1       3.0       2.0       2.0       2.0  \n",
              "2       3.0       2.0       2.0       2.0  \n",
              "3       3.0       2.0       2.0       2.0  \n",
              "4       3.0       1.0       2.0       2.0  "
            ],
            "text/html": [
              "\n",
              "  <div id=\"df-15f5da6d-5a60-49f8-a588-7a3159dd62f4\">\n",
              "    <div class=\"colab-df-container\">\n",
              "      <div>\n",
              "<style scoped>\n",
              "    .dataframe tbody tr th:only-of-type {\n",
              "        vertical-align: middle;\n",
              "    }\n",
              "\n",
              "    .dataframe tbody tr th {\n",
              "        vertical-align: top;\n",
              "    }\n",
              "\n",
              "    .dataframe thead th {\n",
              "        text-align: right;\n",
              "    }\n",
              "</style>\n",
              "<table border=\"1\" class=\"dataframe\">\n",
              "  <thead>\n",
              "    <tr style=\"text-align: right;\">\n",
              "      <th></th>\n",
              "      <th>SEXVAR</th>\n",
              "      <th>_IMPRACE</th>\n",
              "      <th>_AGE65YR</th>\n",
              "      <th>GENHLTH</th>\n",
              "      <th>_RFBMI5</th>\n",
              "      <th>_TOTINDA</th>\n",
              "      <th>_SMOKER3</th>\n",
              "      <th>DRNKANY5</th>\n",
              "      <th>DIABETE4</th>\n",
              "      <th>CVDSTRK3</th>\n",
              "      <th>CVDCRHD4</th>\n",
              "      <th>CVDINFR4</th>\n",
              "    </tr>\n",
              "  </thead>\n",
              "  <tbody>\n",
              "    <tr>\n",
              "      <th>0</th>\n",
              "      <td>2.0</td>\n",
              "      <td>1.0</td>\n",
              "      <td>1.0</td>\n",
              "      <td>2.0</td>\n",
              "      <td>1.0</td>\n",
              "      <td>1.0</td>\n",
              "      <td>1.0</td>\n",
              "      <td>2.0</td>\n",
              "      <td>1.0</td>\n",
              "      <td>2.0</td>\n",
              "      <td>2.0</td>\n",
              "      <td>2.0</td>\n",
              "    </tr>\n",
              "    <tr>\n",
              "      <th>1</th>\n",
              "      <td>2.0</td>\n",
              "      <td>2.0</td>\n",
              "      <td>2.0</td>\n",
              "      <td>3.0</td>\n",
              "      <td>2.0</td>\n",
              "      <td>1.0</td>\n",
              "      <td>9.0</td>\n",
              "      <td>9.0</td>\n",
              "      <td>3.0</td>\n",
              "      <td>2.0</td>\n",
              "      <td>2.0</td>\n",
              "      <td>2.0</td>\n",
              "    </tr>\n",
              "    <tr>\n",
              "      <th>2</th>\n",
              "      <td>2.0</td>\n",
              "      <td>2.0</td>\n",
              "      <td>2.0</td>\n",
              "      <td>3.0</td>\n",
              "      <td>9.0</td>\n",
              "      <td>1.0</td>\n",
              "      <td>4.0</td>\n",
              "      <td>2.0</td>\n",
              "      <td>3.0</td>\n",
              "      <td>2.0</td>\n",
              "      <td>2.0</td>\n",
              "      <td>2.0</td>\n",
              "    </tr>\n",
              "    <tr>\n",
              "      <th>3</th>\n",
              "      <td>2.0</td>\n",
              "      <td>1.0</td>\n",
              "      <td>2.0</td>\n",
              "      <td>1.0</td>\n",
              "      <td>9.0</td>\n",
              "      <td>2.0</td>\n",
              "      <td>4.0</td>\n",
              "      <td>2.0</td>\n",
              "      <td>3.0</td>\n",
              "      <td>2.0</td>\n",
              "      <td>2.0</td>\n",
              "      <td>2.0</td>\n",
              "    </tr>\n",
              "    <tr>\n",
              "      <th>4</th>\n",
              "      <td>2.0</td>\n",
              "      <td>1.0</td>\n",
              "      <td>2.0</td>\n",
              "      <td>2.0</td>\n",
              "      <td>1.0</td>\n",
              "      <td>1.0</td>\n",
              "      <td>4.0</td>\n",
              "      <td>2.0</td>\n",
              "      <td>3.0</td>\n",
              "      <td>1.0</td>\n",
              "      <td>2.0</td>\n",
              "      <td>2.0</td>\n",
              "    </tr>\n",
              "  </tbody>\n",
              "</table>\n",
              "</div>\n",
              "      <button class=\"colab-df-convert\" onclick=\"convertToInteractive('df-15f5da6d-5a60-49f8-a588-7a3159dd62f4')\"\n",
              "              title=\"Convert this dataframe to an interactive table.\"\n",
              "              style=\"display:none;\">\n",
              "        \n",
              "  <svg xmlns=\"http://www.w3.org/2000/svg\" height=\"24px\"viewBox=\"0 0 24 24\"\n",
              "       width=\"24px\">\n",
              "    <path d=\"M0 0h24v24H0V0z\" fill=\"none\"/>\n",
              "    <path d=\"M18.56 5.44l.94 2.06.94-2.06 2.06-.94-2.06-.94-.94-2.06-.94 2.06-2.06.94zm-11 1L8.5 8.5l.94-2.06 2.06-.94-2.06-.94L8.5 2.5l-.94 2.06-2.06.94zm10 10l.94 2.06.94-2.06 2.06-.94-2.06-.94-.94-2.06-.94 2.06-2.06.94z\"/><path d=\"M17.41 7.96l-1.37-1.37c-.4-.4-.92-.59-1.43-.59-.52 0-1.04.2-1.43.59L10.3 9.45l-7.72 7.72c-.78.78-.78 2.05 0 2.83L4 21.41c.39.39.9.59 1.41.59.51 0 1.02-.2 1.41-.59l7.78-7.78 2.81-2.81c.8-.78.8-2.07 0-2.86zM5.41 20L4 18.59l7.72-7.72 1.47 1.35L5.41 20z\"/>\n",
              "  </svg>\n",
              "      </button>\n",
              "      \n",
              "  <style>\n",
              "    .colab-df-container {\n",
              "      display:flex;\n",
              "      flex-wrap:wrap;\n",
              "      gap: 12px;\n",
              "    }\n",
              "\n",
              "    .colab-df-convert {\n",
              "      background-color: #E8F0FE;\n",
              "      border: none;\n",
              "      border-radius: 50%;\n",
              "      cursor: pointer;\n",
              "      display: none;\n",
              "      fill: #1967D2;\n",
              "      height: 32px;\n",
              "      padding: 0 0 0 0;\n",
              "      width: 32px;\n",
              "    }\n",
              "\n",
              "    .colab-df-convert:hover {\n",
              "      background-color: #E2EBFA;\n",
              "      box-shadow: 0px 1px 2px rgba(60, 64, 67, 0.3), 0px 1px 3px 1px rgba(60, 64, 67, 0.15);\n",
              "      fill: #174EA6;\n",
              "    }\n",
              "\n",
              "    [theme=dark] .colab-df-convert {\n",
              "      background-color: #3B4455;\n",
              "      fill: #D2E3FC;\n",
              "    }\n",
              "\n",
              "    [theme=dark] .colab-df-convert:hover {\n",
              "      background-color: #434B5C;\n",
              "      box-shadow: 0px 1px 3px 1px rgba(0, 0, 0, 0.15);\n",
              "      filter: drop-shadow(0px 1px 2px rgba(0, 0, 0, 0.3));\n",
              "      fill: #FFFFFF;\n",
              "    }\n",
              "  </style>\n",
              "\n",
              "      <script>\n",
              "        const buttonEl =\n",
              "          document.querySelector('#df-15f5da6d-5a60-49f8-a588-7a3159dd62f4 button.colab-df-convert');\n",
              "        buttonEl.style.display =\n",
              "          google.colab.kernel.accessAllowed ? 'block' : 'none';\n",
              "\n",
              "        async function convertToInteractive(key) {\n",
              "          const element = document.querySelector('#df-15f5da6d-5a60-49f8-a588-7a3159dd62f4');\n",
              "          const dataTable =\n",
              "            await google.colab.kernel.invokeFunction('convertToInteractive',\n",
              "                                                     [key], {});\n",
              "          if (!dataTable) return;\n",
              "\n",
              "          const docLinkHtml = 'Like what you see? Visit the ' +\n",
              "            '<a target=\"_blank\" href=https://colab.research.google.com/notebooks/data_table.ipynb>data table notebook</a>'\n",
              "            + ' to learn more about interactive tables.';\n",
              "          element.innerHTML = '';\n",
              "          dataTable['output_type'] = 'display_data';\n",
              "          await google.colab.output.renderOutput(dataTable, element);\n",
              "          const docLink = document.createElement('div');\n",
              "          docLink.innerHTML = docLinkHtml;\n",
              "          element.appendChild(docLink);\n",
              "        }\n",
              "      </script>\n",
              "    </div>\n",
              "  </div>\n",
              "  "
            ]
          },
          "metadata": {},
          "execution_count": 5
        }
      ],
      "source": [
        "survey_selected_df = survey_df[['SEXVAR', '_IMPRACE', '_AGE65YR', 'GENHLTH', '_RFBMI5', '_TOTINDA', '_SMOKER3', 'DRNKANY5', 'DIABETE4', 'CVDSTRK3', 'CVDCRHD4', 'CVDINFR4']]\n",
        "survey_selected_df.head()"
      ]
    },
    {
      "cell_type": "code",
      "execution_count": 6,
      "metadata": {
        "id": "yTNEF0FJ4AeU",
        "colab": {
          "base_uri": "https://localhost:8080/"
        },
        "outputId": "09b34dce-b45f-4b36-da4e-56cf6dc9a492"
      },
      "outputs": [
        {
          "output_type": "stream",
          "name": "stderr",
          "text": [
            "/usr/local/lib/python3.8/dist-packages/pandas/core/frame.py:5039: SettingWithCopyWarning: \n",
            "A value is trying to be set on a copy of a slice from a DataFrame\n",
            "\n",
            "See the caveats in the documentation: https://pandas.pydata.org/pandas-docs/stable/user_guide/indexing.html#returning-a-view-versus-a-copy\n",
            "  return super().rename(\n"
          ]
        }
      ],
      "source": [
        "survey_selected_df.rename(columns={'SEXVAR': 'Gender',\n",
        "                                   '_IMPRACE':'Race', \n",
        "                                   '_AGE65YR': 'AGE above 65', \n",
        "                                   'GENHLTH' : 'General Health', \n",
        "                                   '_RFBMI5': 'Over Weight',\n",
        "                                   'DRNKANY5':'Alcohol Usage',\n",
        "                                   '_TOTINDA':'Physical Active Status',\n",
        "                                   '_SMOKER3':'Smoking',\n",
        "                                   'DIABETE4':'Diabetes',\n",
        "                                   'CVDSTRK3':'stroke',\n",
        "                                   'CVDCRHD4':'Coronary Heart Disease',\n",
        "                                   'CVDINFR4':'Heart Attack'},inplace=True) "
      ]
    },
    {
      "cell_type": "code",
      "execution_count": 7,
      "metadata": {
        "id": "blnPp0aC4BjI",
        "colab": {
          "base_uri": "https://localhost:8080/"
        },
        "outputId": "f59e3296-df3c-412d-e8d4-4d4ea7d6bd02"
      },
      "outputs": [
        {
          "output_type": "stream",
          "name": "stderr",
          "text": [
            "/usr/local/lib/python3.8/dist-packages/pandas/util/_decorators.py:311: SettingWithCopyWarning: \n",
            "A value is trying to be set on a copy of a slice from a DataFrame\n",
            "\n",
            "See the caveats in the documentation: https://pandas.pydata.org/pandas-docs/stable/user_guide/indexing.html#returning-a-view-versus-a-copy\n",
            "  return func(*args, **kwargs)\n"
          ]
        }
      ],
      "source": [
        "survey_selected_df.dropna(inplace=True) "
      ]
    },
    {
      "cell_type": "code",
      "execution_count": 8,
      "metadata": {
        "id": "oYz0TLHC6CVF"
      },
      "outputs": [],
      "source": [
        "import numpy as np\n",
        "#import sweetviz as sv\n",
        "import matplotlib.pyplot as plt\n",
        "import seaborn as sns"
      ]
    },
    {
      "cell_type": "code",
      "execution_count": 9,
      "metadata": {
        "id": "zdvbrwja4eUJ",
        "colab": {
          "base_uri": "https://localhost:8080/",
          "height": 1000
        },
        "outputId": "9236466f-7ef5-4e4d-9b9d-bc8d86cf6f7e"
      },
      "outputs": [
        {
          "output_type": "stream",
          "name": "stdout",
          "text": [
            "Gender \n",
            " 2.0    54.238899\n",
            "1.0    45.761101\n",
            "Name: Gender, dtype: float64\n"
          ]
        },
        {
          "output_type": "display_data",
          "data": {
            "text/plain": [
              "<Figure size 432x288 with 1 Axes>"
            ],
            "image/png": "[encoded data removed]"
          },
          "metadata": {
            "needs_background": "light"
          }
        },
        {
          "output_type": "stream",
          "name": "stdout",
          "text": [
            "Race in %age:\n",
            " 1.0    75.601079\n",
            "5.0     9.057978\n",
            "2.0     7.560755\n",
            "6.0     3.501980\n",
            "3.0     2.548365\n",
            "4.0     1.729843\n",
            "Name: Race, dtype: float64\n"
          ]
        },
        {
          "output_type": "display_data",
          "data": {
            "text/plain": [
              "<Figure size 432x288 with 1 Axes>"
            ],
            "image/png": "[encoded data removed]"
          },
          "metadata": {
            "needs_background": "light"
          }
        },
        {
          "output_type": "stream",
          "name": "stdout",
          "text": [
            "AGE above 65 %age:\n",
            " 1.0    63.713104\n",
            "2.0    34.234122\n",
            "3.0     2.052774\n",
            "Name: AGE above 65, dtype: float64\n"
          ]
        },
        {
          "output_type": "display_data",
          "data": {
            "text/plain": [
              "<Figure size 432x288 with 1 Axes>"
            ],
            "image/png": "[encoded data removed]"
          },
          "metadata": {
            "needs_background": "light"
          }
        },
        {
          "output_type": "stream",
          "name": "stderr",
          "text": [
            "/usr/local/lib/python3.8/dist-packages/pandas/core/frame.py:4906: SettingWithCopyWarning: \n",
            "A value is trying to be set on a copy of a slice from a DataFrame\n",
            "\n",
            "See the caveats in the documentation: https://pandas.pydata.org/pandas-docs/stable/user_guide/indexing.html#returning-a-view-versus-a-copy\n",
            "  return super().drop(\n"
          ]
        },
        {
          "output_type": "display_data",
          "data": {
            "text/plain": [
              "<Figure size 432x288 with 1 Axes>"
            ],
            "image/png": "[encoded data removed]"
          },
          "metadata": {
            "needs_background": "light"
          }
        },
        {
          "output_type": "stream",
          "name": "stdout",
          "text": [
            "General Health:\n",
            " 2.0    34.380342\n",
            "3.0    29.704110\n",
            "1.0    20.249789\n",
            "4.0    11.572977\n",
            "5.0     3.868497\n",
            "7.0     0.159261\n",
            "9.0     0.065025\n",
            "Name: General Health, dtype: float64\n"
          ]
        },
        {
          "output_type": "display_data",
          "data": {
            "text/plain": [
              "<Figure size 432x288 with 1 Axes>"
            ],
            "image/png": "[encoded data removed]"
          },
          "metadata": {
            "needs_background": "light"
          }
        },
        {
          "output_type": "display_data",
          "data": {
            "text/plain": [
              "<Figure size 432x288 with 1 Axes>"
            ],
            "image/png": "[encoded data removed]"
          },
          "metadata": {
            "needs_background": "light"
          }
        },
        {
          "output_type": "stream",
          "name": "stdout",
          "text": [
            "Over Weight:\n",
            " 2.0    61.487997\n",
            "1.0    29.086327\n",
            "9.0     9.425677\n",
            "Name: Over Weight, dtype: float64\n"
          ]
        },
        {
          "output_type": "display_data",
          "data": {
            "text/plain": [
              "<Figure size 432x288 with 1 Axes>"
            ],
            "image/png": "[encoded data removed]"
          },
          "metadata": {
            "needs_background": "light"
          }
        },
        {
          "output_type": "display_data",
          "data": {
            "text/plain": [
              "<Figure size 432x288 with 1 Axes>"
            ],
            "image/png": "[encoded data removed]"
          },
          "metadata": {
            "needs_background": "light"
          }
        },
        {
          "output_type": "stream",
          "name": "stdout",
          "text": [
            "Physical Active Status:\n",
            " 1.0    76.593729\n",
            "2.0    23.272482\n",
            "9.0     0.133789\n",
            "Name: Physical Active Status, dtype: float64\n"
          ]
        },
        {
          "output_type": "display_data",
          "data": {
            "text/plain": [
              "<Figure size 432x288 with 1 Axes>"
            ],
            "image/png": "[encoded data removed]"
          },
          "metadata": {
            "needs_background": "light"
          }
        },
        {
          "output_type": "display_data",
          "data": {
            "text/plain": [
              "<Figure size 432x288 with 1 Axes>"
            ],
            "image/png": "[encoded data removed]"
          },
          "metadata": {
            "needs_background": "light"
          }
        },
        {
          "output_type": "stream",
          "name": "stdout",
          "text": [
            "Smoking:\n",
            " 4.0    58.194227\n",
            "3.0    27.639087\n",
            "1.0    10.324536\n",
            "2.0     3.842149\n",
            "Name: Smoking, dtype: float64\n"
          ]
        },
        {
          "output_type": "display_data",
          "data": {
            "text/plain": [
              "<Figure size 432x288 with 1 Axes>"
            ],
            "image/png": "[encoded data removed]"
          },
          "metadata": {
            "needs_background": "light"
          }
        },
        {
          "output_type": "stream",
          "name": "stdout",
          "text": [
            "Smoking:\n",
            " 4.0    58.194227\n",
            "3.0    27.639087\n",
            "1.0    10.324536\n",
            "2.0     3.842149\n",
            "Name: Smoking, dtype: float64\n"
          ]
        },
        {
          "output_type": "display_data",
          "data": {
            "text/plain": [
              "<Figure size 432x288 with 1 Axes>"
            ],
            "image/png": "[encoded data removed]"
          },
          "metadata": {
            "needs_background": "light"
          }
        },
        {
          "output_type": "display_data",
          "data": {
            "text/plain": [
              "<Figure size 432x288 with 1 Axes>"
            ],
            "image/png": "[encoded data removed]"
          },
          "metadata": {
            "needs_background": "light"
          }
        },
        {
          "output_type": "stream",
          "name": "stdout",
          "text": [
            "Alcohol Usage:\n",
            " 1.0    51.302862\n",
            "2.0    46.885498\n",
            "9.0     0.987069\n",
            "7.0     0.824571\n",
            "Name: Alcohol Usage, dtype: float64\n"
          ]
        },
        {
          "output_type": "display_data",
          "data": {
            "text/plain": [
              "<Figure size 432x288 with 1 Axes>"
            ],
            "image/png": "[encoded data removed]"
          },
          "metadata": {
            "needs_background": "light"
          }
        },
        {
          "output_type": "display_data",
          "data": {
            "text/plain": [
              "<Figure size 432x288 with 1 Axes>"
            ],
            "image/png": "[encoded data removed]"
          },
          "metadata": {
            "needs_background": "light"
          }
        },
        {
          "output_type": "stream",
          "name": "stdout",
          "text": [
            "Diabetes :\n",
            " 3.0    83.765528\n",
            "1.0    13.114644\n",
            "4.0     2.193634\n",
            "2.0     0.799656\n",
            "7.0     0.108085\n",
            "9.0     0.018454\n",
            "Name: Diabetes, dtype: float64\n"
          ]
        },
        {
          "output_type": "display_data",
          "data": {
            "text/plain": [
              "<Figure size 432x288 with 1 Axes>"
            ],
            "image/png": "[encoded data removed]"
          },
          "metadata": {
            "needs_background": "light"
          }
        },
        {
          "output_type": "stream",
          "name": "stderr",
          "text": [
            "/usr/local/lib/python3.8/dist-packages/pandas/core/generic.py:6619: SettingWithCopyWarning: \n",
            "A value is trying to be set on a copy of a slice from a DataFrame\n",
            "\n",
            "See the caveats in the documentation: https://pandas.pydata.org/pandas-docs/stable/user_guide/indexing.html#returning-a-view-versus-a-copy\n",
            "  return self._update_inplace(result)\n"
          ]
        },
        {
          "output_type": "display_data",
          "data": {
            "text/plain": [
              "<Figure size 432x288 with 1 Axes>"
            ],
            "image/png": "[encoded data removed]"
          },
          "metadata": {
            "needs_background": "light"
          }
        },
        {
          "output_type": "stream",
          "name": "stdout",
          "text": [
            "Stroke :\n",
            " 2.0    95.798982\n",
            "1.0     3.995718\n",
            "7.0     0.196208\n",
            "9.0     0.009092\n",
            "Name: stroke, dtype: float64\n"
          ]
        },
        {
          "output_type": "display_data",
          "data": {
            "text/plain": [
              "<Figure size 432x288 with 1 Axes>"
            ],
            "image/png": "[encoded data removed]"
          },
          "metadata": {
            "needs_background": "light"
          }
        },
        {
          "output_type": "display_data",
          "data": {
            "text/plain": [
              "<Figure size 432x288 with 1 Axes>"
            ],
            "image/png": "[encoded data removed]"
          },
          "metadata": {
            "needs_background": "light"
          }
        },
        {
          "output_type": "stream",
          "name": "stdout",
          "text": [
            "Coronary Heart Disease :\n",
            " 2.0    93.459803\n",
            "1.0     5.843975\n",
            "7.0     0.682703\n",
            "9.0     0.013519\n",
            "Name: Coronary Heart Disease, dtype: float64\n"
          ]
        },
        {
          "output_type": "display_data",
          "data": {
            "text/plain": [
              "<Figure size 432x288 with 1 Axes>"
            ],
            "image/png": "[encoded data removed]"
          },
          "metadata": {
            "needs_background": "light"
          }
        },
        {
          "output_type": "display_data",
          "data": {
            "text/plain": [
              "<Figure size 432x288 with 1 Axes>"
            ],
            "image/png": "[encoded data removed]"
          },
          "metadata": {
            "needs_background": "light"
          }
        },
        {
          "output_type": "stream",
          "name": "stdout",
          "text": [
            "Heart Attack :\n",
            " 2.0    94.256517\n",
            "1.0     5.416460\n",
            "7.0     0.316665\n",
            "9.0     0.010358\n",
            "Name: Heart Attack, dtype: float64\n"
          ]
        },
        {
          "output_type": "display_data",
          "data": {
            "text/plain": [
              "<Figure size 432x288 with 1 Axes>"
            ],
            "image/png": "[encoded data removed]"
          },
          "metadata": {
            "needs_background": "light"
          }
        },
        {
          "output_type": "display_data",
          "data": {
            "text/plain": [
              "<Figure size 432x288 with 1 Axes>"
            ],
            "image/png": "[encoded data removed]"
          },
          "metadata": {
            "needs_background": "light"
          }
        }
      ],
      "source": [
        "print(\"Gender \\n\",(survey_selected_df['Gender'].value_counts()/len(survey_selected_df))*100)\n",
        "sns.countplot(x='Gender', data=survey_selected_df) \n",
        "plt.title('Gender')\n",
        "plt.show() \n",
        "print(\"Race in %age:\\n\",(survey_selected_df['Race'].value_counts()/len(survey_selected_df))*100)\n",
        "sns.countplot(x='Race', data=survey_selected_df) \n",
        "plt.title('Race')\n",
        "plt.show()\n",
        "print(\"AGE above 65 %age:\\n\",(survey_selected_df['AGE above 65'].value_counts()/len(survey_selected_df))*100)\n",
        "sns.countplot(x='AGE above 65', data=survey_selected_df) \n",
        "plt.title('AGE above 65')\n",
        "plt.show()  \n",
        "survey_selected_df.drop(survey_selected_df[survey_selected_df['AGE above 65'] == 3].index, inplace = True)  #removed the rows which has age as option 3 \n",
        "sns.countplot(x='AGE above 65', hue='Gender', data=survey_selected_df)\n",
        "plt.title('Age above 65 Vs Gender')\n",
        "plt.show()\n",
        "print(\"General Health:\\n\",(survey_selected_df['General Health'].value_counts()/len(survey_selected_df))*100)\n",
        "sns.countplot(x='General Health', data=survey_selected_df) \n",
        "plt.title('General Health')\n",
        "plt.show()  \n",
        "survey_selected_df=survey_selected_df[(survey_selected_df['General Health'] != 7) & (survey_selected_df['General Health'] != 9)]\n",
        "survey_selected_df['General Health'].value_counts() # removed 7 and 9 options from dataset\n",
        "sns.countplot(x='General Health', hue='Gender', data=survey_selected_df)\n",
        "plt.title('General Health Vs Gender')\n",
        "plt.show()\n",
        "print(\"Over Weight:\\n\",(survey_selected_df['Over Weight'].value_counts()/len(survey_selected_df))*100)\n",
        "sns.countplot(x='Over Weight', data=survey_selected_df) \n",
        "plt.title('Over Weight')\n",
        "plt.show()  \n",
        "survey_selected_df.drop(survey_selected_df[survey_selected_df['Over Weight'] == 9].index, inplace = True)\n",
        "sns.countplot(x='Over Weight', hue='Gender', data=survey_selected_df)\n",
        "plt.title('Over weight with Gender')\n",
        "plt.show()\n",
        "print(\"Physical Active Status:\\n\",(survey_selected_df['Physical Active Status'].value_counts()/len(survey_selected_df))*100)\n",
        "sns.countplot(x='Physical Active Status', data=survey_selected_df) \n",
        "plt.title('Physical Active Status')\n",
        "plt.show()  \n",
        "survey_selected_df.drop(survey_selected_df[survey_selected_df['Physical Active Status'] == 9].index, inplace = True)\n",
        "sns.countplot(x='Physical Active Status', hue='Gender', data=survey_selected_df)\n",
        "plt.title('Physical Active Status with Gender')\n",
        "plt.show()\n",
        "survey_selected_df.drop(survey_selected_df[survey_selected_df['Smoking'] == 9].index, inplace = True)\n",
        "print(\"Smoking:\\n\",(survey_selected_df['Smoking'].value_counts()/len(survey_selected_df))*100)\n",
        "sns.countplot(x='Smoking', data=survey_selected_df) \n",
        "plt.title('Smoking')\n",
        "plt.show() \n",
        "print(\"Smoking:\\n\",(survey_selected_df['Smoking'].value_counts()/len(survey_selected_df))*100)\n",
        "sns.countplot(x='Smoking', data=survey_selected_df) \n",
        "plt.title('Smoking')\n",
        "plt.show() \n",
        "change = {2 : 1, 3 : 2, 4 : 3}\n",
        "survey_selected_df['Smoking'].replace(to_replace=change, inplace=True)\n",
        "sns.countplot(x='Smoking', hue='Gender', data=survey_selected_df)\n",
        "plt.title('Smokers')\n",
        "plt.show()\n",
        "print(\"Alcohol Usage:\\n\",(survey_selected_df['Alcohol Usage'].value_counts()/len(survey_selected_df))*100)\n",
        "sns.countplot(x='Alcohol Usage', data=survey_selected_df) \n",
        "plt.title('Alcohol Usage')\n",
        "plt.show() \n",
        "survey_selected_df = survey_selected_df[(survey_selected_df['Alcohol Usage'] != 7) & (survey_selected_df['Alcohol Usage'] != 9)]\n",
        "sns.countplot(x='Alcohol Usage', hue='Gender', data=survey_selected_df)\n",
        "plt.show()\n",
        "print(\"Diabetes :\\n\",(survey_selected_df['Diabetes'].value_counts()/len(survey_selected_df))*100)\n",
        "sns.countplot(x='Diabetes', data=survey_selected_df)\n",
        "plt.show()\n",
        "survey_selected_df = survey_selected_df[(survey_selected_df['Diabetes'] != 7) & (survey_selected_df['Diabetes'] != 9)]\n",
        "chg = {3 : 2, 4 : 1}\n",
        "survey_selected_df['Diabetes'].replace(to_replace=chg, inplace = True)\n",
        "sns.countplot(x='Diabetes', hue='Gender', data=survey_selected_df)\n",
        "plt.title('Diabetes')\n",
        "plt.show()\n",
        "print(\"Stroke :\\n\",(survey_selected_df['stroke'].value_counts()/len(survey_selected_df))*100)\n",
        "sns.countplot(x='stroke',data=survey_selected_df)\n",
        "plt.title('Stroke')\n",
        "plt.show()\n",
        "survey_selected_df = survey_selected_df[(survey_selected_df['stroke'] != 7) & (survey_selected_df['stroke'] != 9)]\n",
        "sns.countplot(x='stroke',hue='Gender',data=survey_selected_df)\n",
        "plt.title('Stroke')\n",
        "plt.show()\n",
        "print(\"Coronary Heart Disease :\\n\",(survey_selected_df['Coronary Heart Disease'].value_counts()/len(survey_selected_df))*100)\n",
        "sns.countplot(x='Coronary Heart Disease', data=survey_selected_df)\n",
        "plt.title('Coronary Heart Disease')\n",
        "plt.show()\n",
        "survey_selected_df = survey_selected_df[(survey_selected_df['Coronary Heart Disease'] != 7) & (survey_selected_df['Coronary Heart Disease'] != 9)]\n",
        "\n",
        "sns.countplot(x='Coronary Heart Disease', hue='Gender', data=survey_selected_df)\n",
        "plt.title('Coronary Heart Disease with Gender')\n",
        "plt.show()\n",
        "print(\"Heart Attack :\\n\",(survey_selected_df['Heart Attack'].value_counts()/len(survey_selected_df))*100)\n",
        "sns.countplot(x='Heart Attack', data=survey_selected_df)\n",
        "plt.title('Heart Attack')\n",
        "plt.show()\n",
        "survey_selected_df = survey_selected_df[(survey_selected_df['Heart Attack'] != 7) & (survey_selected_df['Heart Attack'] != 9)]\n",
        "sns.countplot(x='Heart Attack',hue='Gender',data=survey_selected_df)\n",
        "plt.title('Heart Attack')\n",
        "plt.show()\n"
      ]
    },
    {
      "cell_type": "code",
      "execution_count": 10,
      "metadata": {
        "id": "6uZ2JmmY7OiG",
        "colab": {
          "base_uri": "https://localhost:8080/"
        },
        "outputId": "e0e32a64-5998-4e70-87ea-6edb16a8fad6"
      },
      "outputs": [
        {
          "output_type": "stream",
          "name": "stdout",
          "text": [
            "Data is Imbalance : \n",
            " 2.0    94.565769\n",
            "1.0     5.434231\n",
            "Name: Heart Attack, dtype: float64\n"
          ]
        }
      ],
      "source": [
        "print(\"Data is Imbalance : \\n\",survey_selected_df['Heart Attack'].value_counts()/len(survey_selected_df)*100)"
      ]
    },
    {
      "cell_type": "code",
      "execution_count": 11,
      "metadata": {
        "id": "8DnmGRaS7YWV",
        "colab": {
          "base_uri": "https://localhost:8080/"
        },
        "outputId": "e9da5143-efa8-491f-9d38-f184d88a456e"
      },
      "outputs": [
        {
          "output_type": "stream",
          "name": "stdout",
          "text": [
            "0.0    318489\n",
            "1.0     18302\n",
            "Name: Heart Attack, dtype: int64\n",
            "0.0    323671\n",
            "1.0     13120\n",
            "Name: stroke, dtype: int64\n",
            "0.0    317142\n",
            "1.0     19649\n",
            "Name: Coronary Heart Disease, dtype: int64\n"
          ]
        }
      ],
      "source": [
        "survey_selected_df['Heart Attack'] = survey_selected_df['Heart Attack'].replace(2, 0)\n",
        "survey_selected_df['stroke'] = survey_selected_df['stroke'].replace(2, 0)\n",
        "survey_selected_df['Coronary Heart Disease'] = survey_selected_df['Coronary Heart Disease'].replace(2, 0)\n",
        "\n",
        "print(survey_selected_df['Heart Attack'].value_counts())\n",
        "print(survey_selected_df['stroke'].value_counts())\n",
        "print(survey_selected_df['Coronary Heart Disease'].value_counts())\n"
      ]
    },
    {
      "cell_type": "code",
      "execution_count": 12,
      "metadata": {
        "id": "_I2vtSPG7UCd"
      },
      "outputs": [],
      "source": [
        "from sklearn.utils import resample\n",
        "#create two different dataframe of majority and minority class \n",
        "df_majority = survey_selected_df[(survey_selected_df['Heart Attack']==0)] \n",
        "df_minority = survey_selected_df[(survey_selected_df['Heart Attack']==1)] \n",
        "# upsample minority class\n",
        "df_minority_upsampled = resample(df_minority, \n",
        "                                 replace=True,    # sample with replacement\n",
        "                                 n_samples= 318489, # to match majority class\n",
        "                                 random_state=42)  # reproducible results\n",
        "# Combine majority class with upsampled minority class\n",
        "df_upsampled = pd.concat([df_minority_upsampled, df_majority])"
      ]
    },
    {
      "cell_type": "code",
      "execution_count": 13,
      "metadata": {
        "id": "jyGf46Ad9Kw2"
      },
      "outputs": [],
      "source": [
        "X=survey_selected_df.loc[:, ['Gender', 'Race', 'AGE above 65', 'General Health', 'Over Weight','Physical Active Status', 'Smoking', 'Alcohol Usage', 'Diabetes']]\n",
        "y=survey_selected_df.loc[:,['stroke', 'Coronary Heart Disease', 'Heart Attack']].astype(int)"
      ]
    },
    {
      "cell_type": "code",
      "source": [],
      "metadata": {
        "id": "yon2W8IqqUTg"
      },
      "execution_count": 13,
      "outputs": []
    },
    {
      "cell_type": "code",
      "execution_count": 14,
      "metadata": {
        "id": "930mCLI5D8N7"
      },
      "outputs": [],
      "source": [
        "X= X.values\n",
        "y=y.values"
      ]
    },
    {
      "cell_type": "code",
      "source": [
        "from sklearn.model_selection import train_test_split\n",
        "X_train, X_test, y_train, y_test = train_test_split(X, y, test_size=0.25, random_state=3)"
      ],
      "metadata": {
        "id": "EQK3FOPHmeG_"
      },
      "execution_count": 15,
      "outputs": []
    },
    {
      "cell_type": "code",
      "execution_count": 16,
      "metadata": {
        "id": "eTy5EIxmDt-W"
      },
      "outputs": [],
      "source": [
        "\n",
        "# mlp for multi-label classification\n",
        "from numpy import mean\n",
        "from numpy import std\n",
        "from sklearn.datasets import make_multilabel_classification\n",
        "from sklearn.model_selection import RepeatedKFold\n",
        "from keras.models import Sequential\n",
        "from keras.layers import Dense\n",
        "from sklearn.metrics import accuracy_score"
      ]
    },
    {
      "cell_type": "code",
      "source": [
        "def get_model(n_inputs, n_outputs):\n",
        "\tmodel = Sequential()\n",
        "\tmodel.add(Dense(20, input_dim=n_inputs, kernel_initializer='he_uniform', activation='relu'))\n",
        "\tmodel.add(Dense(n_outputs, activation='sigmoid'))\n",
        "\tmodel.compile(loss='binary_crossentropy', optimizer='adam')\n",
        "\treturn model\n",
        " \n",
        "# load dataset\n",
        "'''\n",
        "n_inputs, n_outputs = X_train.shape[1], y_train.shape[1]\n",
        "# get model\n",
        "model = get_model(n_inputs, n_outputs)\n",
        "# fit the model on all data\n",
        "model.fit(X, y, verbose=2, epochs=100)\n",
        "# make a prediction for new data\n",
        "'''"
      ],
      "metadata": {
        "id": "SAL8kmwZt7zC",
        "colab": {
          "base_uri": "https://localhost:8080/",
          "height": 53
        },
        "outputId": "fc8ea114-7256-4f96-8d06-844421517a72"
      },
      "execution_count": 17,
      "outputs": [
        {
          "output_type": "execute_result",
          "data": {
            "text/plain": [
              "'\\nn_inputs, n_outputs = X_train.shape[1], y_train.shape[1]\\n# get model\\nmodel = get_model(n_inputs, n_outputs)\\n# fit the model on all data\\nmodel.fit(X, y, verbose=2, epochs=100)\\n# make a prediction for new data\\n'"
            ],
            "application/vnd.google.colaboratory.intrinsic+json": {
              "type": "string"
            }
          },
          "metadata": {},
          "execution_count": 17
        }
      ]
    },
    {
      "cell_type": "code",
      "source": [
        "from keras.callbacks import ReduceLROnPlateau, EarlyStopping, ModelCheckpoint\n",
        "from keras.losses import binary_crossentropy\n",
        "\n",
        "n_inputs, n_outputs = X_train.shape[1], y_train.shape[1]\n",
        "# get model\n",
        "model = get_model(n_inputs, n_outputs)\n",
        "\n",
        "callbacks = [\n",
        "    ReduceLROnPlateau(), \n",
        "    EarlyStopping(patience=4), \n",
        "    ModelCheckpoint(filepath='model-conv1d.h5', save_best_only=True)\n",
        "]\n",
        "\n",
        "\n",
        "history = model.fit(X_train, y_train,\n",
        "                    epochs=20,\n",
        "                    batch_size=32,\n",
        "                    validation_split=0.1,\n",
        "                    callbacks=callbacks)"
      ],
      "metadata": {
        "id": "-BMPmplMu9Eh",
        "colab": {
          "base_uri": "https://localhost:8080/"
        },
        "outputId": "a2e8888c-7419-4993-ba06-5db661ecad9b"
      },
      "execution_count": 18,
      "outputs": [
        {
          "output_type": "stream",
          "name": "stdout",
          "text": [
            "Epoch 1/20\n",
            "7105/7105 [==============================] - 18s 2ms/step - loss: 0.1788 - val_loss: 0.1714 - lr: 0.0010\n",
            "Epoch 2/20\n",
            "7105/7105 [==============================] - 17s 2ms/step - loss: 0.1703 - val_loss: 0.1692 - lr: 0.0010\n",
            "Epoch 3/20\n",
            "7105/7105 [==============================] - 18s 3ms/step - loss: 0.1691 - val_loss: 0.1689 - lr: 0.0010\n",
            "Epoch 4/20\n",
            "7105/7105 [==============================] - 18s 3ms/step - loss: 0.1686 - val_loss: 0.1692 - lr: 0.0010\n",
            "Epoch 5/20\n",
            "7105/7105 [==============================] - 19s 3ms/step - loss: 0.1684 - val_loss: 0.1680 - lr: 0.0010\n",
            "Epoch 6/20\n",
            "7105/7105 [==============================] - 23s 3ms/step - loss: 0.1683 - val_loss: 0.1681 - lr: 0.0010\n",
            "Epoch 7/20\n",
            "7105/7105 [==============================] - 17s 2ms/step - loss: 0.1682 - val_loss: 0.1682 - lr: 0.0010\n",
            "Epoch 8/20\n",
            "7105/7105 [==============================] - 17s 2ms/step - loss: 0.1681 - val_loss: 0.1683 - lr: 0.0010\n",
            "Epoch 9/20\n",
            "7105/7105 [==============================] - 17s 2ms/step - loss: 0.1680 - val_loss: 0.1688 - lr: 0.0010\n"
          ]
        }
      ]
    },
    {
      "cell_type": "code",
      "source": [
        "import keras\n",
        "model = keras.models.load_model('model-conv1d.h5')\n"
      ],
      "metadata": {
        "id": "fRTA25p9w02-"
      },
      "execution_count": 19,
      "outputs": []
    },
    {
      "cell_type": "code",
      "source": [
        "model.predict(X_test[:30])"
      ],
      "metadata": {
        "id": "IJYu0BGbiT6O",
        "colab": {
          "base_uri": "https://localhost:8080/"
        },
        "outputId": "8e2d425a-43e4-42d9-fa47-60becee5c3a4"
      },
      "execution_count": 20,
      "outputs": [
        {
          "output_type": "stream",
          "name": "stdout",
          "text": [
            "1/1 [==============================] - 0s 88ms/step\n"
          ]
        },
        {
          "output_type": "execute_result",
          "data": {
            "text/plain": [
              "array([[0.00767684, 0.00898071, 0.01588117],\n",
              "       [0.00224704, 0.00182375, 0.00255921],\n",
              "       [0.01203092, 0.01631507, 0.02181262],\n",
              "       [0.00982434, 0.00945629, 0.00898577],\n",
              "       [0.00784856, 0.00826017, 0.00860298],\n",
              "       [0.00274831, 0.0020558 , 0.00226278],\n",
              "       [0.12032932, 0.13258953, 0.12413531],\n",
              "       [0.0551626 , 0.08947849, 0.07463394],\n",
              "       [0.04672277, 0.04163625, 0.0549312 ],\n",
              "       [0.0037907 , 0.00275921, 0.00303831],\n",
              "       [0.02151368, 0.01859871, 0.02383023],\n",
              "       [0.03451648, 0.05046413, 0.06727507],\n",
              "       [0.11891419, 0.14444199, 0.15430951],\n",
              "       [0.00960132, 0.01805995, 0.01901041],\n",
              "       [0.00369235, 0.00523732, 0.00768756],\n",
              "       [0.02090937, 0.02028515, 0.01845236],\n",
              "       [0.01521403, 0.02408225, 0.03033049],\n",
              "       [0.01303018, 0.01216533, 0.01363868],\n",
              "       [0.13612558, 0.17352407, 0.13435157],\n",
              "       [0.04044804, 0.0630369 , 0.08083744],\n",
              "       [0.05156182, 0.05416716, 0.06485225],\n",
              "       [0.02871755, 0.04132173, 0.06268719],\n",
              "       [0.04672277, 0.04163625, 0.0549312 ],\n",
              "       [0.00883112, 0.01019153, 0.01584299],\n",
              "       [0.00784856, 0.00826017, 0.00860298],\n",
              "       [0.03828057, 0.09161878, 0.07509965],\n",
              "       [0.01258334, 0.01472074, 0.01150192],\n",
              "       [0.11340775, 0.12199105, 0.12871139],\n",
              "       [0.08216779, 0.1344097 , 0.11852689],\n",
              "       [0.00247204, 0.00207533, 0.00222834]], dtype=float32)"
            ]
          },
          "metadata": {},
          "execution_count": 20
        }
      ]
    },
    {
      "cell_type": "code",
      "source": [
        "\n",
        "# use mlp for prediction on multi-label classification\n",
        "from numpy import asarray\n",
        "from sklearn.datasets import make_multilabel_classification\n",
        "from keras.models import Sequential\n",
        "from keras.layers import Dense\n",
        "# load dataset\n",
        "n_inputs, n_outputs = X_train.shape[1], y_train.shape[1]\n",
        "# get model\n",
        "model = get_model(n_inputs, n_outputs)\n",
        "# fit the model on all data\n",
        "model.fit(X_train, y_train, verbose=2, epochs=25)\n",
        "# make a prediction for new data\n",
        "\n",
        "yhat = model.predict(X_test)\n",
        "print('Predicted: %s' % yhat[0])"
      ],
      "metadata": {
        "id": "S6s5MYcxiu10",
        "colab": {
          "base_uri": "https://localhost:8080/"
        },
        "outputId": "a79ec6c7-b3f0-47eb-852c-57ca3be85804"
      },
      "execution_count": 21,
      "outputs": [
        {
          "output_type": "stream",
          "name": "stdout",
          "text": [
            "Epoch 1/25\n",
            "7894/7894 - 13s - loss: 0.1770 - 13s/epoch - 2ms/step\n",
            "Epoch 2/25\n",
            "7894/7894 - 12s - loss: 0.1700 - 12s/epoch - 2ms/step\n",
            "Epoch 3/25\n",
            "7894/7894 - 13s - loss: 0.1691 - 13s/epoch - 2ms/step\n",
            "Epoch 4/25\n",
            "7894/7894 - 12s - loss: 0.1685 - 12s/epoch - 2ms/step\n",
            "Epoch 5/25\n",
            "7894/7894 - 12s - loss: 0.1683 - 12s/epoch - 2ms/step\n",
            "Epoch 6/25\n",
            "7894/7894 - 12s - loss: 0.1682 - 12s/epoch - 2ms/step\n",
            "Epoch 7/25\n",
            "7894/7894 - 12s - loss: 0.1681 - 12s/epoch - 2ms/step\n",
            "Epoch 8/25\n",
            "7894/7894 - 14s - loss: 0.1680 - 14s/epoch - 2ms/step\n",
            "Epoch 9/25\n",
            "7894/7894 - 13s - loss: 0.1680 - 13s/epoch - 2ms/step\n",
            "Epoch 10/25\n",
            "7894/7894 - 13s - loss: 0.1678 - 13s/epoch - 2ms/step\n",
            "Epoch 11/25\n",
            "7894/7894 - 12s - loss: 0.1678 - 12s/epoch - 2ms/step\n",
            "Epoch 12/25\n",
            "7894/7894 - 12s - loss: 0.1677 - 12s/epoch - 2ms/step\n",
            "Epoch 13/25\n",
            "7894/7894 - 15s - loss: 0.1677 - 15s/epoch - 2ms/step\n",
            "Epoch 14/25\n",
            "7894/7894 - 18s - loss: 0.1676 - 18s/epoch - 2ms/step\n",
            "Epoch 15/25\n",
            "7894/7894 - 13s - loss: 0.1677 - 13s/epoch - 2ms/step\n",
            "Epoch 16/25\n",
            "7894/7894 - 13s - loss: 0.1676 - 13s/epoch - 2ms/step\n",
            "Epoch 17/25\n",
            "7894/7894 - 12s - loss: 0.1676 - 12s/epoch - 2ms/step\n",
            "Epoch 18/25\n",
            "7894/7894 - 12s - loss: 0.1675 - 12s/epoch - 2ms/step\n",
            "Epoch 19/25\n",
            "7894/7894 - 12s - loss: 0.1675 - 12s/epoch - 2ms/step\n",
            "Epoch 20/25\n",
            "7894/7894 - 13s - loss: 0.1675 - 13s/epoch - 2ms/step\n",
            "Epoch 21/25\n",
            "7894/7894 - 13s - loss: 0.1675 - 13s/epoch - 2ms/step\n",
            "Epoch 22/25\n",
            "7894/7894 - 12s - loss: 0.1675 - 12s/epoch - 2ms/step\n",
            "Epoch 23/25\n",
            "7894/7894 - 12s - loss: 0.1675 - 12s/epoch - 2ms/step\n",
            "Epoch 24/25\n",
            "7894/7894 - 12s - loss: 0.1675 - 12s/epoch - 2ms/step\n",
            "Epoch 25/25\n",
            "7894/7894 - 13s - loss: 0.1674 - 13s/epoch - 2ms/step\n",
            "2632/2632 [==============================] - 4s 1ms/step\n",
            "Predicted: [0.00791135 0.00765832 0.01560619]\n"
          ]
        }
      ]
    },
    {
      "cell_type": "code",
      "source": [
        "# evaluate a model using repeated k-fold cross-validation\n",
        "def evaluate_model(p, q):\n",
        "    results = list()\n",
        "    x_inputs, x_outputs = p.shape[1], q.shape[1]\n",
        "    # define evaluation procedure\n",
        "    cv = RepeatedKFold(n_splits=10, n_repeats=3, random_state=1)\n",
        "    # enumerate folds\n",
        "    for train_ix, test_ix in cv.split(p):\n",
        "        # prepare data\n",
        "        p_train, p_test = p[train_ix], p[test_ix]\n",
        "        q_train, q_test = q[train_ix], q[test_ix]\n",
        "        # define \n",
        "        model = get_model(x_inputs, x_outputs)\n",
        "        # model fitting\n",
        "        model.fit(p_train, q_train, verbose=1, epochs=5) #\n",
        "        # prediction on the test set\n",
        "        qhat = model.predict(p_test)\n",
        "        # round probabilities to class labels\n",
        "        qhat = qhat.round()\n",
        "        acc = accuracy_score(q_test, qhat)\n",
        "        # result store\n",
        "        print('>%.3f' % acc)\n",
        "        results.append(acc)\n",
        "    return results\n",
        "\n",
        "results = evaluate_model(X_train, y_train)\n",
        "# summarizing performance\n",
        "print('Accuracy: %.3f (%.3f)' % (mean(results), std(results)))"
      ],
      "metadata": {
        "id": "fdDudL9Vs_Aw",
        "colab": {
          "base_uri": "https://localhost:8080/"
        },
        "outputId": "cc960b24-157e-40a7-a8a9-e85da41afaad"
      },
      "execution_count": 22,
      "outputs": [
        {
          "output_type": "stream",
          "name": "stdout",
          "text": [
            "Epoch 1/5\n",
            "7105/7105 [==============================] - 16s 2ms/step - loss: 0.1953\n",
            "Epoch 2/5\n",
            "7105/7105 [==============================] - 16s 2ms/step - loss: 0.1708\n",
            "Epoch 3/5\n",
            "7105/7105 [==============================] - 16s 2ms/step - loss: 0.1696\n",
            "Epoch 4/5\n",
            "7105/7105 [==============================] - 16s 2ms/step - loss: 0.1692\n",
            "Epoch 5/5\n",
            "7105/7105 [==============================] - 15s 2ms/step - loss: 0.1691\n",
            "790/790 [==============================] - 1s 1ms/step\n",
            ">0.893\n",
            "Epoch 1/5\n",
            "7105/7105 [==============================] - 17s 2ms/step - loss: 0.1865\n",
            "Epoch 2/5\n",
            "7105/7105 [==============================] - 17s 2ms/step - loss: 0.1706\n",
            "Epoch 3/5\n",
            "7105/7105 [==============================] - 16s 2ms/step - loss: 0.1694\n",
            "Epoch 4/5\n",
            "7105/7105 [==============================] - 15s 2ms/step - loss: 0.1688\n",
            "Epoch 5/5\n",
            "7105/7105 [==============================] - 15s 2ms/step - loss: 0.1684\n",
            "790/790 [==============================] - 1s 1ms/step\n",
            ">0.886\n",
            "Epoch 1/5\n",
            "7105/7105 [==============================] - 16s 2ms/step - loss: 0.1822\n",
            "Epoch 2/5\n",
            "7105/7105 [==============================] - 15s 2ms/step - loss: 0.1710\n",
            "Epoch 3/5\n",
            "7105/7105 [==============================] - 15s 2ms/step - loss: 0.1699\n",
            "Epoch 4/5\n",
            "7105/7105 [==============================] - 16s 2ms/step - loss: 0.1695\n",
            "Epoch 5/5\n",
            "7105/7105 [==============================] - 15s 2ms/step - loss: 0.1691\n",
            "790/790 [==============================] - 1s 1ms/step\n",
            ">0.888\n",
            "Epoch 1/5\n",
            "7105/7105 [==============================] - 15s 2ms/step - loss: 0.1794\n",
            "Epoch 2/5\n",
            "7105/7105 [==============================] - 15s 2ms/step - loss: 0.1703\n",
            "Epoch 3/5\n",
            "7105/7105 [==============================] - 15s 2ms/step - loss: 0.1694\n",
            "Epoch 4/5\n",
            "7105/7105 [==============================] - 15s 2ms/step - loss: 0.1688\n",
            "Epoch 5/5\n",
            "7105/7105 [==============================] - 15s 2ms/step - loss: 0.1685\n",
            "790/790 [==============================] - 1s 1ms/step\n",
            ">0.888\n",
            "Epoch 1/5\n",
            "7105/7105 [==============================] - 16s 2ms/step - loss: 0.1858\n",
            "Epoch 2/5\n",
            "7105/7105 [==============================] - 16s 2ms/step - loss: 0.1698\n",
            "Epoch 3/5\n",
            "7105/7105 [==============================] - 15s 2ms/step - loss: 0.1685\n",
            "Epoch 4/5\n",
            "7105/7105 [==============================] - 15s 2ms/step - loss: 0.1680\n",
            "Epoch 5/5\n",
            "7105/7105 [==============================] - 18s 3ms/step - loss: 0.1678\n",
            "790/790 [==============================] - 1s 1ms/step\n",
            ">0.887\n",
            "Epoch 1/5\n",
            "7105/7105 [==============================] - 16s 2ms/step - loss: 0.1767\n",
            "Epoch 2/5\n",
            "7105/7105 [==============================] - 15s 2ms/step - loss: 0.1705\n",
            "Epoch 3/5\n",
            "7105/7105 [==============================] - 19s 3ms/step - loss: 0.1695\n",
            "Epoch 4/5\n",
            "7105/7105 [==============================] - 15s 2ms/step - loss: 0.1688\n",
            "Epoch 5/5\n",
            "7105/7105 [==============================] - 15s 2ms/step - loss: 0.1685\n",
            "790/790 [==============================] - 1s 1ms/step\n",
            ">0.888\n",
            "Epoch 1/5\n",
            "7105/7105 [==============================] - 15s 2ms/step - loss: 0.1776\n",
            "Epoch 2/5\n",
            "7105/7105 [==============================] - 15s 2ms/step - loss: 0.1704\n",
            "Epoch 3/5\n",
            "7105/7105 [==============================] - 15s 2ms/step - loss: 0.1694\n",
            "Epoch 4/5\n",
            "7105/7105 [==============================] - 15s 2ms/step - loss: 0.1688\n",
            "Epoch 5/5\n",
            "7105/7105 [==============================] - 15s 2ms/step - loss: 0.1683\n",
            "790/790 [==============================] - 1s 1ms/step\n",
            ">0.888\n",
            "Epoch 1/5\n",
            "7105/7105 [==============================] - 16s 2ms/step - loss: 0.1794\n",
            "Epoch 2/5\n",
            "7105/7105 [==============================] - 15s 2ms/step - loss: 0.1716\n",
            "Epoch 3/5\n",
            "7105/7105 [==============================] - 15s 2ms/step - loss: 0.1703\n",
            "Epoch 4/5\n",
            "7105/7105 [==============================] - 15s 2ms/step - loss: 0.1695\n",
            "Epoch 5/5\n",
            "7105/7105 [==============================] - 15s 2ms/step - loss: 0.1691\n",
            "790/790 [==============================] - 1s 1ms/step\n",
            ">0.891\n",
            "Epoch 1/5\n",
            "7105/7105 [==============================] - 18s 2ms/step - loss: 0.1790\n",
            "Epoch 2/5\n",
            "7105/7105 [==============================] - 15s 2ms/step - loss: 0.1707\n",
            "Epoch 3/5\n",
            "7105/7105 [==============================] - 15s 2ms/step - loss: 0.1694\n",
            "Epoch 4/5\n",
            "7105/7105 [==============================] - 15s 2ms/step - loss: 0.1687\n",
            "Epoch 5/5\n",
            "7105/7105 [==============================] - 16s 2ms/step - loss: 0.1683\n",
            "790/790 [==============================] - 1s 2ms/step\n",
            ">0.889\n",
            "Epoch 1/5\n",
            "7105/7105 [==============================] - 16s 2ms/step - loss: 0.1936\n",
            "Epoch 2/5\n",
            "7105/7105 [==============================] - 15s 2ms/step - loss: 0.1708\n",
            "Epoch 3/5\n",
            "7105/7105 [==============================] - 15s 2ms/step - loss: 0.1695\n",
            "Epoch 4/5\n",
            "7105/7105 [==============================] - 16s 2ms/step - loss: 0.1690\n",
            "Epoch 5/5\n",
            "7105/7105 [==============================] - 15s 2ms/step - loss: 0.1687\n",
            "790/790 [==============================] - 1s 1ms/step\n",
            ">0.889\n",
            "Epoch 1/5\n",
            "7105/7105 [==============================] - 16s 2ms/step - loss: 0.1828\n",
            "Epoch 2/5\n",
            "7105/7105 [==============================] - 15s 2ms/step - loss: 0.1700\n",
            "Epoch 3/5\n",
            "7105/7105 [==============================] - 15s 2ms/step - loss: 0.1688\n",
            "Epoch 4/5\n",
            "7105/7105 [==============================] - 16s 2ms/step - loss: 0.1684\n",
            "Epoch 5/5\n",
            "7105/7105 [==============================] - 15s 2ms/step - loss: 0.1681\n",
            "790/790 [==============================] - 1s 1ms/step\n",
            ">0.887\n",
            "Epoch 1/5\n",
            "7105/7105 [==============================] - 16s 2ms/step - loss: 0.1864\n",
            "Epoch 2/5\n",
            "7105/7105 [==============================] - 16s 2ms/step - loss: 0.1706\n",
            "Epoch 3/5\n",
            "7105/7105 [==============================] - 18s 3ms/step - loss: 0.1695\n",
            "Epoch 4/5\n",
            "7105/7105 [==============================] - 16s 2ms/step - loss: 0.1688\n",
            "Epoch 5/5\n",
            "7105/7105 [==============================] - 15s 2ms/step - loss: 0.1684\n",
            "790/790 [==============================] - 1s 1ms/step\n",
            ">0.886\n",
            "Epoch 1/5\n",
            "7105/7105 [==============================] - 16s 2ms/step - loss: 0.1809\n",
            "Epoch 2/5\n",
            "7105/7105 [==============================] - 15s 2ms/step - loss: 0.1706\n",
            "Epoch 3/5\n",
            "7105/7105 [==============================] - 16s 2ms/step - loss: 0.1696\n",
            "Epoch 4/5\n",
            "7105/7105 [==============================] - 16s 2ms/step - loss: 0.1690\n",
            "Epoch 5/5\n",
            "7105/7105 [==============================] - 19s 3ms/step - loss: 0.1688\n",
            "790/790 [==============================] - 1s 1ms/step\n",
            ">0.891\n",
            "Epoch 1/5\n",
            "7105/7105 [==============================] - 16s 2ms/step - loss: 0.1881\n",
            "Epoch 2/5\n",
            "7105/7105 [==============================] - 15s 2ms/step - loss: 0.1714\n",
            "Epoch 3/5\n",
            "7105/7105 [==============================] - 15s 2ms/step - loss: 0.1702\n",
            "Epoch 4/5\n",
            "7105/7105 [==============================] - 15s 2ms/step - loss: 0.1697\n",
            "Epoch 5/5\n",
            "7105/7105 [==============================] - 16s 2ms/step - loss: 0.1692\n",
            "790/790 [==============================] - 1s 1ms/step\n",
            ">0.891\n",
            "Epoch 1/5\n",
            "7105/7105 [==============================] - 16s 2ms/step - loss: 0.1789\n",
            "Epoch 2/5\n",
            "7105/7105 [==============================] - 16s 2ms/step - loss: 0.1709\n",
            "Epoch 3/5\n",
            "7105/7105 [==============================] - 15s 2ms/step - loss: 0.1695\n",
            "Epoch 4/5\n",
            "7105/7105 [==============================] - 15s 2ms/step - loss: 0.1690\n",
            "Epoch 5/5\n",
            "7105/7105 [==============================] - 18s 3ms/step - loss: 0.1688\n",
            "790/790 [==============================] - 1s 1ms/step\n",
            ">0.892\n",
            "Epoch 1/5\n",
            "7105/7105 [==============================] - 16s 2ms/step - loss: 0.1776\n",
            "Epoch 2/5\n",
            "7105/7105 [==============================] - 15s 2ms/step - loss: 0.1698\n",
            "Epoch 3/5\n",
            "7105/7105 [==============================] - 15s 2ms/step - loss: 0.1687\n",
            "Epoch 4/5\n",
            "7105/7105 [==============================] - 15s 2ms/step - loss: 0.1683\n",
            "Epoch 5/5\n",
            "7105/7105 [==============================] - 15s 2ms/step - loss: 0.1681\n",
            "790/790 [==============================] - 1s 1ms/step\n",
            ">0.887\n",
            "Epoch 1/5\n",
            "7105/7105 [==============================] - 15s 2ms/step - loss: 0.1771\n",
            "Epoch 2/5\n",
            "7105/7105 [==============================] - 16s 2ms/step - loss: 0.1701\n",
            "Epoch 3/5\n",
            "7105/7105 [==============================] - 16s 2ms/step - loss: 0.1692\n",
            "Epoch 4/5\n",
            "7105/7105 [==============================] - 16s 2ms/step - loss: 0.1689\n",
            "Epoch 5/5\n",
            "7105/7105 [==============================] - 15s 2ms/step - loss: 0.1688\n",
            "790/790 [==============================] - 1s 1ms/step\n",
            ">0.888\n",
            "Epoch 1/5\n",
            "7105/7105 [==============================] - 16s 2ms/step - loss: 0.1974\n",
            "Epoch 2/5\n",
            "7105/7105 [==============================] - 16s 2ms/step - loss: 0.1712\n",
            "Epoch 3/5\n",
            "7105/7105 [==============================] - 15s 2ms/step - loss: 0.1700\n",
            "Epoch 4/5\n",
            "7105/7105 [==============================] - 16s 2ms/step - loss: 0.1695\n",
            "Epoch 5/5\n",
            "7105/7105 [==============================] - 16s 2ms/step - loss: 0.1692\n",
            "790/790 [==============================] - 1s 1ms/step\n",
            ">0.891\n",
            "Epoch 1/5\n",
            "7105/7105 [==============================] - 19s 3ms/step - loss: 0.1763\n",
            "Epoch 2/5\n",
            "7105/7105 [==============================] - 16s 2ms/step - loss: 0.1704\n",
            "Epoch 3/5\n",
            "7105/7105 [==============================] - 17s 2ms/step - loss: 0.1693\n",
            "Epoch 4/5\n",
            "7105/7105 [==============================] - 16s 2ms/step - loss: 0.1689\n",
            "Epoch 5/5\n",
            "7105/7105 [==============================] - 16s 2ms/step - loss: 0.1685\n",
            "790/790 [==============================] - 1s 1ms/step\n",
            ">0.889\n",
            "Epoch 1/5\n",
            "7105/7105 [==============================] - 17s 2ms/step - loss: 0.1857\n",
            "Epoch 2/5\n",
            "7105/7105 [==============================] - 16s 2ms/step - loss: 0.1706\n",
            "Epoch 3/5\n",
            "7105/7105 [==============================] - 17s 2ms/step - loss: 0.1697\n",
            "Epoch 4/5\n",
            "7105/7105 [==============================] - 17s 2ms/step - loss: 0.1692\n",
            "Epoch 5/5\n",
            "7105/7105 [==============================] - 16s 2ms/step - loss: 0.1689\n",
            "790/790 [==============================] - 1s 1ms/step\n",
            ">0.886\n",
            "Epoch 1/5\n",
            "7105/7105 [==============================] - 16s 2ms/step - loss: 0.1841\n",
            "Epoch 2/5\n",
            "7105/7105 [==============================] - 16s 2ms/step - loss: 0.1698\n",
            "Epoch 3/5\n",
            "7105/7105 [==============================] - 16s 2ms/step - loss: 0.1691\n",
            "Epoch 4/5\n",
            "7105/7105 [==============================] - 17s 2ms/step - loss: 0.1688\n",
            "Epoch 5/5\n",
            "7105/7105 [==============================] - 18s 3ms/step - loss: 0.1686\n",
            "790/790 [==============================] - 1s 1ms/step\n",
            ">0.889\n",
            "Epoch 1/5\n",
            "7105/7105 [==============================] - 17s 2ms/step - loss: 0.1811\n",
            "Epoch 2/5\n",
            "7105/7105 [==============================] - 16s 2ms/step - loss: 0.1701\n",
            "Epoch 3/5\n",
            "7105/7105 [==============================] - 17s 2ms/step - loss: 0.1691\n",
            "Epoch 4/5\n",
            "7105/7105 [==============================] - 16s 2ms/step - loss: 0.1686\n",
            "Epoch 5/5\n",
            "7105/7105 [==============================] - 16s 2ms/step - loss: 0.1684\n",
            "790/790 [==============================] - 1s 2ms/step\n",
            ">0.891\n",
            "Epoch 1/5\n",
            "7105/7105 [==============================] - 18s 2ms/step - loss: 0.1749\n",
            "Epoch 2/5\n",
            "7105/7105 [==============================] - 17s 2ms/step - loss: 0.1698\n",
            "Epoch 3/5\n",
            "7105/7105 [==============================] - 17s 2ms/step - loss: 0.1685\n",
            "Epoch 4/5\n",
            "7105/7105 [==============================] - 18s 2ms/step - loss: 0.1680\n",
            "Epoch 5/5\n",
            "7105/7105 [==============================] - 17s 2ms/step - loss: 0.1678\n",
            "790/790 [==============================] - 1s 1ms/step\n",
            ">0.885\n",
            "Epoch 1/5\n",
            "7105/7105 [==============================] - 17s 2ms/step - loss: 0.1755\n",
            "Epoch 2/5\n",
            "7105/7105 [==============================] - 17s 2ms/step - loss: 0.1699\n",
            "Epoch 3/5\n",
            "7105/7105 [==============================] - 19s 3ms/step - loss: 0.1688\n",
            "Epoch 4/5\n",
            "7105/7105 [==============================] - 16s 2ms/step - loss: 0.1684\n",
            "Epoch 5/5\n",
            "7105/7105 [==============================] - 16s 2ms/step - loss: 0.1680\n",
            "790/790 [==============================] - 1s 2ms/step\n",
            ">0.889\n",
            "Epoch 1/5\n",
            "7105/7105 [==============================] - 17s 2ms/step - loss: 0.1877\n",
            "Epoch 2/5\n",
            "7105/7105 [==============================] - 17s 2ms/step - loss: 0.1703\n",
            "Epoch 3/5\n",
            "7105/7105 [==============================] - 16s 2ms/step - loss: 0.1692\n",
            "Epoch 4/5\n",
            "7105/7105 [==============================] - 16s 2ms/step - loss: 0.1687\n",
            "Epoch 5/5\n",
            "7105/7105 [==============================] - 17s 2ms/step - loss: 0.1684\n",
            "790/790 [==============================] - 1s 1ms/step\n",
            ">0.888\n",
            "Epoch 1/5\n",
            "7105/7105 [==============================] - 16s 2ms/step - loss: 0.1771\n",
            "Epoch 2/5\n",
            "7105/7105 [==============================] - 16s 2ms/step - loss: 0.1707\n",
            "Epoch 3/5\n",
            "7105/7105 [==============================] - 17s 2ms/step - loss: 0.1699\n",
            "Epoch 4/5\n",
            "7105/7105 [==============================] - 16s 2ms/step - loss: 0.1694\n",
            "Epoch 5/5\n",
            "7105/7105 [==============================] - 15s 2ms/step - loss: 0.1689\n",
            "790/790 [==============================] - 1s 1ms/step\n",
            ">0.892\n",
            "Epoch 1/5\n",
            "7105/7105 [==============================] - 16s 2ms/step - loss: 0.1954\n",
            "Epoch 2/5\n",
            "7105/7105 [==============================] - 19s 3ms/step - loss: 0.1704\n",
            "Epoch 3/5\n",
            "7105/7105 [==============================] - 16s 2ms/step - loss: 0.1692\n",
            "Epoch 4/5\n",
            "7105/7105 [==============================] - 16s 2ms/step - loss: 0.1686\n",
            "Epoch 5/5\n",
            "7105/7105 [==============================] - 16s 2ms/step - loss: 0.1683\n",
            "790/790 [==============================] - 1s 1ms/step\n",
            ">0.889\n",
            "Epoch 1/5\n",
            "7105/7105 [==============================] - 17s 2ms/step - loss: 0.1797\n",
            "Epoch 2/5\n",
            "7105/7105 [==============================] - 16s 2ms/step - loss: 0.1703\n",
            "Epoch 3/5\n",
            "7105/7105 [==============================] - 17s 2ms/step - loss: 0.1693\n",
            "Epoch 4/5\n",
            "7105/7105 [==============================] - 17s 2ms/step - loss: 0.1688\n",
            "Epoch 5/5\n",
            "7105/7105 [==============================] - 16s 2ms/step - loss: 0.1685\n",
            "790/790 [==============================] - 1s 1ms/step\n",
            ">0.889\n",
            "Epoch 1/5\n",
            "7105/7105 [==============================] - 17s 2ms/step - loss: 0.1812\n",
            "Epoch 2/5\n",
            "7105/7105 [==============================] - 16s 2ms/step - loss: 0.1701\n",
            "Epoch 3/5\n",
            "7105/7105 [==============================] - 16s 2ms/step - loss: 0.1691\n",
            "Epoch 4/5\n",
            "7105/7105 [==============================] - 16s 2ms/step - loss: 0.1686\n",
            "Epoch 5/5\n",
            "7105/7105 [==============================] - 18s 2ms/step - loss: 0.1684\n",
            "790/790 [==============================] - 2s 2ms/step\n",
            ">0.890\n",
            "Epoch 1/5\n",
            "7105/7105 [==============================] - 17s 2ms/step - loss: 0.1845\n",
            "Epoch 2/5\n",
            "7105/7105 [==============================] - 16s 2ms/step - loss: 0.1715\n",
            "Epoch 3/5\n",
            "7105/7105 [==============================] - 16s 2ms/step - loss: 0.1703\n",
            "Epoch 4/5\n",
            "7105/7105 [==============================] - 16s 2ms/step - loss: 0.1699\n",
            "Epoch 5/5\n",
            "7105/7105 [==============================] - 16s 2ms/step - loss: 0.1694\n",
            "790/790 [==============================] - 1s 1ms/step\n",
            ">0.889\n",
            "Accuracy: 0.889 (0.002)\n"
          ]
        }
      ]
    },
    {
      "cell_type": "code",
      "source": [],
      "metadata": {
        "id": "A25BWesBtFmT"
      },
      "execution_count": 22,
      "outputs": []
    }
  ],
  "metadata": {
    "colab": {
      "provenance": []
    },
    "kernelspec": {
      "display_name": "Python 3",
      "name": "python3"
    },
    "language_info": {
      "name": "python"
    }
  },
  "nbformat": 4,
  "nbformat_minor": 0
}